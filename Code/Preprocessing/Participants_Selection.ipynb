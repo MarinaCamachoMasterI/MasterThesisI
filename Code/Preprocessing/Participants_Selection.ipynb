{
 "cells": [
  {
   "cell_type": "markdown",
   "id": "e9645c44",
   "metadata": {},
   "source": [
    "# Participants Selection"
   ]
  },
  {
   "cell_type": "code",
   "execution_count": 8,
   "id": "871ef6e1",
   "metadata": {},
   "outputs": [],
   "source": [
    "# Import libraries\n",
    "import numpy as np\n",
    "import pandas as pd\n",
    "import csv\n",
    "from datetime import datetime"
   ]
  },
  {
   "cell_type": "code",
   "execution_count": 9,
   "id": "38726fa7",
   "metadata": {},
   "outputs": [],
   "source": [
    "# File containing all types of codes:\n",
    "dates = pd.read_csv(\"/Users/marinacamacho/Desktop/Master_I/Raw_Data/f.41280_ukbb.csv\",delimiter=\"\\,\")\n",
    "codes = pd.read_csv(\"/Users/marinacamacho/Desktop/Master_I/Raw_Data/f.41270_ukbb.csv\",delimiter=\"\\,\")"
   ]
  },
  {
   "cell_type": "code",
   "execution_count": 10,
   "id": "07fdada6",
   "metadata": {},
   "outputs": [],
   "source": [
    "del codes['Unnamed: 0']\n",
    "del dates['Unnamed: 0']"
   ]
  },
  {
   "cell_type": "code",
   "execution_count": 11,
   "id": "acf77012",
   "metadata": {},
   "outputs": [],
   "source": [
    "Healthy = pd.DataFrame()\n",
    "Healthy['eid'] = codes[pd.isna(codes['41270-0.0'])]['eid']"
   ]
  },
  {
   "cell_type": "code",
   "execution_count": 12,
   "id": "3ca1ba03",
   "metadata": {},
   "outputs": [],
   "source": [
    "Healthy.to_csv(r'/Users/marinacamacho/Desktop/Master_I/Participants_Selection/Healthy_Participants.csv', index = False, header=True)"
   ]
  },
  {
   "cell_type": "code",
   "execution_count": 13,
   "id": "22cac129",
   "metadata": {},
   "outputs": [],
   "source": [
    "Depression = ['F32','F33']\n",
    "CVD = ['F01','I20','I21','I22','I23','I24','I25','I50','I6']\n",
    "Diabetes = ['E100','E101','E102','E103','E104','E105','E106','E107','E108','E109','E110',\n",
    "            'E111','E112','E113','E114','E115','E116','E117','E118','E119','E121','E123',\n",
    "            'E125','E128','E129','E130','E131','E132','E133','E134','E134','E135','E136',\n",
    "            'E137','E138','E139','E140','E141','E142','E143','E144','E145','E146','E147','E148','E149']"
   ]
  },
  {
   "cell_type": "code",
   "execution_count": 14,
   "id": "db52c432",
   "metadata": {},
   "outputs": [],
   "source": [
    "codes_dis = [Depression,CVD,Diabetes]\n",
    "names_dis = ['Depression','CVD','Diabetes']\n",
    "dataframe_disease = {\"eid\":[], \"code\":[], \"date\":[]}"
   ]
  },
  {
   "cell_type": "code",
   "execution_count": 15,
   "id": "13717ee0",
   "metadata": {},
   "outputs": [
    {
     "data": {
      "text/plain": [
       "3"
      ]
     },
     "execution_count": 15,
     "metadata": {},
     "output_type": "execute_result"
    }
   ],
   "source": [
    "len(names_dis)"
   ]
  },
  {
   "cell_type": "code",
   "execution_count": 16,
   "id": "20db4d2d",
   "metadata": {},
   "outputs": [
    {
     "data": {
      "text/plain": [
       "((502481, 224), (502481, 224))"
      ]
     },
     "execution_count": 16,
     "metadata": {},
     "output_type": "execute_result"
    }
   ],
   "source": [
    "codes.shape, dates.shape"
   ]
  },
  {
   "cell_type": "code",
   "execution_count": 17,
   "id": "500dab2e",
   "metadata": {},
   "outputs": [],
   "source": [
    "# Iterate over codes and names for diseases\n",
    "for x in range(0,len(codes_dis)):\n",
    "\n",
    "    # Get disease codes and names for current iteration\n",
    "    my_list = codes_dis[x]\n",
    "    disease_name = names_dis[x]\n",
    "\n",
    "    # Create a mask to filter rows that contain disease codes\n",
    "    mask = codes.applymap(lambda x: x.startswith(tuple(my_list)) if isinstance(x, str) else False)\n",
    "    # Apply the mask to get a filtered version of 'codes' dataframe\n",
    "    codes_n = codes[mask.any(axis=1)]\n",
    "\n",
    "    # Filter 'dates' dataframe to include only entries present in 'codes_n'\n",
    "    dates_n = dates.loc[dates['eid'].isin(codes_n['eid'])].sort_values(by=['eid']).reset_index(drop=True)\n",
    "    # Filter 'codes_n' similarly\n",
    "    codes_n = codes_n.loc[codes_n['eid'].isin(dates_n['eid'])].sort_values(by=['eid']).reset_index(drop=True)\n",
    "\n",
    "    # Save filtered dataframes to csv\n",
    "    codes_n.to_csv(r'codes_n.csv', index = False, header=True)\n",
    "    dates_n.to_csv(r'dates_n.csv', index = False, header=True)\n",
    "\n",
    "    # Specify disease code prefixes\n",
    "    code_prefixes = my_list\n",
    "\n",
    "    # create an empty dictionary to store the information\n",
    "    data = {}\n",
    "\n",
    "    # Read the disease codes file\n",
    "    with open(\"codes_n.csv\", \"r\") as f:\n",
    "        reader = csv.reader(f)\n",
    "        headers = next(reader)  # save the header row\n",
    "\n",
    "        for row in reader:\n",
    "            eid = row[0]  # get the eid\n",
    "            for i in range(1, len(row)):\n",
    "                code = row[i]\n",
    "                \n",
    "                # If code starts with the specified prefixes, add it to the dictionary\n",
    "                if code and any(code.startswith(prefix) for prefix in code_prefixes):\n",
    "                    if eid not in data:\n",
    "                        data[eid] = {}\n",
    "                    data[eid][headers[i]] = {\"code\": disease_name} \n",
    "    \n",
    "    # Get list of eids\n",
    "    rows = list(pd.DataFrame(data).columns)\n",
    "    dates_n = dates_n.set_index(['eid'])\n",
    "    \n",
    "    # Add date information for each eid and disease code\n",
    "    for row in rows:\n",
    "        for col in range(0,pd.DataFrame(data[row]).shape[1]):\n",
    "            cols = list(data[row].keys())\n",
    "            cols_r = [s.replace('41270', '41280') for s in cols]\n",
    "            date = dates_n[cols_r[col]][int(row)]\n",
    "            data[row][cols[col]]['date'] = date  \n",
    "            \n",
    "    # Transform data dictionary into a pandas dataframe\n",
    "    df_data = pd.DataFrame(data)  \n",
    "    \n",
    "    # Find the earliest date for each disease for each eid\n",
    "    for colum in range(0,df_data.shape[1]):   \n",
    "        min_time = '2024-1-1'\n",
    "        min_time = datetime.strptime(min_time, '%Y-%m-%d').date()\n",
    "        eid=''\n",
    "        for row in range(0,df_data.shape[0]):\n",
    "            if str(df_data.values[row][colum]) != 'nan':\n",
    "                date_string = df_data.values[row][colum]['date']\n",
    "                date_object = datetime.strptime(date_string, '%Y-%m-%d').date()\n",
    "                if min_time > date_object:\n",
    "                    min_time = date_object\n",
    "                    eid = df_data.columns[colum]\n",
    "\n",
    "        # Store the earliest date along with corresponding eid and disease code            \n",
    "        dataframe_disease.setdefault(\"eid\", []).append(eid)\n",
    "        dataframe_disease.setdefault(\"code\", []).append(disease_name)\n",
    "        dataframe_disease.setdefault(\"date\", []).append(min_time)"
   ]
  },
  {
   "cell_type": "code",
   "execution_count": 18,
   "id": "454a9871",
   "metadata": {},
   "outputs": [
    {
     "data": {
      "text/plain": [
       "CVD           73539\n",
       "Diabetes      41296\n",
       "Depression    28281\n",
       "dtype: int64"
      ]
     },
     "execution_count": 18,
     "metadata": {},
     "output_type": "execute_result"
    }
   ],
   "source": [
    "pd.DataFrame(dataframe_disease['code']).value_counts()"
   ]
  },
  {
   "cell_type": "code",
   "execution_count": 19,
   "id": "45360399",
   "metadata": {},
   "outputs": [],
   "source": [
    "diseases = pd.DataFrame(dataframe_disease)"
   ]
  },
  {
   "cell_type": "code",
   "execution_count": 20,
   "id": "04decf41",
   "metadata": {},
   "outputs": [],
   "source": [
    "# To check that this is working correctly we can explore the \n",
    "# results of the first eid in teh datafame"
   ]
  },
  {
   "cell_type": "code",
   "execution_count": 21,
   "id": "5f774624",
   "metadata": {},
   "outputs": [
    {
     "data": {
      "text/html": [
       "<div>\n",
       "<style scoped>\n",
       "    .dataframe tbody tr th:only-of-type {\n",
       "        vertical-align: middle;\n",
       "    }\n",
       "\n",
       "    .dataframe tbody tr th {\n",
       "        vertical-align: top;\n",
       "    }\n",
       "\n",
       "    .dataframe thead th {\n",
       "        text-align: right;\n",
       "    }\n",
       "</style>\n",
       "<table border=\"1\" class=\"dataframe\">\n",
       "  <thead>\n",
       "    <tr style=\"text-align: right;\">\n",
       "      <th></th>\n",
       "      <th>eid</th>\n",
       "      <th>41280-0.0</th>\n",
       "      <th>41280-0.1</th>\n",
       "      <th>41280-0.2</th>\n",
       "      <th>41280-0.3</th>\n",
       "      <th>41280-0.4</th>\n",
       "      <th>41280-0.5</th>\n",
       "      <th>41280-0.6</th>\n",
       "      <th>41280-0.7</th>\n",
       "      <th>41280-0.8</th>\n",
       "      <th>...</th>\n",
       "      <th>41280-0.213</th>\n",
       "      <th>41280-0.214</th>\n",
       "      <th>41280-0.215</th>\n",
       "      <th>41280-0.216</th>\n",
       "      <th>41280-0.217</th>\n",
       "      <th>41280-0.218</th>\n",
       "      <th>41280-0.219</th>\n",
       "      <th>41280-0.220</th>\n",
       "      <th>41280-0.221</th>\n",
       "      <th>41280-0.222</th>\n",
       "    </tr>\n",
       "  </thead>\n",
       "  <tbody>\n",
       "    <tr>\n",
       "      <th>14</th>\n",
       "      <td>1000159</td>\n",
       "      <td>2007-11-14</td>\n",
       "      <td>2008-06-19</td>\n",
       "      <td>2009-10-08</td>\n",
       "      <td>2010-04-28</td>\n",
       "      <td>2003-09-03</td>\n",
       "      <td>2014-10-06</td>\n",
       "      <td>2010-05-11</td>\n",
       "      <td>2008-12-11</td>\n",
       "      <td>2012-04-11</td>\n",
       "      <td>...</td>\n",
       "      <td>NaN</td>\n",
       "      <td>NaN</td>\n",
       "      <td>NaN</td>\n",
       "      <td>NaN</td>\n",
       "      <td>NaN</td>\n",
       "      <td>NaN</td>\n",
       "      <td>NaN</td>\n",
       "      <td>NaN</td>\n",
       "      <td>NaN</td>\n",
       "      <td>NaN</td>\n",
       "    </tr>\n",
       "  </tbody>\n",
       "</table>\n",
       "<p>1 rows × 224 columns</p>\n",
       "</div>"
      ],
      "text/plain": [
       "        eid   41280-0.0   41280-0.1   41280-0.2   41280-0.3   41280-0.4  \\\n",
       "14  1000159  2007-11-14  2008-06-19  2009-10-08  2010-04-28  2003-09-03   \n",
       "\n",
       "     41280-0.5   41280-0.6   41280-0.7   41280-0.8  ... 41280-0.213  \\\n",
       "14  2014-10-06  2010-05-11  2008-12-11  2012-04-11  ...         NaN   \n",
       "\n",
       "   41280-0.214 41280-0.215 41280-0.216 41280-0.217 41280-0.218 41280-0.219  \\\n",
       "14         NaN         NaN         NaN         NaN         NaN         NaN   \n",
       "\n",
       "   41280-0.220 41280-0.221 41280-0.222  \n",
       "14         NaN         NaN         NaN  \n",
       "\n",
       "[1 rows x 224 columns]"
      ]
     },
     "execution_count": 21,
     "metadata": {},
     "output_type": "execute_result"
    }
   ],
   "source": [
    "dates.iloc[14:15]"
   ]
  },
  {
   "cell_type": "code",
   "execution_count": 22,
   "id": "62b1c408",
   "metadata": {},
   "outputs": [
    {
     "data": {
      "text/html": [
       "<div>\n",
       "<style scoped>\n",
       "    .dataframe tbody tr th:only-of-type {\n",
       "        vertical-align: middle;\n",
       "    }\n",
       "\n",
       "    .dataframe tbody tr th {\n",
       "        vertical-align: top;\n",
       "    }\n",
       "\n",
       "    .dataframe thead th {\n",
       "        text-align: right;\n",
       "    }\n",
       "</style>\n",
       "<table border=\"1\" class=\"dataframe\">\n",
       "  <thead>\n",
       "    <tr style=\"text-align: right;\">\n",
       "      <th></th>\n",
       "      <th>eid</th>\n",
       "      <th>41270-0.0</th>\n",
       "      <th>41270-0.1</th>\n",
       "      <th>41270-0.2</th>\n",
       "      <th>41270-0.3</th>\n",
       "      <th>41270-0.4</th>\n",
       "      <th>41270-0.5</th>\n",
       "      <th>41270-0.6</th>\n",
       "      <th>41270-0.7</th>\n",
       "      <th>41270-0.8</th>\n",
       "      <th>...</th>\n",
       "      <th>41270-0.213</th>\n",
       "      <th>41270-0.214</th>\n",
       "      <th>41270-0.215</th>\n",
       "      <th>41270-0.216</th>\n",
       "      <th>41270-0.217</th>\n",
       "      <th>41270-0.218</th>\n",
       "      <th>41270-0.219</th>\n",
       "      <th>41270-0.220</th>\n",
       "      <th>41270-0.221</th>\n",
       "      <th>41270-0.222</th>\n",
       "    </tr>\n",
       "  </thead>\n",
       "  <tbody>\n",
       "    <tr>\n",
       "      <th>14</th>\n",
       "      <td>1000159</td>\n",
       "      <td>D125</td>\n",
       "      <td>D128</td>\n",
       "      <td>F329</td>\n",
       "      <td>F410</td>\n",
       "      <td>F412</td>\n",
       "      <td>G473</td>\n",
       "      <td>I848</td>\n",
       "      <td>I849</td>\n",
       "      <td>J342</td>\n",
       "      <td>...</td>\n",
       "      <td>NaN</td>\n",
       "      <td>NaN</td>\n",
       "      <td>NaN</td>\n",
       "      <td>NaN</td>\n",
       "      <td>NaN</td>\n",
       "      <td>NaN</td>\n",
       "      <td>NaN</td>\n",
       "      <td>NaN</td>\n",
       "      <td>NaN</td>\n",
       "      <td>NaN</td>\n",
       "    </tr>\n",
       "  </tbody>\n",
       "</table>\n",
       "<p>1 rows × 224 columns</p>\n",
       "</div>"
      ],
      "text/plain": [
       "        eid 41270-0.0 41270-0.1 41270-0.2 41270-0.3 41270-0.4 41270-0.5  \\\n",
       "14  1000159      D125      D128      F329      F410      F412      G473   \n",
       "\n",
       "   41270-0.6 41270-0.7 41270-0.8  ... 41270-0.213 41270-0.214 41270-0.215  \\\n",
       "14      I848      I849      J342  ...         NaN         NaN         NaN   \n",
       "\n",
       "   41270-0.216 41270-0.217 41270-0.218 41270-0.219 41270-0.220 41270-0.221  \\\n",
       "14         NaN         NaN         NaN         NaN         NaN         NaN   \n",
       "\n",
       "   41270-0.222  \n",
       "14         NaN  \n",
       "\n",
       "[1 rows x 224 columns]"
      ]
     },
     "execution_count": 22,
     "metadata": {},
     "output_type": "execute_result"
    }
   ],
   "source": [
    "codes.iloc[14:15]"
   ]
  },
  {
   "cell_type": "code",
   "execution_count": 23,
   "id": "8d0f2706",
   "metadata": {},
   "outputs": [
    {
     "data": {
      "text/html": [
       "<div>\n",
       "<style scoped>\n",
       "    .dataframe tbody tr th:only-of-type {\n",
       "        vertical-align: middle;\n",
       "    }\n",
       "\n",
       "    .dataframe tbody tr th {\n",
       "        vertical-align: top;\n",
       "    }\n",
       "\n",
       "    .dataframe thead th {\n",
       "        text-align: right;\n",
       "    }\n",
       "</style>\n",
       "<table border=\"1\" class=\"dataframe\">\n",
       "  <thead>\n",
       "    <tr style=\"text-align: right;\">\n",
       "      <th></th>\n",
       "      <th>eid</th>\n",
       "      <th>code</th>\n",
       "      <th>date</th>\n",
       "    </tr>\n",
       "  </thead>\n",
       "  <tbody>\n",
       "    <tr>\n",
       "      <th>0</th>\n",
       "      <td>1000159</td>\n",
       "      <td>Depression</td>\n",
       "      <td>2009-10-08</td>\n",
       "    </tr>\n",
       "  </tbody>\n",
       "</table>\n",
       "</div>"
      ],
      "text/plain": [
       "       eid        code        date\n",
       "0  1000159  Depression  2009-10-08"
      ]
     },
     "execution_count": 23,
     "metadata": {},
     "output_type": "execute_result"
    }
   ],
   "source": [
    "diseases.head(1)"
   ]
  },
  {
   "cell_type": "code",
   "execution_count": 24,
   "id": "4d3e75d0",
   "metadata": {},
   "outputs": [
    {
     "data": {
      "text/html": [
       "<div>\n",
       "<style scoped>\n",
       "    .dataframe tbody tr th:only-of-type {\n",
       "        vertical-align: middle;\n",
       "    }\n",
       "\n",
       "    .dataframe tbody tr th {\n",
       "        vertical-align: top;\n",
       "    }\n",
       "\n",
       "    .dataframe thead th {\n",
       "        text-align: right;\n",
       "    }\n",
       "</style>\n",
       "<table border=\"1\" class=\"dataframe\">\n",
       "  <thead>\n",
       "    <tr style=\"text-align: right;\">\n",
       "      <th></th>\n",
       "      <th>eid</th>\n",
       "      <th>code</th>\n",
       "      <th>date</th>\n",
       "    </tr>\n",
       "  </thead>\n",
       "  <tbody>\n",
       "    <tr>\n",
       "      <th>0</th>\n",
       "      <td>1000028</td>\n",
       "      <td>CVD</td>\n",
       "      <td>1997-12-12</td>\n",
       "    </tr>\n",
       "    <tr>\n",
       "      <th>1</th>\n",
       "      <td>1000087</td>\n",
       "      <td>CVD</td>\n",
       "      <td>2015-12-12</td>\n",
       "    </tr>\n",
       "    <tr>\n",
       "      <th>2</th>\n",
       "      <td>1000087</td>\n",
       "      <td>Diabetes</td>\n",
       "      <td>2015-12-12</td>\n",
       "    </tr>\n",
       "    <tr>\n",
       "      <th>3</th>\n",
       "      <td>1000159</td>\n",
       "      <td>Depression</td>\n",
       "      <td>2009-10-08</td>\n",
       "    </tr>\n",
       "    <tr>\n",
       "      <th>4</th>\n",
       "      <td>1000302</td>\n",
       "      <td>Diabetes</td>\n",
       "      <td>2011-06-15</td>\n",
       "    </tr>\n",
       "    <tr>\n",
       "      <th>...</th>\n",
       "      <td>...</td>\n",
       "      <td>...</td>\n",
       "      <td>...</td>\n",
       "    </tr>\n",
       "    <tr>\n",
       "      <th>143111</th>\n",
       "      <td>6024768</td>\n",
       "      <td>Depression</td>\n",
       "      <td>2019-10-01</td>\n",
       "    </tr>\n",
       "    <tr>\n",
       "      <th>143112</th>\n",
       "      <td>6024784</td>\n",
       "      <td>CVD</td>\n",
       "      <td>2011-05-12</td>\n",
       "    </tr>\n",
       "    <tr>\n",
       "      <th>143113</th>\n",
       "      <td>6024795</td>\n",
       "      <td>Depression</td>\n",
       "      <td>2019-08-28</td>\n",
       "    </tr>\n",
       "    <tr>\n",
       "      <th>143114</th>\n",
       "      <td>6024795</td>\n",
       "      <td>CVD</td>\n",
       "      <td>2019-08-28</td>\n",
       "    </tr>\n",
       "    <tr>\n",
       "      <th>143115</th>\n",
       "      <td>6024795</td>\n",
       "      <td>Diabetes</td>\n",
       "      <td>2019-08-28</td>\n",
       "    </tr>\n",
       "  </tbody>\n",
       "</table>\n",
       "<p>143116 rows × 3 columns</p>\n",
       "</div>"
      ],
      "text/plain": [
       "            eid        code        date\n",
       "0       1000028         CVD  1997-12-12\n",
       "1       1000087         CVD  2015-12-12\n",
       "2       1000087    Diabetes  2015-12-12\n",
       "3       1000159  Depression  2009-10-08\n",
       "4       1000302    Diabetes  2011-06-15\n",
       "...         ...         ...         ...\n",
       "143111  6024768  Depression  2019-10-01\n",
       "143112  6024784         CVD  2011-05-12\n",
       "143113  6024795  Depression  2019-08-28\n",
       "143114  6024795         CVD  2019-08-28\n",
       "143115  6024795    Diabetes  2019-08-28\n",
       "\n",
       "[143116 rows x 3 columns]"
      ]
     },
     "execution_count": 24,
     "metadata": {},
     "output_type": "execute_result"
    }
   ],
   "source": [
    "# Sort the dataframe\n",
    "diseases = diseases.sort_values(by=['eid', 'date']).reset_index(drop=True); diseases"
   ]
  },
  {
   "cell_type": "code",
   "execution_count": 25,
   "id": "e7246ba3",
   "metadata": {},
   "outputs": [],
   "source": [
    "diseases.to_csv(r'participants_diseases_raw.csv', index = False, header=True)"
   ]
  },
  {
   "cell_type": "code",
   "execution_count": 26,
   "id": "43449536",
   "metadata": {},
   "outputs": [
    {
     "data": {
      "text/plain": [
       "(502481, 224)"
      ]
     },
     "execution_count": 26,
     "metadata": {},
     "output_type": "execute_result"
    }
   ],
   "source": [
    "codes.shape"
   ]
  },
  {
   "cell_type": "code",
   "execution_count": 27,
   "id": "399032f7",
   "metadata": {},
   "outputs": [
    {
     "data": {
      "text/plain": [
       "(143116, 3)"
      ]
     },
     "execution_count": 27,
     "metadata": {},
     "output_type": "execute_result"
    }
   ],
   "source": [
    "diseases.shape"
   ]
  },
  {
   "cell_type": "code",
   "execution_count": 28,
   "id": "acc4a081",
   "metadata": {},
   "outputs": [],
   "source": [
    "no_diseases = codes[~codes['eid'].astype(str).isin(diseases['eid'].astype(str))].sort_values(by=['eid'])"
   ]
  },
  {
   "cell_type": "code",
   "execution_count": 29,
   "id": "f9c11ab5",
   "metadata": {},
   "outputs": [],
   "source": [
    "pd.DataFrame(no_diseases['eid']).to_csv(r'no_diseases.csv', index = False, header=True)"
   ]
  },
  {
   "cell_type": "code",
   "execution_count": 30,
   "id": "61da34ed",
   "metadata": {},
   "outputs": [
    {
     "data": {
      "text/plain": [
       "(387090, 224)"
      ]
     },
     "execution_count": 30,
     "metadata": {},
     "output_type": "execute_result"
    }
   ],
   "source": [
    "no_diseases.shape"
   ]
  },
  {
   "cell_type": "code",
   "execution_count": 31,
   "id": "9f6554e3",
   "metadata": {},
   "outputs": [],
   "source": [
    "wide_diseases = diseases.pivot(index='eid', columns='code', values='date')\n",
    "wide_diseases.reset_index(inplace=True)"
   ]
  },
  {
   "cell_type": "code",
   "execution_count": 32,
   "id": "d416bcf5",
   "metadata": {},
   "outputs": [],
   "source": [
    "wide_diseases.to_csv(r'wide_diseases_raw.csv', index = False, header=True)"
   ]
  },
  {
   "cell_type": "code",
   "execution_count": 33,
   "id": "046f5603",
   "metadata": {},
   "outputs": [
    {
     "data": {
      "text/html": [
       "<div>\n",
       "<style scoped>\n",
       "    .dataframe tbody tr th:only-of-type {\n",
       "        vertical-align: middle;\n",
       "    }\n",
       "\n",
       "    .dataframe tbody tr th {\n",
       "        vertical-align: top;\n",
       "    }\n",
       "\n",
       "    .dataframe thead th {\n",
       "        text-align: right;\n",
       "    }\n",
       "</style>\n",
       "<table border=\"1\" class=\"dataframe\">\n",
       "  <thead>\n",
       "    <tr style=\"text-align: right;\">\n",
       "      <th>code</th>\n",
       "      <th>eid</th>\n",
       "      <th>CVD</th>\n",
       "      <th>Depression</th>\n",
       "      <th>Diabetes</th>\n",
       "    </tr>\n",
       "  </thead>\n",
       "  <tbody>\n",
       "    <tr>\n",
       "      <th>0</th>\n",
       "      <td>1000028</td>\n",
       "      <td>1997-12-12</td>\n",
       "      <td>NaN</td>\n",
       "      <td>NaN</td>\n",
       "    </tr>\n",
       "    <tr>\n",
       "      <th>1</th>\n",
       "      <td>1000087</td>\n",
       "      <td>2015-12-12</td>\n",
       "      <td>NaN</td>\n",
       "      <td>2015-12-12</td>\n",
       "    </tr>\n",
       "    <tr>\n",
       "      <th>2</th>\n",
       "      <td>1000159</td>\n",
       "      <td>NaN</td>\n",
       "      <td>2009-10-08</td>\n",
       "      <td>NaN</td>\n",
       "    </tr>\n",
       "    <tr>\n",
       "      <th>3</th>\n",
       "      <td>1000302</td>\n",
       "      <td>NaN</td>\n",
       "      <td>NaN</td>\n",
       "      <td>2011-06-15</td>\n",
       "    </tr>\n",
       "    <tr>\n",
       "      <th>4</th>\n",
       "      <td>1000430</td>\n",
       "      <td>NaN</td>\n",
       "      <td>NaN</td>\n",
       "      <td>2016-07-11</td>\n",
       "    </tr>\n",
       "    <tr>\n",
       "      <th>...</th>\n",
       "      <td>...</td>\n",
       "      <td>...</td>\n",
       "      <td>...</td>\n",
       "      <td>...</td>\n",
       "    </tr>\n",
       "    <tr>\n",
       "      <th>115386</th>\n",
       "      <td>6024702</td>\n",
       "      <td>2020-11-21</td>\n",
       "      <td>2000-03-06</td>\n",
       "      <td>NaN</td>\n",
       "    </tr>\n",
       "    <tr>\n",
       "      <th>115387</th>\n",
       "      <td>6024753</td>\n",
       "      <td>NaN</td>\n",
       "      <td>2011-09-24</td>\n",
       "      <td>NaN</td>\n",
       "    </tr>\n",
       "    <tr>\n",
       "      <th>115388</th>\n",
       "      <td>6024768</td>\n",
       "      <td>NaN</td>\n",
       "      <td>2019-10-01</td>\n",
       "      <td>NaN</td>\n",
       "    </tr>\n",
       "    <tr>\n",
       "      <th>115389</th>\n",
       "      <td>6024784</td>\n",
       "      <td>2011-05-12</td>\n",
       "      <td>NaN</td>\n",
       "      <td>NaN</td>\n",
       "    </tr>\n",
       "    <tr>\n",
       "      <th>115390</th>\n",
       "      <td>6024795</td>\n",
       "      <td>2019-08-28</td>\n",
       "      <td>2019-08-28</td>\n",
       "      <td>2019-08-28</td>\n",
       "    </tr>\n",
       "  </tbody>\n",
       "</table>\n",
       "<p>115391 rows × 4 columns</p>\n",
       "</div>"
      ],
      "text/plain": [
       "code        eid         CVD  Depression    Diabetes\n",
       "0       1000028  1997-12-12         NaN         NaN\n",
       "1       1000087  2015-12-12         NaN  2015-12-12\n",
       "2       1000159         NaN  2009-10-08         NaN\n",
       "3       1000302         NaN         NaN  2011-06-15\n",
       "4       1000430         NaN         NaN  2016-07-11\n",
       "...         ...         ...         ...         ...\n",
       "115386  6024702  2020-11-21  2000-03-06         NaN\n",
       "115387  6024753         NaN  2011-09-24         NaN\n",
       "115388  6024768         NaN  2019-10-01         NaN\n",
       "115389  6024784  2011-05-12         NaN         NaN\n",
       "115390  6024795  2019-08-28  2019-08-28  2019-08-28\n",
       "\n",
       "[115391 rows x 4 columns]"
      ]
     },
     "execution_count": 33,
     "metadata": {},
     "output_type": "execute_result"
    }
   ],
   "source": [
    "wide_diseases"
   ]
  },
  {
   "cell_type": "code",
   "execution_count": null,
   "id": "d925ebe9",
   "metadata": {},
   "outputs": [],
   "source": []
  },
  {
   "cell_type": "code",
   "execution_count": 34,
   "id": "4d1562ea",
   "metadata": {},
   "outputs": [],
   "source": [
    "var_temp = {'eid': 'eid',\n",
    "    '53-0.0': 'date_centre_0',\n",
    "    '53-1.0': 'date_centre_1'}\n",
    "date_centre_all = pd.read_csv('/Users/marinacamacho/Desktop/Master_I/Raw_Data/ukb46359.csv', usecols = var_temp.keys())\n",
    "date_centre_all = date_centre_all.rename(columns = var_temp).sort_values(by=['eid']).reset_index(drop=True)"
   ]
  },
  {
   "cell_type": "code",
   "execution_count": 35,
   "id": "94384e95",
   "metadata": {},
   "outputs": [],
   "source": [
    "date_centre_all.to_csv(r'Date_Centre.csv', index = False, header=True)"
   ]
  },
  {
   "cell_type": "code",
   "execution_count": 36,
   "id": "cba57560",
   "metadata": {},
   "outputs": [
    {
     "data": {
      "text/html": [
       "<div>\n",
       "<style scoped>\n",
       "    .dataframe tbody tr th:only-of-type {\n",
       "        vertical-align: middle;\n",
       "    }\n",
       "\n",
       "    .dataframe tbody tr th {\n",
       "        vertical-align: top;\n",
       "    }\n",
       "\n",
       "    .dataframe thead th {\n",
       "        text-align: right;\n",
       "    }\n",
       "</style>\n",
       "<table border=\"1\" class=\"dataframe\">\n",
       "  <thead>\n",
       "    <tr style=\"text-align: right;\">\n",
       "      <th></th>\n",
       "      <th>eid</th>\n",
       "      <th>date_centre_0</th>\n",
       "      <th>date_centre_1</th>\n",
       "    </tr>\n",
       "  </thead>\n",
       "  <tbody>\n",
       "    <tr>\n",
       "      <th>0</th>\n",
       "      <td>1000010</td>\n",
       "      <td>2010-02-25</td>\n",
       "      <td>NaN</td>\n",
       "    </tr>\n",
       "    <tr>\n",
       "      <th>1</th>\n",
       "      <td>1000028</td>\n",
       "      <td>2009-10-26</td>\n",
       "      <td>NaN</td>\n",
       "    </tr>\n",
       "    <tr>\n",
       "      <th>2</th>\n",
       "      <td>1000034</td>\n",
       "      <td>2009-05-13</td>\n",
       "      <td>NaN</td>\n",
       "    </tr>\n",
       "    <tr>\n",
       "      <th>3</th>\n",
       "      <td>1000045</td>\n",
       "      <td>2009-08-07</td>\n",
       "      <td>NaN</td>\n",
       "    </tr>\n",
       "    <tr>\n",
       "      <th>4</th>\n",
       "      <td>1000052</td>\n",
       "      <td>2009-01-05</td>\n",
       "      <td>NaN</td>\n",
       "    </tr>\n",
       "    <tr>\n",
       "      <th>...</th>\n",
       "      <td>...</td>\n",
       "      <td>...</td>\n",
       "      <td>...</td>\n",
       "    </tr>\n",
       "    <tr>\n",
       "      <th>502476</th>\n",
       "      <td>6024770</td>\n",
       "      <td>2009-09-12</td>\n",
       "      <td>NaN</td>\n",
       "    </tr>\n",
       "    <tr>\n",
       "      <th>502477</th>\n",
       "      <td>6024784</td>\n",
       "      <td>2008-10-23</td>\n",
       "      <td>NaN</td>\n",
       "    </tr>\n",
       "    <tr>\n",
       "      <th>502478</th>\n",
       "      <td>6024795</td>\n",
       "      <td>2008-04-22</td>\n",
       "      <td>NaN</td>\n",
       "    </tr>\n",
       "    <tr>\n",
       "      <th>502479</th>\n",
       "      <td>6024804</td>\n",
       "      <td>2009-07-07</td>\n",
       "      <td>NaN</td>\n",
       "    </tr>\n",
       "    <tr>\n",
       "      <th>502480</th>\n",
       "      <td>6024818</td>\n",
       "      <td>2010-02-20</td>\n",
       "      <td>NaN</td>\n",
       "    </tr>\n",
       "  </tbody>\n",
       "</table>\n",
       "<p>502481 rows × 3 columns</p>\n",
       "</div>"
      ],
      "text/plain": [
       "            eid date_centre_0 date_centre_1\n",
       "0       1000010    2010-02-25           NaN\n",
       "1       1000028    2009-10-26           NaN\n",
       "2       1000034    2009-05-13           NaN\n",
       "3       1000045    2009-08-07           NaN\n",
       "4       1000052    2009-01-05           NaN\n",
       "...         ...           ...           ...\n",
       "502476  6024770    2009-09-12           NaN\n",
       "502477  6024784    2008-10-23           NaN\n",
       "502478  6024795    2008-04-22           NaN\n",
       "502479  6024804    2009-07-07           NaN\n",
       "502480  6024818    2010-02-20           NaN\n",
       "\n",
       "[502481 rows x 3 columns]"
      ]
     },
     "execution_count": 36,
     "metadata": {},
     "output_type": "execute_result"
    }
   ],
   "source": [
    "date_centre_all"
   ]
  },
  {
   "cell_type": "code",
   "execution_count": 37,
   "id": "0f155fbb",
   "metadata": {},
   "outputs": [
    {
     "data": {
      "text/plain": [
       "True"
      ]
     },
     "execution_count": 37,
     "metadata": {},
     "output_type": "execute_result"
    }
   ],
   "source": [
    "date_centre = date_centre_all.loc[date_centre_all['eid'].astype(int).isin(wide_diseases['eid'].astype(int))].sort_values(by=['eid']).reset_index(drop=True)\n",
    "wide_diseases['visit0'] = date_centre['date_centre_0']\n",
    "wide_diseases['visit1'] = date_centre['date_centre_1']\n",
    "\n",
    "date_centre.shape[0]==wide_diseases.index.shape[0]"
   ]
  },
  {
   "cell_type": "code",
   "execution_count": 38,
   "id": "2c06af80",
   "metadata": {},
   "outputs": [],
   "source": [
    "# List of columns containing dates\n",
    "date_columns = list(set(wide_diseases.columns).difference(['eid']))\n",
    "\n",
    "# Convert elements in date columns to datetime objects\n",
    "for col in date_columns:\n",
    "    wide_diseases[col] = pd.to_datetime(wide_diseases[col])"
   ]
  },
  {
   "cell_type": "code",
   "execution_count": 39,
   "id": "c7f7c923",
   "metadata": {},
   "outputs": [
    {
     "data": {
      "text/html": [
       "<div>\n",
       "<style scoped>\n",
       "    .dataframe tbody tr th:only-of-type {\n",
       "        vertical-align: middle;\n",
       "    }\n",
       "\n",
       "    .dataframe tbody tr th {\n",
       "        vertical-align: top;\n",
       "    }\n",
       "\n",
       "    .dataframe thead th {\n",
       "        text-align: right;\n",
       "    }\n",
       "</style>\n",
       "<table border=\"1\" class=\"dataframe\">\n",
       "  <thead>\n",
       "    <tr style=\"text-align: right;\">\n",
       "      <th>code</th>\n",
       "      <th>eid</th>\n",
       "      <th>CVD</th>\n",
       "      <th>Depression</th>\n",
       "      <th>Diabetes</th>\n",
       "      <th>visit0</th>\n",
       "      <th>visit1</th>\n",
       "    </tr>\n",
       "  </thead>\n",
       "  <tbody>\n",
       "    <tr>\n",
       "      <th>0</th>\n",
       "      <td>1000028</td>\n",
       "      <td>1997-12-12</td>\n",
       "      <td>NaT</td>\n",
       "      <td>NaT</td>\n",
       "      <td>2009-10-26</td>\n",
       "      <td>NaT</td>\n",
       "    </tr>\n",
       "    <tr>\n",
       "      <th>1</th>\n",
       "      <td>1000087</td>\n",
       "      <td>2015-12-12</td>\n",
       "      <td>NaT</td>\n",
       "      <td>2015-12-12</td>\n",
       "      <td>2008-12-06</td>\n",
       "      <td>NaT</td>\n",
       "    </tr>\n",
       "    <tr>\n",
       "      <th>2</th>\n",
       "      <td>1000159</td>\n",
       "      <td>NaT</td>\n",
       "      <td>2009-10-08</td>\n",
       "      <td>NaT</td>\n",
       "      <td>2008-04-01</td>\n",
       "      <td>NaT</td>\n",
       "    </tr>\n",
       "    <tr>\n",
       "      <th>3</th>\n",
       "      <td>1000302</td>\n",
       "      <td>NaT</td>\n",
       "      <td>NaT</td>\n",
       "      <td>2011-06-15</td>\n",
       "      <td>2008-02-20</td>\n",
       "      <td>NaT</td>\n",
       "    </tr>\n",
       "    <tr>\n",
       "      <th>4</th>\n",
       "      <td>1000430</td>\n",
       "      <td>NaT</td>\n",
       "      <td>NaT</td>\n",
       "      <td>2016-07-11</td>\n",
       "      <td>2010-04-09</td>\n",
       "      <td>NaT</td>\n",
       "    </tr>\n",
       "    <tr>\n",
       "      <th>...</th>\n",
       "      <td>...</td>\n",
       "      <td>...</td>\n",
       "      <td>...</td>\n",
       "      <td>...</td>\n",
       "      <td>...</td>\n",
       "      <td>...</td>\n",
       "    </tr>\n",
       "    <tr>\n",
       "      <th>115386</th>\n",
       "      <td>6024702</td>\n",
       "      <td>2020-11-21</td>\n",
       "      <td>2000-03-06</td>\n",
       "      <td>NaT</td>\n",
       "      <td>2008-08-16</td>\n",
       "      <td>NaT</td>\n",
       "    </tr>\n",
       "    <tr>\n",
       "      <th>115387</th>\n",
       "      <td>6024753</td>\n",
       "      <td>NaT</td>\n",
       "      <td>2011-09-24</td>\n",
       "      <td>NaT</td>\n",
       "      <td>2007-12-15</td>\n",
       "      <td>NaT</td>\n",
       "    </tr>\n",
       "    <tr>\n",
       "      <th>115388</th>\n",
       "      <td>6024768</td>\n",
       "      <td>NaT</td>\n",
       "      <td>2019-10-01</td>\n",
       "      <td>NaT</td>\n",
       "      <td>2008-04-12</td>\n",
       "      <td>NaT</td>\n",
       "    </tr>\n",
       "    <tr>\n",
       "      <th>115389</th>\n",
       "      <td>6024784</td>\n",
       "      <td>2011-05-12</td>\n",
       "      <td>NaT</td>\n",
       "      <td>NaT</td>\n",
       "      <td>2008-10-23</td>\n",
       "      <td>NaT</td>\n",
       "    </tr>\n",
       "    <tr>\n",
       "      <th>115390</th>\n",
       "      <td>6024795</td>\n",
       "      <td>2019-08-28</td>\n",
       "      <td>2019-08-28</td>\n",
       "      <td>2019-08-28</td>\n",
       "      <td>2008-04-22</td>\n",
       "      <td>NaT</td>\n",
       "    </tr>\n",
       "  </tbody>\n",
       "</table>\n",
       "<p>115391 rows × 6 columns</p>\n",
       "</div>"
      ],
      "text/plain": [
       "code        eid        CVD Depression   Diabetes     visit0 visit1\n",
       "0       1000028 1997-12-12        NaT        NaT 2009-10-26    NaT\n",
       "1       1000087 2015-12-12        NaT 2015-12-12 2008-12-06    NaT\n",
       "2       1000159        NaT 2009-10-08        NaT 2008-04-01    NaT\n",
       "3       1000302        NaT        NaT 2011-06-15 2008-02-20    NaT\n",
       "4       1000430        NaT        NaT 2016-07-11 2010-04-09    NaT\n",
       "...         ...        ...        ...        ...        ...    ...\n",
       "115386  6024702 2020-11-21 2000-03-06        NaT 2008-08-16    NaT\n",
       "115387  6024753        NaT 2011-09-24        NaT 2007-12-15    NaT\n",
       "115388  6024768        NaT 2019-10-01        NaT 2008-04-12    NaT\n",
       "115389  6024784 2011-05-12        NaT        NaT 2008-10-23    NaT\n",
       "115390  6024795 2019-08-28 2019-08-28 2019-08-28 2008-04-22    NaT\n",
       "\n",
       "[115391 rows x 6 columns]"
      ]
     },
     "execution_count": 39,
     "metadata": {},
     "output_type": "execute_result"
    }
   ],
   "source": [
    "wide_diseases"
   ]
  },
  {
   "cell_type": "code",
   "execution_count": 40,
   "id": "26822e04",
   "metadata": {},
   "outputs": [],
   "source": [
    "wide_diseases.dropna(subset=['visit0']).to_csv(r'wide_diseases_dates1.csv', index = False, header=True)"
   ]
  },
  {
   "cell_type": "code",
   "execution_count": 41,
   "id": "1d9e9765",
   "metadata": {},
   "outputs": [
    {
     "data": {
      "text/plain": [
       "(115391, 6)"
      ]
     },
     "execution_count": 41,
     "metadata": {},
     "output_type": "execute_result"
    }
   ],
   "source": [
    "wide_diseases.dropna(subset=['visit0']).shape"
   ]
  },
  {
   "cell_type": "code",
   "execution_count": 42,
   "id": "e770f2d2",
   "metadata": {},
   "outputs": [],
   "source": [
    "wide_diseases.dropna(subset=['visit0','visit1']).to_csv(r'wide_diseases_dates2.csv', index = False, header=True)"
   ]
  },
  {
   "cell_type": "code",
   "execution_count": 43,
   "id": "d8848e08",
   "metadata": {
    "scrolled": true
   },
   "outputs": [
    {
     "data": {
      "text/plain": [
       "(4169, 6)"
      ]
     },
     "execution_count": 43,
     "metadata": {},
     "output_type": "execute_result"
    }
   ],
   "source": [
    "wide_diseases.dropna(subset=['visit0','visit1']).shape"
   ]
  },
  {
   "cell_type": "code",
   "execution_count": 44,
   "id": "a602b4a3",
   "metadata": {},
   "outputs": [
    {
     "data": {
      "text/plain": [
       "(115391, 6)"
      ]
     },
     "execution_count": 44,
     "metadata": {},
     "output_type": "execute_result"
    }
   ],
   "source": [
    "wide_diseases.shape"
   ]
  },
  {
   "cell_type": "code",
   "execution_count": null,
   "id": "14194dea",
   "metadata": {},
   "outputs": [],
   "source": []
  },
  {
   "cell_type": "code",
   "execution_count": 179,
   "id": "5e054509",
   "metadata": {},
   "outputs": [],
   "source": [
    "#wide_diseases"
   ]
  },
  {
   "cell_type": "code",
   "execution_count": 191,
   "id": "51972974",
   "metadata": {},
   "outputs": [],
   "source": [
    "#wide_diseases_visitD = wide_diseases[(wide_diseases['visit0'] <= wide_diseases['Depression'] - pd.DateOffset(years=year_diff)) | \n",
    "#                                    ((wide_diseases['visit0'] >= wide_diseases['CVD'] + pd.DateOffset(years=year_diff)) & not\n",
    "#                                    (wide_diseases['visit0'] >= wide_diseases['Depression'] + pd.DateOffset(years=year_diff))) |\n",
    "#                                    ((wide_diseases['visit0'] >= wide_diseases['Diabetes'] + pd.DateOffset(years=year_diff)) & not\n",
    "#                                    (wide_diseases['visit0'] >= wide_diseases['Depression'] + pd.DateOffset(years=year_diff)))]"
   ]
  },
  {
   "cell_type": "code",
   "execution_count": 192,
   "id": "03a33516",
   "metadata": {},
   "outputs": [],
   "source": [
    "# Set minimum year difference between visit0 and other columns\n",
    "year_diff = 1\n",
    "\n",
    "# Select rows where visit0 is smaller or equal to min_date minus year_diff\n",
    "condition1 = (wide_diseases['visit0'] <= wide_diseases['Depression'] - pd.DateOffset(years=year_diff))\n",
    "\n",
    "condition2_a = (wide_diseases['visit0'] >= wide_diseases['CVD'] + pd.DateOffset(years=year_diff))\n",
    "condition2_b = ~(wide_diseases['visit0'] >= wide_diseases['Depression'] + pd.DateOffset(years=year_diff))\n",
    "condition2 = condition2_a & condition2_b\n",
    "\n",
    "condition3_a = (wide_diseases['visit0'] >= wide_diseases['Diabetes'] + pd.DateOffset(years=year_diff))\n",
    "condition3_b = ~(wide_diseases['visit0'] >= wide_diseases['Depression'] + pd.DateOffset(years=year_diff))\n",
    "condition3 = condition3_a & condition3_b\n",
    "\n",
    "wide_diseases_visitD = wide_diseases[condition1 | condition2 | condition3]\n"
   ]
  },
  {
   "cell_type": "code",
   "execution_count": 193,
   "id": "ddce6b23",
   "metadata": {},
   "outputs": [],
   "source": [
    "wide_diseases_visitD.to_csv(r'PREDICTIVE_VISIT_DEPRESSION.csv', index = False, header=True)"
   ]
  },
  {
   "cell_type": "code",
   "execution_count": 194,
   "id": "e0dc81f1",
   "metadata": {},
   "outputs": [
    {
     "data": {
      "text/plain": [
       "(47725, 6)"
      ]
     },
     "execution_count": 194,
     "metadata": {},
     "output_type": "execute_result"
    }
   ],
   "source": [
    "wide_diseases_visitD.shape"
   ]
  },
  {
   "cell_type": "code",
   "execution_count": null,
   "id": "d19b22d5",
   "metadata": {},
   "outputs": [],
   "source": [
    "#wide_diseases"
   ]
  },
  {
   "cell_type": "code",
   "execution_count": 155,
   "id": "eda8fa26",
   "metadata": {},
   "outputs": [],
   "source": [
    "# Set minimum year difference between visit0 and other columns\n",
    "year_diff = 1\n",
    "\n",
    "# Get the columns containing dates (excluding eid, visit0, and visit1)\n",
    "date_columns = list(set(wide_diseases.columns).difference(['eid', 'visit0', 'visit1']))\n",
    "\n",
    "# Compute the minimum date across the other columns for each row\n",
    "max_date = wide_diseases[date_columns].max(axis=1)\n",
    "\n",
    "# Select rows where visit0 is smaller or equal to min_date minus year_diff\n",
    "wide_diseases_visit = wide_diseases[wide_diseases['visit0'] <= max_date - pd.DateOffset(years=year_diff)]"
   ]
  },
  {
   "cell_type": "code",
   "execution_count": 156,
   "id": "715ef3b0",
   "metadata": {},
   "outputs": [],
   "source": [
    "wide_diseases_visit.to_csv(r'PREDICTIVE_VISIT_ALL.csv', index = False, header=True)"
   ]
  },
  {
   "cell_type": "code",
   "execution_count": 157,
   "id": "e23dfd4b",
   "metadata": {},
   "outputs": [
    {
     "data": {
      "text/plain": [
       "(83794, 6)"
      ]
     },
     "execution_count": 157,
     "metadata": {},
     "output_type": "execute_result"
    }
   ],
   "source": [
    "wide_diseases_visit.shape"
   ]
  },
  {
   "cell_type": "code",
   "execution_count": 63,
   "id": "26df6d91",
   "metadata": {},
   "outputs": [],
   "source": [
    "#wide_diseases"
   ]
  },
  {
   "cell_type": "code",
   "execution_count": 71,
   "id": "10f12023",
   "metadata": {},
   "outputs": [],
   "source": [
    "# Set minimum year difference between visit0 and other columns\n",
    "year_diff = 1\n",
    "\n",
    "# Get the columns containing dates (excluding eid, visit0, and visit1)\n",
    "date_columns = list(set(wide_diseases.columns).difference(['eid', 'visit0', 'visit1']))\n",
    "\n",
    "# Compute the minimum date across the other columns for each row\n",
    "min_date = wide_diseases[date_columns].min(axis=1)\n",
    "\n",
    "# Select rows where visit0 is smaller or equal to min_date minus year_diff\n",
    "wide_diseases_visit0 = wide_diseases[wide_diseases['visit0'] <= min_date - pd.DateOffset(years=year_diff)]"
   ]
  },
  {
   "cell_type": "code",
   "execution_count": 72,
   "id": "a157334d",
   "metadata": {},
   "outputs": [],
   "source": [
    "wide_diseases_visit0.to_csv(r'PREDICTIVE_VISIT0_ALL.csv', index = False, header=True)"
   ]
  },
  {
   "cell_type": "code",
   "execution_count": 73,
   "id": "6c63f8c7",
   "metadata": {},
   "outputs": [
    {
     "data": {
      "text/plain": [
       "(74893, 6)"
      ]
     },
     "execution_count": 73,
     "metadata": {},
     "output_type": "execute_result"
    }
   ],
   "source": [
    "wide_diseases_visit0.shape"
   ]
  },
  {
   "cell_type": "code",
   "execution_count": 74,
   "id": "1b5d4021",
   "metadata": {},
   "outputs": [],
   "source": [
    "# Set minimum year difference between visit0 and other columns\n",
    "year_diff = 1\n",
    "\n",
    "# Get the columns containing dates (excluding eid, visit0, and visit1)\n",
    "date_columns = list(set(wide_diseases.columns).difference(['eid', 'visit0', 'visit1']))\n",
    "\n",
    "# Compute the minimum date across the other columns for each row\n",
    "min_date = wide_diseases[date_columns].min(axis=1)\n",
    "\n",
    "# Select rows where visit0 is smaller or equal to min_date minus year_diff\n",
    "wide_diseases_visit1 = wide_diseases[wide_diseases['visit1'] <= min_date - pd.DateOffset(years=year_diff)]"
   ]
  },
  {
   "cell_type": "code",
   "execution_count": 75,
   "id": "d97be56d",
   "metadata": {},
   "outputs": [],
   "source": [
    "wide_diseases_visit1.to_csv(r'PREDICTIVE_VISIT1_ALL.csv', index = False, header=True)"
   ]
  },
  {
   "cell_type": "code",
   "execution_count": 76,
   "id": "a83020f7",
   "metadata": {},
   "outputs": [
    {
     "data": {
      "text/plain": [
       "(1985, 6)"
      ]
     },
     "execution_count": 76,
     "metadata": {},
     "output_type": "execute_result"
    }
   ],
   "source": [
    "wide_diseases_visit1.shape"
   ]
  },
  {
   "cell_type": "code",
   "execution_count": null,
   "id": "28fce122",
   "metadata": {},
   "outputs": [],
   "source": []
  },
  {
   "cell_type": "code",
   "execution_count": null,
   "id": "c515dbf2",
   "metadata": {},
   "outputs": [],
   "source": []
  },
  {
   "cell_type": "code",
   "execution_count": null,
   "id": "dc26fe06",
   "metadata": {},
   "outputs": [],
   "source": []
  },
  {
   "cell_type": "code",
   "execution_count": 77,
   "id": "4111e0e1",
   "metadata": {},
   "outputs": [],
   "source": [
    "df = wide_diseases_visit0.replace({pd.Timestamp.min: 0, np.datetime64('NaT'): 0, True: 1, False: 0})"
   ]
  },
  {
   "cell_type": "code",
   "execution_count": 78,
   "id": "05919f21",
   "metadata": {},
   "outputs": [],
   "source": [
    "df = df.astype(bool).astype(int)"
   ]
  },
  {
   "cell_type": "code",
   "execution_count": 79,
   "id": "ecb6fe5a",
   "metadata": {},
   "outputs": [],
   "source": [
    "df['eid'] = wide_diseases_visit0['eid']"
   ]
  },
  {
   "cell_type": "code",
   "execution_count": 85,
   "id": "162b1881",
   "metadata": {},
   "outputs": [
    {
     "data": {
      "text/plain": [
       "(74893, 6)"
      ]
     },
     "execution_count": 85,
     "metadata": {},
     "output_type": "execute_result"
    }
   ],
   "source": [
    "df.shape"
   ]
  },
  {
   "cell_type": "code",
   "execution_count": 83,
   "id": "1eb9d24c",
   "metadata": {},
   "outputs": [
    {
     "data": {
      "text/html": [
       "<div>\n",
       "<style scoped>\n",
       "    .dataframe tbody tr th:only-of-type {\n",
       "        vertical-align: middle;\n",
       "    }\n",
       "\n",
       "    .dataframe tbody tr th {\n",
       "        vertical-align: top;\n",
       "    }\n",
       "\n",
       "    .dataframe thead th {\n",
       "        text-align: right;\n",
       "    }\n",
       "</style>\n",
       "<table border=\"1\" class=\"dataframe\">\n",
       "  <thead>\n",
       "    <tr style=\"text-align: right;\">\n",
       "      <th>code</th>\n",
       "      <th>eid</th>\n",
       "      <th>CVD</th>\n",
       "      <th>Depression</th>\n",
       "      <th>Diabetes</th>\n",
       "      <th>visit0</th>\n",
       "      <th>visit1</th>\n",
       "    </tr>\n",
       "  </thead>\n",
       "  <tbody>\n",
       "    <tr>\n",
       "      <th>1</th>\n",
       "      <td>1000087</td>\n",
       "      <td>1</td>\n",
       "      <td>0</td>\n",
       "      <td>1</td>\n",
       "      <td>1</td>\n",
       "      <td>0</td>\n",
       "    </tr>\n",
       "    <tr>\n",
       "      <th>2</th>\n",
       "      <td>1000159</td>\n",
       "      <td>0</td>\n",
       "      <td>1</td>\n",
       "      <td>0</td>\n",
       "      <td>1</td>\n",
       "      <td>0</td>\n",
       "    </tr>\n",
       "    <tr>\n",
       "      <th>3</th>\n",
       "      <td>1000302</td>\n",
       "      <td>0</td>\n",
       "      <td>0</td>\n",
       "      <td>1</td>\n",
       "      <td>1</td>\n",
       "      <td>0</td>\n",
       "    </tr>\n",
       "    <tr>\n",
       "      <th>4</th>\n",
       "      <td>1000430</td>\n",
       "      <td>0</td>\n",
       "      <td>0</td>\n",
       "      <td>1</td>\n",
       "      <td>1</td>\n",
       "      <td>0</td>\n",
       "    </tr>\n",
       "    <tr>\n",
       "      <th>5</th>\n",
       "      <td>1000465</td>\n",
       "      <td>1</td>\n",
       "      <td>0</td>\n",
       "      <td>0</td>\n",
       "      <td>1</td>\n",
       "      <td>0</td>\n",
       "    </tr>\n",
       "  </tbody>\n",
       "</table>\n",
       "</div>"
      ],
      "text/plain": [
       "code      eid  CVD  Depression  Diabetes  visit0  visit1\n",
       "1     1000087    1           0         1       1       0\n",
       "2     1000159    0           1         0       1       0\n",
       "3     1000302    0           0         1       1       0\n",
       "4     1000430    0           0         1       1       0\n",
       "5     1000465    1           0         0       1       0"
      ]
     },
     "execution_count": 83,
     "metadata": {},
     "output_type": "execute_result"
    }
   ],
   "source": [
    "df.head()"
   ]
  },
  {
   "cell_type": "code",
   "execution_count": 84,
   "id": "59603b62",
   "metadata": {},
   "outputs": [],
   "source": [
    "df.to_csv(r'Prediction_Binary.csv', index = False, header=True)"
   ]
  },
  {
   "cell_type": "code",
   "execution_count": null,
   "id": "ccfb277a",
   "metadata": {},
   "outputs": [],
   "source": []
  },
  {
   "cell_type": "markdown",
   "id": "6dfd1de9",
   "metadata": {},
   "source": [
    "# Comorbidity"
   ]
  },
  {
   "cell_type": "code",
   "execution_count": 86,
   "id": "93473bfd",
   "metadata": {},
   "outputs": [],
   "source": [
    "# Set minimum year difference between visit0 and other columns\n",
    "year_diff = 1\n",
    "\n",
    "# Get the columns containing dates (excluding eid, visit0, and visit1)\n",
    "date_columns = list(set(wide_diseases.columns).difference(['eid', 'visit0', 'visit1']))\n",
    "\n",
    "# Compute the minimum date across the other columns for each row\n",
    "min_date = wide_diseases[date_columns].min(axis=1)"
   ]
  },
  {
   "cell_type": "markdown",
   "id": "e76c3c92",
   "metadata": {},
   "source": [
    "#### CVD-Depression"
   ]
  },
  {
   "cell_type": "code",
   "execution_count": 87,
   "id": "f374007d",
   "metadata": {},
   "outputs": [
    {
     "data": {
      "text/plain": [
       "0    22396\n",
       "1     1782\n",
       "Name: Y, dtype: int64"
      ]
     },
     "execution_count": 87,
     "metadata": {},
     "output_type": "execute_result"
    }
   ],
   "source": [
    "# Select rows where visit0 is smaller or equal to min_date minus year_diff\n",
    "wide_diseases_d = wide_diseases[wide_diseases['visit0'] <= (wide_diseases['Depression'] - pd.DateOffset(years=year_diff))]\n",
    "wide_diseases_h = wide_diseases[wide_diseases['CVD'] <= wide_diseases['visit0']]\n",
    "wide_diseases_d = wide_diseases_d[wide_diseases_d['eid'].isin(wide_diseases_h['eid'])]\n",
    "wide_diseases_h = wide_diseases_h[~wide_diseases_h['eid'].isin(wide_diseases_d['eid'])]\n",
    "time_d = wide_diseases_d['Depression'] - wide_diseases_d['visit0']\n",
    "wide_diseases_h['Y']=0\n",
    "wide_diseases_d['Y']=1\n",
    "\n",
    "CVDDep_hd = pd.concat([wide_diseases_h,wide_diseases_d],axis=0).sort_values(by=['eid']).reset_index(drop=True)\n",
    "CVDDep_hd.to_csv(r'CVDDep_hd_newUKBB.csv', index = False, header=True)\n",
    "CVDDep_hd['Y'].value_counts()"
   ]
  },
  {
   "cell_type": "code",
   "execution_count": 88,
   "id": "e5e85dea",
   "metadata": {},
   "outputs": [
    {
     "name": "stdout",
     "output_type": "stream",
     "text": [
      "1.002053388090349 13.00479123887748\n"
     ]
    }
   ],
   "source": [
    "# Find the minimum and maximum values of the time_d column\n",
    "time_d_min = time_d.min()\n",
    "time_d_max = time_d.max()\n",
    "\n",
    "# Transform the minimum and maximum values to years\n",
    "days_per_year = 365.25\n",
    "time_d_min_years = time_d_min.total_seconds() / (days_per_year * 86400)\n",
    "time_d_max_years = time_d_max.total_seconds() / (days_per_year * 86400)\n",
    "\n",
    "print(time_d_min_years, time_d_max_years)"
   ]
  },
  {
   "cell_type": "markdown",
   "id": "965ef119",
   "metadata": {},
   "source": [
    "#### Depression-CVD"
   ]
  },
  {
   "cell_type": "code",
   "execution_count": 89,
   "id": "5b69312e",
   "metadata": {},
   "outputs": [
    {
     "data": {
      "text/plain": [
       "0    4031\n",
       "1     705\n",
       "Name: Y, dtype: int64"
      ]
     },
     "execution_count": 89,
     "metadata": {},
     "output_type": "execute_result"
    }
   ],
   "source": [
    "# Select rows where visit0 is smaller or equal to min_date minus year_diff\n",
    "wide_diseases_d = wide_diseases[wide_diseases['visit0'] <= wide_diseases['CVD'] - pd.DateOffset(years=year_diff)]\n",
    "wide_diseases_h = wide_diseases[wide_diseases['Depression'] <= wide_diseases['visit0']]\n",
    "wide_diseases_d = wide_diseases_d[wide_diseases_d['eid'].isin(wide_diseases_h['eid'])]\n",
    "wide_diseases_h = wide_diseases_h[~wide_diseases_h['eid'].isin(wide_diseases_d['eid'])]\n",
    "time_d = wide_diseases_d['CVD'] - wide_diseases_d['visit0']\n",
    "wide_diseases_h['Y']=0\n",
    "wide_diseases_d['Y']=1\n",
    "\n",
    "DepCVD_hd = pd.concat([wide_diseases_h,wide_diseases_d],axis=0).sort_values(by=['eid']).reset_index(drop=True)\n",
    "DepCVD_hd.to_csv(r'DepCVD_hd_newUKBB.csv', index = False, header=True)\n",
    "DepCVD_hd['Y'].value_counts()"
   ]
  },
  {
   "cell_type": "code",
   "execution_count": 90,
   "id": "bd946179",
   "metadata": {},
   "outputs": [
    {
     "name": "stdout",
     "output_type": "stream",
     "text": [
      "1.0047912388774811 13.494866529774127\n"
     ]
    }
   ],
   "source": [
    "# Find the minimum and maximum values of the time_d column\n",
    "time_d_min = time_d.min()\n",
    "time_d_max = time_d.max()\n",
    "\n",
    "# Transform the minimum and maximum values to years\n",
    "days_per_year = 365.25\n",
    "time_d_min_years = time_d_min.total_seconds() / (days_per_year * 86400)\n",
    "time_d_max_years = time_d_max.total_seconds() / (days_per_year * 86400)\n",
    "\n",
    "print(time_d_min_years, time_d_max_years)"
   ]
  },
  {
   "cell_type": "markdown",
   "id": "5e36670d",
   "metadata": {},
   "source": [
    "#### Diabetes-CVD"
   ]
  },
  {
   "cell_type": "code",
   "execution_count": 91,
   "id": "fa31e795",
   "metadata": {},
   "outputs": [
    {
     "data": {
      "text/plain": [
       "0    9024\n",
       "1    2087\n",
       "Name: Y, dtype: int64"
      ]
     },
     "execution_count": 91,
     "metadata": {},
     "output_type": "execute_result"
    }
   ],
   "source": [
    "# Select rows where visit0 is smaller or equal to min_date minus year_diff\n",
    "wide_diseases_d = wide_diseases[wide_diseases['visit0'] <= wide_diseases['CVD'] - pd.DateOffset(years=year_diff)]\n",
    "wide_diseases_h = wide_diseases[wide_diseases['Diabetes'] <= wide_diseases['visit0']]\n",
    "wide_diseases_d = wide_diseases_d[wide_diseases_d['eid'].isin(wide_diseases_h['eid'])]\n",
    "wide_diseases_h = wide_diseases_h[~wide_diseases_h['eid'].isin(wide_diseases_d['eid'])]\n",
    "time_d = wide_diseases_d['CVD'] - wide_diseases_d['visit0']\n",
    "wide_diseases_h['Y']=0\n",
    "wide_diseases_d['Y']=1\n",
    "\n",
    "DiaCVD_hd = pd.concat([wide_diseases_h,wide_diseases_d],axis=0).sort_values(by=['eid']).reset_index(drop=True)\n",
    "DiaCVD_hd.to_csv(r'DiaCVD_hd_newUKBB.csv', index = False, header=True)\n",
    "DiaCVD_hd['Y'].value_counts()"
   ]
  },
  {
   "cell_type": "code",
   "execution_count": 92,
   "id": "e4c50e32",
   "metadata": {},
   "outputs": [],
   "source": [
    "#"
   ]
  },
  {
   "cell_type": "code",
   "execution_count": 93,
   "id": "8226966c",
   "metadata": {},
   "outputs": [
    {
     "name": "stdout",
     "output_type": "stream",
     "text": [
      "1.0047912388774811 13.757700205338809\n"
     ]
    }
   ],
   "source": [
    "# Find the minimum and maximum values of the time_d column\n",
    "time_d_min = time_d.min()\n",
    "time_d_max = time_d.max()\n",
    "\n",
    "# Transform the minimum and maximum values to years\n",
    "days_per_year = 365.25\n",
    "time_d_min_years = time_d_min.total_seconds() / (days_per_year * 86400)\n",
    "time_d_max_years = time_d_max.total_seconds() / (days_per_year * 86400)\n",
    "\n",
    "print(time_d_min_years, time_d_max_years)"
   ]
  },
  {
   "cell_type": "markdown",
   "id": "384c5162",
   "metadata": {},
   "source": [
    "#### CVD-Diabetes"
   ]
  },
  {
   "cell_type": "code",
   "execution_count": 94,
   "id": "518b4e31",
   "metadata": {},
   "outputs": [
    {
     "data": {
      "text/plain": [
       "0    21139\n",
       "1     3039\n",
       "Name: Y, dtype: int64"
      ]
     },
     "execution_count": 94,
     "metadata": {},
     "output_type": "execute_result"
    }
   ],
   "source": [
    "# Select rows where visit0 is smaller or equal to min_date minus year_diff\n",
    "wide_diseases_d = wide_diseases[wide_diseases['visit0'] <= wide_diseases['Diabetes'] - pd.DateOffset(years=year_diff)]\n",
    "wide_diseases_h = wide_diseases[wide_diseases['CVD'] <= wide_diseases['visit0']]\n",
    "wide_diseases_d = wide_diseases_d[wide_diseases_d['eid'].isin(wide_diseases_h['eid'])]\n",
    "wide_diseases_h = wide_diseases_h[~wide_diseases_h['eid'].isin(wide_diseases_d['eid'])]\n",
    "time_d = wide_diseases_d['Diabetes'] - wide_diseases_d['visit0']\n",
    "wide_diseases_h['Y']=0\n",
    "wide_diseases_d['Y']=1\n",
    "\n",
    "CVDDia_hd = pd.concat([wide_diseases_h,wide_diseases_d],axis=0).sort_values(by=['eid']).reset_index(drop=True)\n",
    "CVDDia_hd.to_csv(r'CVDDia_hd_newUKBB.csv', index = False, header=True)\n",
    "CVDDia_hd['Y'].value_counts()"
   ]
  },
  {
   "cell_type": "code",
   "execution_count": 95,
   "id": "23738582",
   "metadata": {},
   "outputs": [],
   "source": [
    "#"
   ]
  },
  {
   "cell_type": "code",
   "execution_count": 96,
   "id": "e693d09a",
   "metadata": {},
   "outputs": [
    {
     "name": "stdout",
     "output_type": "stream",
     "text": [
      "0.999315537303217 14.343600273785079\n"
     ]
    }
   ],
   "source": [
    "# Find the minimum and maximum values of the time_d column\n",
    "time_d_min = time_d.min()\n",
    "time_d_max = time_d.max()\n",
    "\n",
    "# Transform the minimum and maximum values to years\n",
    "days_per_year = 365.25\n",
    "time_d_min_years = time_d_min.total_seconds() / (days_per_year * 86400)\n",
    "time_d_max_years = time_d_max.total_seconds() / (days_per_year * 86400)\n",
    "\n",
    "print(time_d_min_years, time_d_max_years)"
   ]
  },
  {
   "cell_type": "markdown",
   "id": "1c390181",
   "metadata": {},
   "source": [
    "#### Depression-Diabetes"
   ]
  },
  {
   "cell_type": "code",
   "execution_count": 97,
   "id": "356e7a67",
   "metadata": {},
   "outputs": [
    {
     "data": {
      "text/plain": [
       "0    4230\n",
       "1     506\n",
       "Name: Y, dtype: int64"
      ]
     },
     "execution_count": 97,
     "metadata": {},
     "output_type": "execute_result"
    }
   ],
   "source": [
    "# Select rows where visit0 is smaller or equal to min_date minus year_diff\n",
    "wide_diseases_d = wide_diseases[wide_diseases['visit0'] <= wide_diseases['Diabetes'] - pd.DateOffset(years=year_diff)]\n",
    "wide_diseases_h = wide_diseases[wide_diseases['Depression'] <= wide_diseases['visit0']]\n",
    "wide_diseases_d = wide_diseases_d[wide_diseases_d['eid'].isin(wide_diseases_h['eid'])]\n",
    "wide_diseases_h = wide_diseases_h[~wide_diseases_h['eid'].isin(wide_diseases_d['eid'])]\n",
    "time_d = wide_diseases_d['Diabetes'] - wide_diseases_d['visit0']\n",
    "wide_diseases_h['Y']=0\n",
    "wide_diseases_d['Y']=1\n",
    "\n",
    "DepDia_hd = pd.concat([wide_diseases_h,wide_diseases_d],axis=0).sort_values(by=['eid']).reset_index(drop=True)\n",
    "DepDia_hd.to_csv(r'DepDia_hd_newUKBB.csv', index = False, header=True)\n",
    "DepDia_hd['Y'].value_counts()"
   ]
  },
  {
   "cell_type": "code",
   "execution_count": null,
   "id": "25d73773",
   "metadata": {},
   "outputs": [],
   "source": []
  },
  {
   "cell_type": "code",
   "execution_count": 98,
   "id": "4cc96267",
   "metadata": {},
   "outputs": [
    {
     "name": "stdout",
     "output_type": "stream",
     "text": [
      "1.002053388090349 13.141683778234086\n"
     ]
    }
   ],
   "source": [
    "# Find the minimum and maximum values of the time_d column\n",
    "time_d_min = time_d.min()\n",
    "time_d_max = time_d.max()\n",
    "\n",
    "# Transform the minimum and maximum values to years\n",
    "days_per_year = 365.25\n",
    "time_d_min_years = time_d_min.total_seconds() / (days_per_year * 86400)\n",
    "time_d_max_years = time_d_max.total_seconds() / (days_per_year * 86400)\n",
    "\n",
    "print(time_d_min_years, time_d_max_years)"
   ]
  },
  {
   "cell_type": "markdown",
   "id": "8a77b6be",
   "metadata": {},
   "source": [
    "#### Diabetes-Depression"
   ]
  },
  {
   "cell_type": "code",
   "execution_count": 99,
   "id": "e5cf2c13",
   "metadata": {},
   "outputs": [
    {
     "data": {
      "text/plain": [
       "0    10063\n",
       "1     1048\n",
       "Name: Y, dtype: int64"
      ]
     },
     "execution_count": 99,
     "metadata": {},
     "output_type": "execute_result"
    }
   ],
   "source": [
    "# Select rows where visit0 is smaller or equal to min_date minus year_diff\n",
    "wide_diseases_d = wide_diseases[wide_diseases['visit0'] <= wide_diseases['Depression'] - pd.DateOffset(years=year_diff)]\n",
    "wide_diseases_h = wide_diseases[wide_diseases['Diabetes'] <= wide_diseases['visit0']]\n",
    "wide_diseases_d = wide_diseases_d[wide_diseases_d['eid'].isin(wide_diseases_h['eid'])]\n",
    "wide_diseases_h = wide_diseases_h[~wide_diseases_h['eid'].isin(wide_diseases_d['eid'])]\n",
    "time_d = wide_diseases_d['Depression'] - wide_diseases_d['visit0']\n",
    "wide_diseases_h['Y']=0\n",
    "wide_diseases_d['Y']=1\n",
    "\n",
    "DiaDep_hd = pd.concat([wide_diseases_h,wide_diseases_d],axis=0).sort_values(by=['eid']).reset_index(drop=True)\n",
    "DiaDep_hd.to_csv(r'DiaDep_hd_newUKBB.csv', index = False, header=True)\n",
    "DiaDep_hd['Y'].value_counts()"
   ]
  },
  {
   "cell_type": "code",
   "execution_count": 100,
   "id": "7e809149",
   "metadata": {},
   "outputs": [
    {
     "data": {
      "text/html": [
       "<div>\n",
       "<style scoped>\n",
       "    .dataframe tbody tr th:only-of-type {\n",
       "        vertical-align: middle;\n",
       "    }\n",
       "\n",
       "    .dataframe tbody tr th {\n",
       "        vertical-align: top;\n",
       "    }\n",
       "\n",
       "    .dataframe thead th {\n",
       "        text-align: right;\n",
       "    }\n",
       "</style>\n",
       "<table border=\"1\" class=\"dataframe\">\n",
       "  <thead>\n",
       "    <tr style=\"text-align: right;\">\n",
       "      <th>code</th>\n",
       "      <th>eid</th>\n",
       "      <th>CVD</th>\n",
       "      <th>Depression</th>\n",
       "      <th>Diabetes</th>\n",
       "      <th>visit0</th>\n",
       "      <th>visit1</th>\n",
       "      <th>Y</th>\n",
       "    </tr>\n",
       "  </thead>\n",
       "  <tbody>\n",
       "    <tr>\n",
       "      <th>0</th>\n",
       "      <td>1001032</td>\n",
       "      <td>NaT</td>\n",
       "      <td>NaT</td>\n",
       "      <td>2004-02-21</td>\n",
       "      <td>2009-09-04</td>\n",
       "      <td>NaT</td>\n",
       "      <td>0</td>\n",
       "    </tr>\n",
       "    <tr>\n",
       "      <th>1</th>\n",
       "      <td>1001565</td>\n",
       "      <td>2003-10-14</td>\n",
       "      <td>NaT</td>\n",
       "      <td>2007-04-30</td>\n",
       "      <td>2007-11-15</td>\n",
       "      <td>NaT</td>\n",
       "      <td>0</td>\n",
       "    </tr>\n",
       "    <tr>\n",
       "      <th>2</th>\n",
       "      <td>1001573</td>\n",
       "      <td>2002-04-14</td>\n",
       "      <td>NaT</td>\n",
       "      <td>2002-04-14</td>\n",
       "      <td>2010-01-08</td>\n",
       "      <td>NaT</td>\n",
       "      <td>0</td>\n",
       "    </tr>\n",
       "    <tr>\n",
       "      <th>3</th>\n",
       "      <td>1001683</td>\n",
       "      <td>2003-03-20</td>\n",
       "      <td>2019-12-03</td>\n",
       "      <td>2007-09-03</td>\n",
       "      <td>2009-02-12</td>\n",
       "      <td>NaT</td>\n",
       "      <td>1</td>\n",
       "    </tr>\n",
       "    <tr>\n",
       "      <th>4</th>\n",
       "      <td>1001800</td>\n",
       "      <td>NaT</td>\n",
       "      <td>NaT</td>\n",
       "      <td>2008-05-06</td>\n",
       "      <td>2010-06-10</td>\n",
       "      <td>NaT</td>\n",
       "      <td>0</td>\n",
       "    </tr>\n",
       "    <tr>\n",
       "      <th>...</th>\n",
       "      <td>...</td>\n",
       "      <td>...</td>\n",
       "      <td>...</td>\n",
       "      <td>...</td>\n",
       "      <td>...</td>\n",
       "      <td>...</td>\n",
       "      <td>...</td>\n",
       "    </tr>\n",
       "    <tr>\n",
       "      <th>11106</th>\n",
       "      <td>6023624</td>\n",
       "      <td>NaT</td>\n",
       "      <td>NaT</td>\n",
       "      <td>1998-05-29</td>\n",
       "      <td>2008-09-22</td>\n",
       "      <td>NaT</td>\n",
       "      <td>0</td>\n",
       "    </tr>\n",
       "    <tr>\n",
       "      <th>11107</th>\n",
       "      <td>6024057</td>\n",
       "      <td>NaT</td>\n",
       "      <td>NaT</td>\n",
       "      <td>2008-11-25</td>\n",
       "      <td>2009-11-28</td>\n",
       "      <td>NaT</td>\n",
       "      <td>0</td>\n",
       "    </tr>\n",
       "    <tr>\n",
       "      <th>11108</th>\n",
       "      <td>6024156</td>\n",
       "      <td>2008-10-23</td>\n",
       "      <td>2019-09-05</td>\n",
       "      <td>2007-11-24</td>\n",
       "      <td>2008-11-22</td>\n",
       "      <td>NaT</td>\n",
       "      <td>1</td>\n",
       "    </tr>\n",
       "    <tr>\n",
       "      <th>11109</th>\n",
       "      <td>6024390</td>\n",
       "      <td>NaT</td>\n",
       "      <td>NaT</td>\n",
       "      <td>1996-04-22</td>\n",
       "      <td>2007-11-08</td>\n",
       "      <td>NaT</td>\n",
       "      <td>0</td>\n",
       "    </tr>\n",
       "    <tr>\n",
       "      <th>11110</th>\n",
       "      <td>6024478</td>\n",
       "      <td>2006-04-22</td>\n",
       "      <td>NaT</td>\n",
       "      <td>2006-04-22</td>\n",
       "      <td>2007-10-09</td>\n",
       "      <td>NaT</td>\n",
       "      <td>0</td>\n",
       "    </tr>\n",
       "  </tbody>\n",
       "</table>\n",
       "<p>11111 rows × 7 columns</p>\n",
       "</div>"
      ],
      "text/plain": [
       "code       eid        CVD Depression   Diabetes     visit0 visit1  Y\n",
       "0      1001032        NaT        NaT 2004-02-21 2009-09-04    NaT  0\n",
       "1      1001565 2003-10-14        NaT 2007-04-30 2007-11-15    NaT  0\n",
       "2      1001573 2002-04-14        NaT 2002-04-14 2010-01-08    NaT  0\n",
       "3      1001683 2003-03-20 2019-12-03 2007-09-03 2009-02-12    NaT  1\n",
       "4      1001800        NaT        NaT 2008-05-06 2010-06-10    NaT  0\n",
       "...        ...        ...        ...        ...        ...    ... ..\n",
       "11106  6023624        NaT        NaT 1998-05-29 2008-09-22    NaT  0\n",
       "11107  6024057        NaT        NaT 2008-11-25 2009-11-28    NaT  0\n",
       "11108  6024156 2008-10-23 2019-09-05 2007-11-24 2008-11-22    NaT  1\n",
       "11109  6024390        NaT        NaT 1996-04-22 2007-11-08    NaT  0\n",
       "11110  6024478 2006-04-22        NaT 2006-04-22 2007-10-09    NaT  0\n",
       "\n",
       "[11111 rows x 7 columns]"
      ]
     },
     "execution_count": 100,
     "metadata": {},
     "output_type": "execute_result"
    }
   ],
   "source": [
    "DiaDep_hd"
   ]
  },
  {
   "cell_type": "code",
   "execution_count": 101,
   "id": "82f21a4d",
   "metadata": {},
   "outputs": [
    {
     "name": "stdout",
     "output_type": "stream",
     "text": [
      "1.0321697467488022 13.36892539356605\n"
     ]
    }
   ],
   "source": [
    "# Find the minimum and maximum values of the time_d column\n",
    "time_d_min = time_d.min()\n",
    "time_d_max = time_d.max()\n",
    "\n",
    "# Transform the minimum and maximum values to years\n",
    "days_per_year = 365.25\n",
    "time_d_min_years = time_d_min.total_seconds() / (days_per_year * 86400)\n",
    "time_d_max_years = time_d_max.total_seconds() / (days_per_year * 86400)\n",
    "\n",
    "print(time_d_min_years, time_d_max_years)"
   ]
  },
  {
   "cell_type": "code",
   "execution_count": null,
   "id": "cd7bab38",
   "metadata": {},
   "outputs": [],
   "source": []
  },
  {
   "cell_type": "code",
   "execution_count": null,
   "id": "41648949",
   "metadata": {},
   "outputs": [],
   "source": []
  },
  {
   "cell_type": "markdown",
   "id": "d848ec62",
   "metadata": {},
   "source": [
    "# Trajectories"
   ]
  },
  {
   "cell_type": "code",
   "execution_count": null,
   "id": "c2845e2c",
   "metadata": {},
   "outputs": [],
   "source": [
    "from pandas.tseries.offsets import DateOffset"
   ]
  },
  {
   "cell_type": "code",
   "execution_count": 135,
   "id": "46c90643",
   "metadata": {},
   "outputs": [],
   "source": [
    "df = wide_diseases.dropna(subset=['visit0','visit1']).sort_values(by=['eid']).reset_index(drop=True)\n",
    "\n",
    "# convert your columns to datetime if they aren't already\n",
    "for column in ['CVD', 'Depression', 'Diabetes', 'visit0', 'visit1']:\n",
    "    df[column] = pd.to_datetime(df[column])\n",
    "\n",
    "# define your new columns\n",
    "df['time0'] = df.apply(lambda row: sum((pd.notnull(row[condition])) & \n",
    "                                       (row[condition] < row['visit0'] - DateOffset(years=1))\n",
    "                                       for condition in ['CVD', 'Depression', 'Diabetes']), axis=1)\n",
    "\n",
    "df['time1'] = df.apply(lambda row: sum((pd.notnull(row[condition])) & \n",
    "                                       (row[condition] > row['visit0'] + DateOffset(years=1)) &\n",
    "                                       (row[condition] < row['visit1'] - DateOffset(years=1))\n",
    "                                       for condition in ['CVD', 'Depression', 'Diabetes']), axis=1)\n",
    "\n",
    "df['time2'] = df.apply(lambda row: sum((pd.notnull(row[condition])) &\n",
    "                                       (row[condition] > row['visit1'] + DateOffset(years=1))\n",
    "                                       for condition in ['CVD', 'Depression', 'Diabetes']), axis=1)"
   ]
  },
  {
   "cell_type": "code",
   "execution_count": 136,
   "id": "04cce7c7",
   "metadata": {},
   "outputs": [],
   "source": [
    "filtered_df = df[(df['time0'] <= 1) & (df['time1'] <= 1) & (df['time2'] <= 1)]"
   ]
  },
  {
   "cell_type": "code",
   "execution_count": 137,
   "id": "6960c582",
   "metadata": {},
   "outputs": [
    {
     "data": {
      "text/plain": [
       "((4169, 9), (3807, 9))"
      ]
     },
     "execution_count": 137,
     "metadata": {},
     "output_type": "execute_result"
    }
   ],
   "source": [
    "df.shape, filtered_df.shape"
   ]
  },
  {
   "cell_type": "code",
   "execution_count": 138,
   "id": "5f0d40ee",
   "metadata": {},
   "outputs": [
    {
     "data": {
      "text/html": [
       "<div>\n",
       "<style scoped>\n",
       "    .dataframe tbody tr th:only-of-type {\n",
       "        vertical-align: middle;\n",
       "    }\n",
       "\n",
       "    .dataframe tbody tr th {\n",
       "        vertical-align: top;\n",
       "    }\n",
       "\n",
       "    .dataframe thead th {\n",
       "        text-align: right;\n",
       "    }\n",
       "</style>\n",
       "<table border=\"1\" class=\"dataframe\">\n",
       "  <thead>\n",
       "    <tr style=\"text-align: right;\">\n",
       "      <th>code</th>\n",
       "      <th>eid</th>\n",
       "      <th>CVD</th>\n",
       "      <th>Depression</th>\n",
       "      <th>Diabetes</th>\n",
       "      <th>visit0</th>\n",
       "      <th>visit1</th>\n",
       "      <th>time0</th>\n",
       "      <th>time1</th>\n",
       "      <th>time2</th>\n",
       "    </tr>\n",
       "  </thead>\n",
       "  <tbody>\n",
       "    <tr>\n",
       "      <th>0</th>\n",
       "      <td>1004849</td>\n",
       "      <td>NaT</td>\n",
       "      <td>2019-08-29</td>\n",
       "      <td>1999-10-14</td>\n",
       "      <td>2008-06-20</td>\n",
       "      <td>2013-02-04</td>\n",
       "      <td>1</td>\n",
       "      <td>0</td>\n",
       "      <td>1</td>\n",
       "    </tr>\n",
       "    <tr>\n",
       "      <th>1</th>\n",
       "      <td>1006558</td>\n",
       "      <td>NaT</td>\n",
       "      <td>2014-09-01</td>\n",
       "      <td>NaT</td>\n",
       "      <td>2007-12-17</td>\n",
       "      <td>2013-01-30</td>\n",
       "      <td>0</td>\n",
       "      <td>0</td>\n",
       "      <td>1</td>\n",
       "    </tr>\n",
       "    <tr>\n",
       "      <th>2</th>\n",
       "      <td>1008230</td>\n",
       "      <td>NaT</td>\n",
       "      <td>1998-05-26</td>\n",
       "      <td>NaT</td>\n",
       "      <td>2007-06-25</td>\n",
       "      <td>2012-08-31</td>\n",
       "      <td>1</td>\n",
       "      <td>0</td>\n",
       "      <td>0</td>\n",
       "    </tr>\n",
       "    <tr>\n",
       "      <th>3</th>\n",
       "      <td>1008381</td>\n",
       "      <td>NaT</td>\n",
       "      <td>NaT</td>\n",
       "      <td>2011-01-10</td>\n",
       "      <td>2008-06-09</td>\n",
       "      <td>2012-11-01</td>\n",
       "      <td>0</td>\n",
       "      <td>1</td>\n",
       "      <td>0</td>\n",
       "    </tr>\n",
       "    <tr>\n",
       "      <th>4</th>\n",
       "      <td>1011321</td>\n",
       "      <td>NaT</td>\n",
       "      <td>2013-04-03</td>\n",
       "      <td>NaT</td>\n",
       "      <td>2008-03-03</td>\n",
       "      <td>2013-05-25</td>\n",
       "      <td>0</td>\n",
       "      <td>0</td>\n",
       "      <td>0</td>\n",
       "    </tr>\n",
       "    <tr>\n",
       "      <th>...</th>\n",
       "      <td>...</td>\n",
       "      <td>...</td>\n",
       "      <td>...</td>\n",
       "      <td>...</td>\n",
       "      <td>...</td>\n",
       "      <td>...</td>\n",
       "      <td>...</td>\n",
       "      <td>...</td>\n",
       "      <td>...</td>\n",
       "    </tr>\n",
       "    <tr>\n",
       "      <th>4163</th>\n",
       "      <td>6018451</td>\n",
       "      <td>NaT</td>\n",
       "      <td>NaT</td>\n",
       "      <td>2010-05-24</td>\n",
       "      <td>2008-02-14</td>\n",
       "      <td>2012-08-21</td>\n",
       "      <td>0</td>\n",
       "      <td>1</td>\n",
       "      <td>0</td>\n",
       "    </tr>\n",
       "    <tr>\n",
       "      <th>4164</th>\n",
       "      <td>6019794</td>\n",
       "      <td>2018-03-01</td>\n",
       "      <td>NaT</td>\n",
       "      <td>NaT</td>\n",
       "      <td>2007-12-11</td>\n",
       "      <td>2013-05-05</td>\n",
       "      <td>0</td>\n",
       "      <td>0</td>\n",
       "      <td>1</td>\n",
       "    </tr>\n",
       "    <tr>\n",
       "      <th>4165</th>\n",
       "      <td>6019978</td>\n",
       "      <td>2004-11-05</td>\n",
       "      <td>NaT</td>\n",
       "      <td>NaT</td>\n",
       "      <td>2009-04-24</td>\n",
       "      <td>2013-01-23</td>\n",
       "      <td>1</td>\n",
       "      <td>0</td>\n",
       "      <td>0</td>\n",
       "    </tr>\n",
       "    <tr>\n",
       "      <th>4166</th>\n",
       "      <td>6020459</td>\n",
       "      <td>NaT</td>\n",
       "      <td>NaT</td>\n",
       "      <td>2009-05-20</td>\n",
       "      <td>2008-09-01</td>\n",
       "      <td>2013-05-12</td>\n",
       "      <td>0</td>\n",
       "      <td>0</td>\n",
       "      <td>0</td>\n",
       "    </tr>\n",
       "    <tr>\n",
       "      <th>4168</th>\n",
       "      <td>6023254</td>\n",
       "      <td>2003-08-06</td>\n",
       "      <td>NaT</td>\n",
       "      <td>2016-12-06</td>\n",
       "      <td>2009-03-07</td>\n",
       "      <td>2013-05-15</td>\n",
       "      <td>1</td>\n",
       "      <td>0</td>\n",
       "      <td>1</td>\n",
       "    </tr>\n",
       "  </tbody>\n",
       "</table>\n",
       "<p>3807 rows × 9 columns</p>\n",
       "</div>"
      ],
      "text/plain": [
       "code      eid        CVD Depression   Diabetes     visit0     visit1  time0  \\\n",
       "0     1004849        NaT 2019-08-29 1999-10-14 2008-06-20 2013-02-04      1   \n",
       "1     1006558        NaT 2014-09-01        NaT 2007-12-17 2013-01-30      0   \n",
       "2     1008230        NaT 1998-05-26        NaT 2007-06-25 2012-08-31      1   \n",
       "3     1008381        NaT        NaT 2011-01-10 2008-06-09 2012-11-01      0   \n",
       "4     1011321        NaT 2013-04-03        NaT 2008-03-03 2013-05-25      0   \n",
       "...       ...        ...        ...        ...        ...        ...    ...   \n",
       "4163  6018451        NaT        NaT 2010-05-24 2008-02-14 2012-08-21      0   \n",
       "4164  6019794 2018-03-01        NaT        NaT 2007-12-11 2013-05-05      0   \n",
       "4165  6019978 2004-11-05        NaT        NaT 2009-04-24 2013-01-23      1   \n",
       "4166  6020459        NaT        NaT 2009-05-20 2008-09-01 2013-05-12      0   \n",
       "4168  6023254 2003-08-06        NaT 2016-12-06 2009-03-07 2013-05-15      1   \n",
       "\n",
       "code  time1  time2  \n",
       "0         0      1  \n",
       "1         0      1  \n",
       "2         0      0  \n",
       "3         1      0  \n",
       "4         0      0  \n",
       "...     ...    ...  \n",
       "4163      1      0  \n",
       "4164      0      1  \n",
       "4165      0      0  \n",
       "4166      0      0  \n",
       "4168      0      1  \n",
       "\n",
       "[3807 rows x 9 columns]"
      ]
     },
     "execution_count": 138,
     "metadata": {},
     "output_type": "execute_result"
    }
   ],
   "source": [
    "filtered_df"
   ]
  },
  {
   "cell_type": "code",
   "execution_count": 139,
   "id": "0444f6ef",
   "metadata": {},
   "outputs": [],
   "source": [
    "df = wide_diseases.dropna(subset=['visit0','visit1']).sort_values(by=['eid']).reset_index(drop=True)\n",
    "\n",
    "# convert your columns to datetime if they aren't already\n",
    "for column in ['CVD', 'Depression', 'Diabetes', 'visit0', 'visit1']:\n",
    "    df[column] = pd.to_datetime(df[column])\n",
    "\n",
    "# define your new columns\n",
    "df['time0'] = df.apply(lambda row: [condition for condition in ['CVD', 'Depression', 'Diabetes'] \n",
    "                                    if (pd.notnull(row[condition]) & \n",
    "                                    (row[condition] < row['visit0'] - pd.DateOffset(years=1)))], axis=1)\n",
    "\n",
    "df['time1'] = df.apply(lambda row: [condition for condition in ['CVD', 'Depression', 'Diabetes'] \n",
    "                                    if (pd.notnull(row[condition]) & \n",
    "                                    (row[condition] > row['visit0'] + pd.DateOffset(years=1)) &\n",
    "                                    (row[condition] < row['visit1'] - pd.DateOffset(years=1)))], axis=1)\n",
    "\n",
    "df['time2'] = df.apply(lambda row: [condition for condition in ['CVD', 'Depression', 'Diabetes'] \n",
    "                                    if (pd.notnull(row[condition]) &\n",
    "                                    (row[condition] > row['visit1'] + pd.DateOffset(years=1)))], axis=1)\n"
   ]
  },
  {
   "cell_type": "code",
   "execution_count": 140,
   "id": "17295473",
   "metadata": {},
   "outputs": [
    {
     "data": {
      "text/html": [
       "<div>\n",
       "<style scoped>\n",
       "    .dataframe tbody tr th:only-of-type {\n",
       "        vertical-align: middle;\n",
       "    }\n",
       "\n",
       "    .dataframe tbody tr th {\n",
       "        vertical-align: top;\n",
       "    }\n",
       "\n",
       "    .dataframe thead th {\n",
       "        text-align: right;\n",
       "    }\n",
       "</style>\n",
       "<table border=\"1\" class=\"dataframe\">\n",
       "  <thead>\n",
       "    <tr style=\"text-align: right;\">\n",
       "      <th>code</th>\n",
       "      <th>eid</th>\n",
       "      <th>CVD</th>\n",
       "      <th>Depression</th>\n",
       "      <th>Diabetes</th>\n",
       "      <th>visit0</th>\n",
       "      <th>visit1</th>\n",
       "      <th>time0</th>\n",
       "      <th>time1</th>\n",
       "      <th>time2</th>\n",
       "    </tr>\n",
       "  </thead>\n",
       "  <tbody>\n",
       "    <tr>\n",
       "      <th>0</th>\n",
       "      <td>1004849</td>\n",
       "      <td>NaT</td>\n",
       "      <td>2019-08-29</td>\n",
       "      <td>1999-10-14</td>\n",
       "      <td>2008-06-20</td>\n",
       "      <td>2013-02-04</td>\n",
       "      <td>[Diabetes]</td>\n",
       "      <td>[]</td>\n",
       "      <td>[Depression]</td>\n",
       "    </tr>\n",
       "    <tr>\n",
       "      <th>1</th>\n",
       "      <td>1006558</td>\n",
       "      <td>NaT</td>\n",
       "      <td>2014-09-01</td>\n",
       "      <td>NaT</td>\n",
       "      <td>2007-12-17</td>\n",
       "      <td>2013-01-30</td>\n",
       "      <td>[]</td>\n",
       "      <td>[]</td>\n",
       "      <td>[Depression]</td>\n",
       "    </tr>\n",
       "    <tr>\n",
       "      <th>2</th>\n",
       "      <td>1008230</td>\n",
       "      <td>NaT</td>\n",
       "      <td>1998-05-26</td>\n",
       "      <td>NaT</td>\n",
       "      <td>2007-06-25</td>\n",
       "      <td>2012-08-31</td>\n",
       "      <td>[Depression]</td>\n",
       "      <td>[]</td>\n",
       "      <td>[]</td>\n",
       "    </tr>\n",
       "    <tr>\n",
       "      <th>3</th>\n",
       "      <td>1008381</td>\n",
       "      <td>NaT</td>\n",
       "      <td>NaT</td>\n",
       "      <td>2011-01-10</td>\n",
       "      <td>2008-06-09</td>\n",
       "      <td>2012-11-01</td>\n",
       "      <td>[]</td>\n",
       "      <td>[Diabetes]</td>\n",
       "      <td>[]</td>\n",
       "    </tr>\n",
       "    <tr>\n",
       "      <th>4</th>\n",
       "      <td>1011321</td>\n",
       "      <td>NaT</td>\n",
       "      <td>2013-04-03</td>\n",
       "      <td>NaT</td>\n",
       "      <td>2008-03-03</td>\n",
       "      <td>2013-05-25</td>\n",
       "      <td>[]</td>\n",
       "      <td>[]</td>\n",
       "      <td>[]</td>\n",
       "    </tr>\n",
       "    <tr>\n",
       "      <th>...</th>\n",
       "      <td>...</td>\n",
       "      <td>...</td>\n",
       "      <td>...</td>\n",
       "      <td>...</td>\n",
       "      <td>...</td>\n",
       "      <td>...</td>\n",
       "      <td>...</td>\n",
       "      <td>...</td>\n",
       "      <td>...</td>\n",
       "    </tr>\n",
       "    <tr>\n",
       "      <th>4164</th>\n",
       "      <td>6019794</td>\n",
       "      <td>2018-03-01</td>\n",
       "      <td>NaT</td>\n",
       "      <td>NaT</td>\n",
       "      <td>2007-12-11</td>\n",
       "      <td>2013-05-05</td>\n",
       "      <td>[]</td>\n",
       "      <td>[]</td>\n",
       "      <td>[CVD]</td>\n",
       "    </tr>\n",
       "    <tr>\n",
       "      <th>4165</th>\n",
       "      <td>6019978</td>\n",
       "      <td>2004-11-05</td>\n",
       "      <td>NaT</td>\n",
       "      <td>NaT</td>\n",
       "      <td>2009-04-24</td>\n",
       "      <td>2013-01-23</td>\n",
       "      <td>[CVD]</td>\n",
       "      <td>[]</td>\n",
       "      <td>[]</td>\n",
       "    </tr>\n",
       "    <tr>\n",
       "      <th>4166</th>\n",
       "      <td>6020459</td>\n",
       "      <td>NaT</td>\n",
       "      <td>NaT</td>\n",
       "      <td>2009-05-20</td>\n",
       "      <td>2008-09-01</td>\n",
       "      <td>2013-05-12</td>\n",
       "      <td>[]</td>\n",
       "      <td>[]</td>\n",
       "      <td>[]</td>\n",
       "    </tr>\n",
       "    <tr>\n",
       "      <th>4167</th>\n",
       "      <td>6021437</td>\n",
       "      <td>2019-04-26</td>\n",
       "      <td>2019-04-26</td>\n",
       "      <td>NaT</td>\n",
       "      <td>2008-06-13</td>\n",
       "      <td>2012-11-08</td>\n",
       "      <td>[]</td>\n",
       "      <td>[]</td>\n",
       "      <td>[CVD, Depression]</td>\n",
       "    </tr>\n",
       "    <tr>\n",
       "      <th>4168</th>\n",
       "      <td>6023254</td>\n",
       "      <td>2003-08-06</td>\n",
       "      <td>NaT</td>\n",
       "      <td>2016-12-06</td>\n",
       "      <td>2009-03-07</td>\n",
       "      <td>2013-05-15</td>\n",
       "      <td>[CVD]</td>\n",
       "      <td>[]</td>\n",
       "      <td>[Diabetes]</td>\n",
       "    </tr>\n",
       "  </tbody>\n",
       "</table>\n",
       "<p>4169 rows × 9 columns</p>\n",
       "</div>"
      ],
      "text/plain": [
       "code      eid        CVD Depression   Diabetes     visit0     visit1  \\\n",
       "0     1004849        NaT 2019-08-29 1999-10-14 2008-06-20 2013-02-04   \n",
       "1     1006558        NaT 2014-09-01        NaT 2007-12-17 2013-01-30   \n",
       "2     1008230        NaT 1998-05-26        NaT 2007-06-25 2012-08-31   \n",
       "3     1008381        NaT        NaT 2011-01-10 2008-06-09 2012-11-01   \n",
       "4     1011321        NaT 2013-04-03        NaT 2008-03-03 2013-05-25   \n",
       "...       ...        ...        ...        ...        ...        ...   \n",
       "4164  6019794 2018-03-01        NaT        NaT 2007-12-11 2013-05-05   \n",
       "4165  6019978 2004-11-05        NaT        NaT 2009-04-24 2013-01-23   \n",
       "4166  6020459        NaT        NaT 2009-05-20 2008-09-01 2013-05-12   \n",
       "4167  6021437 2019-04-26 2019-04-26        NaT 2008-06-13 2012-11-08   \n",
       "4168  6023254 2003-08-06        NaT 2016-12-06 2009-03-07 2013-05-15   \n",
       "\n",
       "code         time0       time1              time2  \n",
       "0       [Diabetes]          []       [Depression]  \n",
       "1               []          []       [Depression]  \n",
       "2     [Depression]          []                 []  \n",
       "3               []  [Diabetes]                 []  \n",
       "4               []          []                 []  \n",
       "...            ...         ...                ...  \n",
       "4164            []          []              [CVD]  \n",
       "4165         [CVD]          []                 []  \n",
       "4166            []          []                 []  \n",
       "4167            []          []  [CVD, Depression]  \n",
       "4168         [CVD]          []         [Diabetes]  \n",
       "\n",
       "[4169 rows x 9 columns]"
      ]
     },
     "execution_count": 140,
     "metadata": {},
     "output_type": "execute_result"
    }
   ],
   "source": [
    "df"
   ]
  },
  {
   "cell_type": "code",
   "execution_count": 141,
   "id": "60191fb2",
   "metadata": {},
   "outputs": [],
   "source": [
    "df = wide_diseases.dropna(subset=['visit0','visit1']).sort_values(by=['eid']).reset_index(drop=True)\n",
    "\n",
    "# convert your columns to datetime if they aren't already\n",
    "for column in ['CVD', 'Depression', 'Diabetes', 'visit0', 'visit1']:\n",
    "    df[column] = pd.to_datetime(df[column])\n",
    "\n",
    "# define your new columns\n",
    "df['time0'] = df.apply(lambda row: [row[condition] for condition in ['CVD', 'Depression', 'Diabetes'] \n",
    "                                    if (pd.notnull(row[condition]) & \n",
    "                                    (row[condition] < row['visit0'] - pd.DateOffset(years=1)))], axis=1)\n",
    "\n",
    "df['time1'] = df.apply(lambda row: [row[condition] for condition in ['CVD', 'Depression', 'Diabetes'] \n",
    "                                    if (pd.notnull(row[condition]) & \n",
    "                                    (row[condition] > row['visit0'] + pd.DateOffset(years=1)) &\n",
    "                                    (row[condition] < row['visit1'] - pd.DateOffset(years=1)))], axis=1)\n",
    "\n",
    "df['time2'] = df.apply(lambda row: [row[condition] for condition in ['CVD', 'Depression', 'Diabetes'] \n",
    "                                    if (pd.notnull(row[condition]) &\n",
    "                                    (row[condition] > row['visit1'] + pd.DateOffset(years=1)))], axis=1)\n"
   ]
  },
  {
   "cell_type": "code",
   "execution_count": 142,
   "id": "9abd35c9",
   "metadata": {},
   "outputs": [
    {
     "data": {
      "text/html": [
       "<div>\n",
       "<style scoped>\n",
       "    .dataframe tbody tr th:only-of-type {\n",
       "        vertical-align: middle;\n",
       "    }\n",
       "\n",
       "    .dataframe tbody tr th {\n",
       "        vertical-align: top;\n",
       "    }\n",
       "\n",
       "    .dataframe thead th {\n",
       "        text-align: right;\n",
       "    }\n",
       "</style>\n",
       "<table border=\"1\" class=\"dataframe\">\n",
       "  <thead>\n",
       "    <tr style=\"text-align: right;\">\n",
       "      <th>code</th>\n",
       "      <th>eid</th>\n",
       "      <th>CVD</th>\n",
       "      <th>Depression</th>\n",
       "      <th>Diabetes</th>\n",
       "      <th>visit0</th>\n",
       "      <th>visit1</th>\n",
       "      <th>time0</th>\n",
       "      <th>time1</th>\n",
       "      <th>time2</th>\n",
       "    </tr>\n",
       "  </thead>\n",
       "  <tbody>\n",
       "    <tr>\n",
       "      <th>0</th>\n",
       "      <td>1004849</td>\n",
       "      <td>NaT</td>\n",
       "      <td>2019-08-29</td>\n",
       "      <td>1999-10-14</td>\n",
       "      <td>2008-06-20</td>\n",
       "      <td>2013-02-04</td>\n",
       "      <td>[1999-10-14 00:00:00]</td>\n",
       "      <td>[]</td>\n",
       "      <td>[2019-08-29 00:00:00]</td>\n",
       "    </tr>\n",
       "    <tr>\n",
       "      <th>1</th>\n",
       "      <td>1006558</td>\n",
       "      <td>NaT</td>\n",
       "      <td>2014-09-01</td>\n",
       "      <td>NaT</td>\n",
       "      <td>2007-12-17</td>\n",
       "      <td>2013-01-30</td>\n",
       "      <td>[]</td>\n",
       "      <td>[]</td>\n",
       "      <td>[2014-09-01 00:00:00]</td>\n",
       "    </tr>\n",
       "    <tr>\n",
       "      <th>2</th>\n",
       "      <td>1008230</td>\n",
       "      <td>NaT</td>\n",
       "      <td>1998-05-26</td>\n",
       "      <td>NaT</td>\n",
       "      <td>2007-06-25</td>\n",
       "      <td>2012-08-31</td>\n",
       "      <td>[1998-05-26 00:00:00]</td>\n",
       "      <td>[]</td>\n",
       "      <td>[]</td>\n",
       "    </tr>\n",
       "    <tr>\n",
       "      <th>3</th>\n",
       "      <td>1008381</td>\n",
       "      <td>NaT</td>\n",
       "      <td>NaT</td>\n",
       "      <td>2011-01-10</td>\n",
       "      <td>2008-06-09</td>\n",
       "      <td>2012-11-01</td>\n",
       "      <td>[]</td>\n",
       "      <td>[2011-01-10 00:00:00]</td>\n",
       "      <td>[]</td>\n",
       "    </tr>\n",
       "    <tr>\n",
       "      <th>4</th>\n",
       "      <td>1011321</td>\n",
       "      <td>NaT</td>\n",
       "      <td>2013-04-03</td>\n",
       "      <td>NaT</td>\n",
       "      <td>2008-03-03</td>\n",
       "      <td>2013-05-25</td>\n",
       "      <td>[]</td>\n",
       "      <td>[]</td>\n",
       "      <td>[]</td>\n",
       "    </tr>\n",
       "    <tr>\n",
       "      <th>...</th>\n",
       "      <td>...</td>\n",
       "      <td>...</td>\n",
       "      <td>...</td>\n",
       "      <td>...</td>\n",
       "      <td>...</td>\n",
       "      <td>...</td>\n",
       "      <td>...</td>\n",
       "      <td>...</td>\n",
       "      <td>...</td>\n",
       "    </tr>\n",
       "    <tr>\n",
       "      <th>4164</th>\n",
       "      <td>6019794</td>\n",
       "      <td>2018-03-01</td>\n",
       "      <td>NaT</td>\n",
       "      <td>NaT</td>\n",
       "      <td>2007-12-11</td>\n",
       "      <td>2013-05-05</td>\n",
       "      <td>[]</td>\n",
       "      <td>[]</td>\n",
       "      <td>[2018-03-01 00:00:00]</td>\n",
       "    </tr>\n",
       "    <tr>\n",
       "      <th>4165</th>\n",
       "      <td>6019978</td>\n",
       "      <td>2004-11-05</td>\n",
       "      <td>NaT</td>\n",
       "      <td>NaT</td>\n",
       "      <td>2009-04-24</td>\n",
       "      <td>2013-01-23</td>\n",
       "      <td>[2004-11-05 00:00:00]</td>\n",
       "      <td>[]</td>\n",
       "      <td>[]</td>\n",
       "    </tr>\n",
       "    <tr>\n",
       "      <th>4166</th>\n",
       "      <td>6020459</td>\n",
       "      <td>NaT</td>\n",
       "      <td>NaT</td>\n",
       "      <td>2009-05-20</td>\n",
       "      <td>2008-09-01</td>\n",
       "      <td>2013-05-12</td>\n",
       "      <td>[]</td>\n",
       "      <td>[]</td>\n",
       "      <td>[]</td>\n",
       "    </tr>\n",
       "    <tr>\n",
       "      <th>4167</th>\n",
       "      <td>6021437</td>\n",
       "      <td>2019-04-26</td>\n",
       "      <td>2019-04-26</td>\n",
       "      <td>NaT</td>\n",
       "      <td>2008-06-13</td>\n",
       "      <td>2012-11-08</td>\n",
       "      <td>[]</td>\n",
       "      <td>[]</td>\n",
       "      <td>[2019-04-26 00:00:00, 2019-04-26 00:00:00]</td>\n",
       "    </tr>\n",
       "    <tr>\n",
       "      <th>4168</th>\n",
       "      <td>6023254</td>\n",
       "      <td>2003-08-06</td>\n",
       "      <td>NaT</td>\n",
       "      <td>2016-12-06</td>\n",
       "      <td>2009-03-07</td>\n",
       "      <td>2013-05-15</td>\n",
       "      <td>[2003-08-06 00:00:00]</td>\n",
       "      <td>[]</td>\n",
       "      <td>[2016-12-06 00:00:00]</td>\n",
       "    </tr>\n",
       "  </tbody>\n",
       "</table>\n",
       "<p>4169 rows × 9 columns</p>\n",
       "</div>"
      ],
      "text/plain": [
       "code      eid        CVD Depression   Diabetes     visit0     visit1  \\\n",
       "0     1004849        NaT 2019-08-29 1999-10-14 2008-06-20 2013-02-04   \n",
       "1     1006558        NaT 2014-09-01        NaT 2007-12-17 2013-01-30   \n",
       "2     1008230        NaT 1998-05-26        NaT 2007-06-25 2012-08-31   \n",
       "3     1008381        NaT        NaT 2011-01-10 2008-06-09 2012-11-01   \n",
       "4     1011321        NaT 2013-04-03        NaT 2008-03-03 2013-05-25   \n",
       "...       ...        ...        ...        ...        ...        ...   \n",
       "4164  6019794 2018-03-01        NaT        NaT 2007-12-11 2013-05-05   \n",
       "4165  6019978 2004-11-05        NaT        NaT 2009-04-24 2013-01-23   \n",
       "4166  6020459        NaT        NaT 2009-05-20 2008-09-01 2013-05-12   \n",
       "4167  6021437 2019-04-26 2019-04-26        NaT 2008-06-13 2012-11-08   \n",
       "4168  6023254 2003-08-06        NaT 2016-12-06 2009-03-07 2013-05-15   \n",
       "\n",
       "code                  time0                  time1  \\\n",
       "0     [1999-10-14 00:00:00]                     []   \n",
       "1                        []                     []   \n",
       "2     [1998-05-26 00:00:00]                     []   \n",
       "3                        []  [2011-01-10 00:00:00]   \n",
       "4                        []                     []   \n",
       "...                     ...                    ...   \n",
       "4164                     []                     []   \n",
       "4165  [2004-11-05 00:00:00]                     []   \n",
       "4166                     []                     []   \n",
       "4167                     []                     []   \n",
       "4168  [2003-08-06 00:00:00]                     []   \n",
       "\n",
       "code                                       time2  \n",
       "0                          [2019-08-29 00:00:00]  \n",
       "1                          [2014-09-01 00:00:00]  \n",
       "2                                             []  \n",
       "3                                             []  \n",
       "4                                             []  \n",
       "...                                          ...  \n",
       "4164                       [2018-03-01 00:00:00]  \n",
       "4165                                          []  \n",
       "4166                                          []  \n",
       "4167  [2019-04-26 00:00:00, 2019-04-26 00:00:00]  \n",
       "4168                       [2016-12-06 00:00:00]  \n",
       "\n",
       "[4169 rows x 9 columns]"
      ]
     },
     "execution_count": 142,
     "metadata": {},
     "output_type": "execute_result"
    }
   ],
   "source": [
    "df"
   ]
  },
  {
   "cell_type": "code",
   "execution_count": null,
   "id": "ac416d8e",
   "metadata": {},
   "outputs": [],
   "source": []
  }
 ],
 "metadata": {
  "kernelspec": {
   "display_name": "Python 3 (ipykernel)",
   "language": "python",
   "name": "python3"
  },
  "language_info": {
   "codemirror_mode": {
    "name": "ipython",
    "version": 3
   },
   "file_extension": ".py",
   "mimetype": "text/x-python",
   "name": "python",
   "nbconvert_exporter": "python",
   "pygments_lexer": "ipython3",
   "version": "3.9.7"
  }
 },
 "nbformat": 4,
 "nbformat_minor": 5
}
