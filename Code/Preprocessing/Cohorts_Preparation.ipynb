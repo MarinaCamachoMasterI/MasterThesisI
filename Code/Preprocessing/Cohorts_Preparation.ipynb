{
 "cells": [
  {
   "cell_type": "markdown",
   "id": "e82105f3",
   "metadata": {},
   "source": [
    "# Data Preparation"
   ]
  },
  {
   "cell_type": "code",
   "execution_count": 2,
   "id": "a3684bbe",
   "metadata": {},
   "outputs": [],
   "source": [
    "#Main\n",
    "import pandas as pd\n",
    "import numpy as np\n",
    "from math import floor\n",
    "import time\n",
    "import pickle\n",
    "from tqdm import tqdm\n",
    "from collections import defaultdict# import warnings filter\n",
    "from pandas.tseries.offsets import DateOffset"
   ]
  },
  {
   "cell_type": "markdown",
   "id": "5b1c9ea9",
   "metadata": {},
   "source": [
    "### Data download"
   ]
  },
  {
   "cell_type": "code",
   "execution_count": 3,
   "id": "67973817",
   "metadata": {},
   "outputs": [],
   "source": [
    "LOAD = \"/Users/marinacamacho/Desktop/Master_I/Raw_Data\"\n",
    "DUMP = \"Processed\"\n",
    "DIS = \"Depression\"\n",
    "MOD = \"Models\""
   ]
  },
  {
   "cell_type": "code",
   "execution_count": 4,
   "id": "0f261fe3",
   "metadata": {},
   "outputs": [],
   "source": [
    "DropCols = [#\"Ethnic\", \"Skin_colour\",#\"Assessment_centre\",#\"Sex\",\n",
    "            #\"Recurrent_moderate_depression\",\"Recurrent_severe_depression\", \"Single_depression_episode\",\n",
    "            \"Depressed_2weeks\", \"Ever_depressed_1week\", \"Longest_depression\", \"Number_depression\",\n",
    "            #'APOA', 'APOB','Cholesterol', 'CRP', 'Glucose', 'HbA1c', 'HDL', 'IGF_1',\n",
    "            #'Testosterone', 'Triglyceride', \n",
    "            'Seen_doctor', 'Seen_sychiatrist', 'Body_fat-free_mass','Body_fat_percentage',]"
   ]
  },
  {
   "cell_type": "code",
   "execution_count": 5,
   "id": "b50500b6",
   "metadata": {},
   "outputs": [],
   "source": [
    "# Exposome data\n",
    "df_expo = pd.read_csv(f'{LOAD}/Time_0/all_exposome_0.csv', usecols=lambda col: col not in DropCols)\n",
    "df_expo = df_expo.set_index('f.eid')\n",
    "df_expo.index.name = 'eid'\n",
    "df_expo = df_expo.sort_index(axis=1)\n",
    "df_expo2 = pd.read_csv(f'{LOAD}/Time_1/all_exposome_1.csv', usecols=lambda col: col not in DropCols)\n",
    "df_expo2 = df_expo2.set_index('f.eid')\n",
    "df_expo2 = df_expo2.sort_index(axis=1)\n",
    "df_expo2.index.name = 'eid'"
   ]
  },
  {
   "cell_type": "code",
   "execution_count": 6,
   "id": "72fc02d8",
   "metadata": {},
   "outputs": [
    {
     "data": {
      "text/plain": [
       "['A/AS',\n",
       " 'APOA',\n",
       " 'APOB',\n",
       " 'Able_to_confide',\n",
       " 'Able_to_pay_rent/mortgage',\n",
       " 'Abused_family_child',\n",
       " 'Accident_life-threatening',\n",
       " 'Active_than_usual',\n",
       " 'Adopted_child',\n",
       " 'Adult_education_class',\n",
       " 'Age',\n",
       " 'Age_full_education',\n",
       " 'All_of_the_above',\n",
       " 'Alzheimer_disease/dementia_F',\n",
       " 'Alzheimer_disease/dementia_M',\n",
       " 'Alzheimer_disease/dementia_S',\n",
       " 'Assessment_centre',\n",
       " 'Avoided_activities_1month',\n",
       " 'BMI',\n",
       " 'Back_pain',\n",
       " 'Beef_intake',\n",
       " 'Belittlement_partner',\n",
       " 'Bipolar_II_Disorder',\n",
       " 'Bipolar_I_Disorder',\n",
       " 'Bipolar_disorder_status',\n",
       " 'Bipolar_status',\n",
       " 'Biscuit_cereal',\n",
       " 'Bleeding_gums',\n",
       " 'Bowel_cancer_F',\n",
       " 'Bowel_cancer_M',\n",
       " 'Bowel_cancer_S',\n",
       " 'Bran_cereal',\n",
       " 'Bread_intake',\n",
       " 'Breast_cancer_F',\n",
       " 'Breast_cancer_M',\n",
       " 'Breast_cancer_S',\n",
       " 'Breastfed_baby',\n",
       " 'Brown',\n",
       " 'Butter/spreadable_butter',\n",
       " 'CRP',\n",
       " 'CSE',\n",
       " 'Cancer_age_first',\n",
       " 'Cancer_diagnosed_by_doctor',\n",
       " 'Care_home',\n",
       " 'Cereal_intake',\n",
       " 'Cheese_intake',\n",
       " 'Cholesterol',\n",
       " 'Chronic_bronchitis/emphysema_F',\n",
       " 'Chronic_bronchitis/emphysema_M',\n",
       " 'Chronic_bronchitis/emphysema_S',\n",
       " 'Coffee_intake',\n",
       " 'Confiding_relationship',\n",
       " 'Cooked_vegetable_intake',\n",
       " 'Creative_than_usual',\n",
       " 'Current_smoking',\n",
       " 'Daytime_dozing/sleeping',\n",
       " 'Decaffeinated_coffee',\n",
       " 'Dentures',\n",
       " 'Diabetes_F',\n",
       " 'Diabetes_M',\n",
       " 'Diabetes_S',\n",
       " 'Dietary_changes_5years',\n",
       " 'Difference_phone_use',\n",
       " 'Disturbing_thoughts_1month',\n",
       " 'Dried_fruit_intake',\n",
       " 'Drinker_status',\n",
       " 'Ethnic',\n",
       " 'Ever_cannabis',\n",
       " 'Ever_highly_irritable/argumentative',\n",
       " 'Ever_illicit_drug',\n",
       " 'Ever_manic/hyper',\n",
       " 'Ever_unenthusiastic_1week',\n",
       " 'Facial_pain',\n",
       " 'Family_relationship satisfaction',\n",
       " 'Fasting_time',\n",
       " 'Fed-up_feelings',\n",
       " 'Felt_loved_child',\n",
       " 'Financial_satisfaction',\n",
       " 'Flat/maisonette/apartment',\n",
       " 'Flora_Pro-Active/Benecol',\n",
       " 'Fractured/broken_bones',\n",
       " 'Frequency_drinking',\n",
       " 'Frequency_friend_family_visits',\n",
       " 'Frequency_of_solarium/sunlamp',\n",
       " 'Fresh_fruit_intake',\n",
       " 'Friendships_satisfaction',\n",
       " 'Full_cream',\n",
       " 'Getting_up_in_morning',\n",
       " 'Glucose',\n",
       " 'Ground_coffee',\n",
       " 'Guilty_feelings',\n",
       " 'HDL',\n",
       " 'Had_major_operation',\n",
       " 'Had_other_major_operations',\n",
       " 'Happiness',\n",
       " 'Hated_family_member_child',\n",
       " 'HbA1c',\n",
       " 'Headache',\n",
       " 'Health_satisfaction',\n",
       " 'Hearing_difficulty/problems',\n",
       " 'Heart_disease_F',\n",
       " 'Heart_disease_M',\n",
       " 'Heart_disease_S',\n",
       " 'High_blood_pressure_F',\n",
       " 'High_blood_pressure_M',\n",
       " 'High_blood_pressure_S',\n",
       " 'Hip_circumference',\n",
       " 'Hip_fracture_F',\n",
       " 'Hip_fracture_M',\n",
       " 'Hip_fracture_S',\n",
       " 'Hip_pain',\n",
       " 'House/bungalow',\n",
       " 'IGF_1',\n",
       " 'Injury_drinking',\n",
       " 'Instant_coffee',\n",
       " 'Irritability',\n",
       " 'Job_heavy_manual',\n",
       " 'Job_involves_shift',\n",
       " 'Job_walking_standing',\n",
       " 'Knee_pain',\n",
       " 'Lamb/mutton_intake',\n",
       " 'Leg_pain_on_walking',\n",
       " 'Length_manic/irritable_episode',\n",
       " 'Length_phone_use',\n",
       " 'Loneliness_isolation',\n",
       " 'Looking_after_home',\n",
       " 'Loose_teeth',\n",
       " 'Lung_cancer_F',\n",
       " 'Lung_cancer_M',\n",
       " 'Lung_cancer_S',\n",
       " 'Maternal_smoking_around_birth',\n",
       " 'Mean_time_to_identify_matches',\n",
       " 'Miserableness',\n",
       " 'Mobile/temporary_structure',\n",
       " 'Mood_swings',\n",
       " 'Morning_evening_person',\n",
       " 'Mouth_ulcers',\n",
       " 'Muesli',\n",
       " 'NVQ/HND/HNC',\n",
       " 'Nap_during_day',\n",
       " 'Neck_shoulder_pain',\n",
       " 'Needed_less_sleep_than_usual',\n",
       " 'Nervous_feelings',\n",
       " 'Never/rarely_have_milk',\n",
       " 'Never/rarely_use_spread',\n",
       " 'Non_oily_fish_intake',\n",
       " 'Number_cancers',\n",
       " 'Number_operation',\n",
       " 'O/GCSE',\n",
       " 'Oat_cereal',\n",
       " 'Oily_fish_intake',\n",
       " 'OtherBread',\n",
       " 'Other_cereal',\n",
       " 'Other_coffee',\n",
       " 'Other_group_activity',\n",
       " 'Other_serious_condition',\n",
       " 'Other_type_of_milk',\n",
       " 'Other_type_of_spread/margarine',\n",
       " 'Overall_health_rating',\n",
       " 'Own_mortgage',\n",
       " 'Own_outright',\n",
       " 'Paid_employment',\n",
       " 'Pain_body',\n",
       " 'Painful_gums',\n",
       " 'Parkinson_disease_F',\n",
       " 'Parkinson_disease_M',\n",
       " 'Parkinson_disease_S',\n",
       " 'Past_smoking',\n",
       " 'Pay_rent_mortgage',\n",
       " 'Physical_violence_partner',\n",
       " 'Plays_computer_games',\n",
       " 'Pork_intake',\n",
       " 'Poultry_intake',\n",
       " 'Processed_meat_intake',\n",
       " 'Professional',\n",
       " 'Prostate_cancer_F',\n",
       " 'Prostate_cancer_M',\n",
       " 'Prostate_cancer_S',\n",
       " 'Pub_or_social_club',\n",
       " 'Recommend_reduction_alcohol',\n",
       " 'Recurrent_moderate_depression',\n",
       " 'Recurrent_severe_depression',\n",
       " 'Religious_group',\n",
       " 'Rent_free',\n",
       " 'Rent_local',\n",
       " 'Rent_private',\n",
       " 'Retired',\n",
       " 'Risk_taking',\n",
       " 'Salad/raw_vegetable_intake',\n",
       " 'Salt_added',\n",
       " 'Semi-skimmed',\n",
       " 'Sensitivity',\n",
       " 'Severe_depression_F',\n",
       " 'Severe_depression_M',\n",
       " 'Severe_depression_S',\n",
       " 'Severity_of_manic/irritable_episodes',\n",
       " 'Sex',\n",
       " 'Sexual_interference_without_consent',\n",
       " 'Sexually_molested_child',\n",
       " 'Sheltered_accommodation',\n",
       " 'Sheltered_accommodation/temporary_structure',\n",
       " 'Single_depression_episode',\n",
       " 'Skimmed',\n",
       " 'Skin_colour',\n",
       " 'Sleep_duration',\n",
       " 'Sleeplessness',\n",
       " 'Snoring',\n",
       " 'Someone_take_doctor_child',\n",
       " 'Soya',\n",
       " 'Sports_club_or_gym',\n",
       " 'Standing_height',\n",
       " 'Stomach_abdominal_pain',\n",
       " 'Stroke_F',\n",
       " 'Stroke_M',\n",
       " 'Stroke_S',\n",
       " 'Student',\n",
       " 'Suffer_from_nerves',\n",
       " 'Talkative_than_usual',\n",
       " 'Tea_intake',\n",
       " 'Tense',\n",
       " 'Tenseness_2weeks',\n",
       " 'Testosterone',\n",
       " 'Time_outdoors_summer',\n",
       " 'Time_outdoors_winter',\n",
       " 'Tinnitus',\n",
       " 'Tiredness_2weeks',\n",
       " 'Toothache',\n",
       " 'Triglyceride',\n",
       " 'Unable_to_work',\n",
       " 'Unemployed',\n",
       " 'Unenthusiasm_2weeks',\n",
       " 'University',\n",
       " 'Unpaid_work',\n",
       " 'Upset_reminded_1month',\n",
       " 'Use_of_sun/uv_protection',\n",
       " 'Variation_diet',\n",
       " 'Victim_crime',\n",
       " 'Victim_sexual_assault',\n",
       " 'Waist_circumference',\n",
       " 'Water_intake',\n",
       " 'Weekly_phone_use',\n",
       " 'Weight',\n",
       " 'White',\n",
       " 'WholeMealgrain',\n",
       " 'Witnessed_death',\n",
       " 'Work/job_satisfaction',\n",
       " 'Worrier/Anxious_feelings',\n",
       " 'Worry_too_long_after_embarrassment']"
      ]
     },
     "execution_count": 6,
     "metadata": {},
     "output_type": "execute_result"
    }
   ],
   "source": [
    "list(df_expo.columns)"
   ]
  },
  {
   "cell_type": "code",
   "execution_count": 7,
   "id": "f4a63276",
   "metadata": {},
   "outputs": [
    {
     "data": {
      "text/plain": [
       "((502394, 248), (502394, 248))"
      ]
     },
     "execution_count": 7,
     "metadata": {},
     "output_type": "execute_result"
    }
   ],
   "source": [
    "df_expo.shape, df_expo2.shape"
   ]
  },
  {
   "cell_type": "code",
   "execution_count": 8,
   "id": "92f1a6d1",
   "metadata": {},
   "outputs": [],
   "source": [
    "#df_expo.dropna(subset=['Ethnic', 'Skin_colour', 'Sex'], inplace=True)\n",
    "#df_expo2.dropna(subset=['Ethnic', 'Skin_colour', 'Sex'], inplace=True)\n",
    "\n",
    "#df_expo = df_expo.sort_values(by=['eid']).reset_index(drop=True)\n",
    "#df_expo2 = df_expo2.sort_values(by=['eid']).reset_index(drop=True)"
   ]
  },
  {
   "cell_type": "code",
   "execution_count": 9,
   "id": "d79db90d",
   "metadata": {},
   "outputs": [
    {
     "name": "stderr",
     "output_type": "stream",
     "text": [
      "/opt/anaconda3/lib/python3.9/site-packages/pandas/util/_decorators.py:311: ParserWarning: Falling back to the 'python' engine because the 'c' engine does not support regex separators (separators > 1 char and different from '\\s+' are interpreted as regex); you can avoid this warning by specifying engine='python'.\n",
      "  return func(*args, **kwargs)\n"
     ]
    }
   ],
   "source": [
    "output = 'Depression'\n",
    "\n",
    "data = pd.read_csv(\"/Users/marinacamacho/Desktop/Master_I/Participants_Selection/PREDICTIVE_VISIT_DEPRESSION.csv\",delimiter=\"\\,\")\n",
    "#data.rename(columns={output: 'target'}, inplace=True)\n",
    "data = data.set_index('eid')\n",
    "data = data.sort_index(axis=1)\n",
    "\n",
    "data2 = pd.read_csv(\"/Users/marinacamacho/Desktop/Master_I/Participants_Selection/PREDICTIVE_VISIT_DEPRESSION.csv\",delimiter=\"\\,\")\n",
    "#data2.rename(columns={output: 'target'}, inplace=True)\n",
    "data2 = data2.set_index('eid')\n",
    "data2 = data2.sort_index(axis=1)\n",
    "\n",
    "healthy = pd.read_csv(\"/Users/marinacamacho/Desktop/Master_I/Participants_Selection/Healthy_Participants.csv\",delimiter=\"\\,\")\n",
    "healthy = healthy.set_index('eid')\n",
    "healthy = healthy.sort_index(axis=1)\n",
    "\n",
    "dates = pd.read_csv(\"/Users/marinacamacho/Desktop/Master_I/Participants_Selection/Date_Centre.csv\",delimiter=\"\\,\")\n",
    "dates = dates.set_index('eid')\n",
    "dates = dates.sort_index(axis=1)\n",
    "healthy = healthy.merge(dates, left_index=True, right_index=True, how='inner')\n",
    "#healthy = healthy.set_index('eid')\n",
    "#healthy = healthy.sort_index(axis=1)"
   ]
  },
  {
   "cell_type": "code",
   "execution_count": 10,
   "id": "dbb6a6be",
   "metadata": {},
   "outputs": [],
   "source": [
    "pd.DataFrame(df_expo['Sex']).to_csv(r'Sex0.csv', index = True, header=True)\n",
    "pd.DataFrame(df_expo2['Sex']).to_csv(r'Sex1.csv', index = True, header=True)"
   ]
  },
  {
   "cell_type": "code",
   "execution_count": 11,
   "id": "1c207c21",
   "metadata": {},
   "outputs": [
    {
     "data": {
      "text/html": [
       "<div>\n",
       "<style scoped>\n",
       "    .dataframe tbody tr th:only-of-type {\n",
       "        vertical-align: middle;\n",
       "    }\n",
       "\n",
       "    .dataframe tbody tr th {\n",
       "        vertical-align: top;\n",
       "    }\n",
       "\n",
       "    .dataframe thead th {\n",
       "        text-align: right;\n",
       "    }\n",
       "</style>\n",
       "<table border=\"1\" class=\"dataframe\">\n",
       "  <thead>\n",
       "    <tr style=\"text-align: right;\">\n",
       "      <th></th>\n",
       "      <th>date_centre_0</th>\n",
       "      <th>date_centre_1</th>\n",
       "    </tr>\n",
       "    <tr>\n",
       "      <th>eid</th>\n",
       "      <th></th>\n",
       "      <th></th>\n",
       "    </tr>\n",
       "  </thead>\n",
       "  <tbody>\n",
       "    <tr>\n",
       "      <th>1000091</th>\n",
       "      <td>2009-04-17</td>\n",
       "      <td>NaN</td>\n",
       "    </tr>\n",
       "  </tbody>\n",
       "</table>\n",
       "</div>"
      ],
      "text/plain": [
       "        date_centre_0 date_centre_1\n",
       "eid                                \n",
       "1000091    2009-04-17           NaN"
      ]
     },
     "execution_count": 11,
     "metadata": {},
     "output_type": "execute_result"
    }
   ],
   "source": [
    "healthy.head(1)"
   ]
  },
  {
   "cell_type": "code",
   "execution_count": 12,
   "id": "f0695412",
   "metadata": {},
   "outputs": [
    {
     "data": {
      "text/html": [
       "<div>\n",
       "<style scoped>\n",
       "    .dataframe tbody tr th:only-of-type {\n",
       "        vertical-align: middle;\n",
       "    }\n",
       "\n",
       "    .dataframe tbody tr th {\n",
       "        vertical-align: top;\n",
       "    }\n",
       "\n",
       "    .dataframe thead th {\n",
       "        text-align: right;\n",
       "    }\n",
       "</style>\n",
       "<table border=\"1\" class=\"dataframe\">\n",
       "  <thead>\n",
       "    <tr style=\"text-align: right;\">\n",
       "      <th></th>\n",
       "      <th>CVD</th>\n",
       "      <th>Depression</th>\n",
       "      <th>Diabetes</th>\n",
       "      <th>visit0</th>\n",
       "      <th>visit1</th>\n",
       "    </tr>\n",
       "    <tr>\n",
       "      <th>eid</th>\n",
       "      <th></th>\n",
       "      <th></th>\n",
       "      <th></th>\n",
       "      <th></th>\n",
       "      <th></th>\n",
       "    </tr>\n",
       "  </thead>\n",
       "  <tbody>\n",
       "    <tr>\n",
       "      <th>1000028</th>\n",
       "      <td>1997-12-12</td>\n",
       "      <td>NaN</td>\n",
       "      <td>NaN</td>\n",
       "      <td>2009-10-26</td>\n",
       "      <td>NaN</td>\n",
       "    </tr>\n",
       "    <tr>\n",
       "      <th>1000159</th>\n",
       "      <td>NaN</td>\n",
       "      <td>2009-10-08</td>\n",
       "      <td>NaN</td>\n",
       "      <td>2008-04-01</td>\n",
       "      <td>NaN</td>\n",
       "    </tr>\n",
       "    <tr>\n",
       "      <th>1000648</th>\n",
       "      <td>2002-12-17</td>\n",
       "      <td>NaN</td>\n",
       "      <td>NaN</td>\n",
       "      <td>2008-02-02</td>\n",
       "      <td>NaN</td>\n",
       "    </tr>\n",
       "    <tr>\n",
       "      <th>1000813</th>\n",
       "      <td>2004-10-27</td>\n",
       "      <td>NaN</td>\n",
       "      <td>NaN</td>\n",
       "      <td>2008-12-04</td>\n",
       "      <td>NaN</td>\n",
       "    </tr>\n",
       "    <tr>\n",
       "      <th>1000880</th>\n",
       "      <td>2008-01-17</td>\n",
       "      <td>NaN</td>\n",
       "      <td>NaN</td>\n",
       "      <td>2010-02-24</td>\n",
       "      <td>NaN</td>\n",
       "    </tr>\n",
       "  </tbody>\n",
       "</table>\n",
       "</div>"
      ],
      "text/plain": [
       "                CVD  Depression Diabetes      visit0 visit1\n",
       "eid                                                        \n",
       "1000028  1997-12-12         NaN      NaN  2009-10-26    NaN\n",
       "1000159         NaN  2009-10-08      NaN  2008-04-01    NaN\n",
       "1000648  2002-12-17         NaN      NaN  2008-02-02    NaN\n",
       "1000813  2004-10-27         NaN      NaN  2008-12-04    NaN\n",
       "1000880  2008-01-17         NaN      NaN  2010-02-24    NaN"
      ]
     },
     "execution_count": 12,
     "metadata": {},
     "output_type": "execute_result"
    }
   ],
   "source": [
    "data.head(5)"
   ]
  },
  {
   "cell_type": "code",
   "execution_count": 13,
   "id": "af88cf4b",
   "metadata": {},
   "outputs": [],
   "source": [
    "datas = [data,data2]\n",
    "\n",
    "for dataset in datas:\n",
    "# convert your columns to datetime if they aren't already\n",
    "    for column in list(dataset.columns):\n",
    "        dataset[column] = pd.to_datetime(dataset[column])\n",
    "        \n",
    "    dataset['PastDiabetes'] = dataset.apply(lambda row: (pd.notnull(row['Diabetes'])) & \n",
    "                                       (row['Diabetes'] < row['visit0'] - DateOffset(years=1))\n",
    "                                       , axis=1).astype(int)\n",
    "    dataset['PastCVD'] = dataset.apply(lambda row: (pd.notnull(row['CVD'])) & \n",
    "                                       (row['CVD'] < row['visit0'] - DateOffset(years=1))\n",
    "                                       , axis=1).astype(int)\n",
    "    \n",
    "    dataset['target'] = dataset.apply(lambda row: (pd.notnull(row['Depression'])) & \n",
    "                                       (row['Depression'] >= row['visit0'] + DateOffset(years=1))\n",
    "                                       , axis=1).astype(int)"
   ]
  },
  {
   "cell_type": "code",
   "execution_count": 14,
   "id": "23d79cf5",
   "metadata": {},
   "outputs": [
    {
     "data": {
      "text/html": [
       "<div>\n",
       "<style scoped>\n",
       "    .dataframe tbody tr th:only-of-type {\n",
       "        vertical-align: middle;\n",
       "    }\n",
       "\n",
       "    .dataframe tbody tr th {\n",
       "        vertical-align: top;\n",
       "    }\n",
       "\n",
       "    .dataframe thead th {\n",
       "        text-align: right;\n",
       "    }\n",
       "</style>\n",
       "<table border=\"1\" class=\"dataframe\">\n",
       "  <thead>\n",
       "    <tr style=\"text-align: right;\">\n",
       "      <th></th>\n",
       "      <th>CVD</th>\n",
       "      <th>Depression</th>\n",
       "      <th>Diabetes</th>\n",
       "      <th>visit0</th>\n",
       "      <th>visit1</th>\n",
       "      <th>PastDiabetes</th>\n",
       "      <th>PastCVD</th>\n",
       "      <th>target</th>\n",
       "    </tr>\n",
       "    <tr>\n",
       "      <th>eid</th>\n",
       "      <th></th>\n",
       "      <th></th>\n",
       "      <th></th>\n",
       "      <th></th>\n",
       "      <th></th>\n",
       "      <th></th>\n",
       "      <th></th>\n",
       "      <th></th>\n",
       "    </tr>\n",
       "  </thead>\n",
       "  <tbody>\n",
       "    <tr>\n",
       "      <th>1000028</th>\n",
       "      <td>1997-12-12</td>\n",
       "      <td>NaT</td>\n",
       "      <td>NaT</td>\n",
       "      <td>2009-10-26</td>\n",
       "      <td>NaT</td>\n",
       "      <td>0</td>\n",
       "      <td>1</td>\n",
       "      <td>0</td>\n",
       "    </tr>\n",
       "    <tr>\n",
       "      <th>1000159</th>\n",
       "      <td>NaT</td>\n",
       "      <td>2009-10-08</td>\n",
       "      <td>NaT</td>\n",
       "      <td>2008-04-01</td>\n",
       "      <td>NaT</td>\n",
       "      <td>0</td>\n",
       "      <td>0</td>\n",
       "      <td>1</td>\n",
       "    </tr>\n",
       "    <tr>\n",
       "      <th>1000648</th>\n",
       "      <td>2002-12-17</td>\n",
       "      <td>NaT</td>\n",
       "      <td>NaT</td>\n",
       "      <td>2008-02-02</td>\n",
       "      <td>NaT</td>\n",
       "      <td>0</td>\n",
       "      <td>1</td>\n",
       "      <td>0</td>\n",
       "    </tr>\n",
       "    <tr>\n",
       "      <th>1000813</th>\n",
       "      <td>2004-10-27</td>\n",
       "      <td>NaT</td>\n",
       "      <td>NaT</td>\n",
       "      <td>2008-12-04</td>\n",
       "      <td>NaT</td>\n",
       "      <td>0</td>\n",
       "      <td>1</td>\n",
       "      <td>0</td>\n",
       "    </tr>\n",
       "    <tr>\n",
       "      <th>1000880</th>\n",
       "      <td>2008-01-17</td>\n",
       "      <td>NaT</td>\n",
       "      <td>NaT</td>\n",
       "      <td>2010-02-24</td>\n",
       "      <td>NaT</td>\n",
       "      <td>0</td>\n",
       "      <td>1</td>\n",
       "      <td>0</td>\n",
       "    </tr>\n",
       "  </tbody>\n",
       "</table>\n",
       "</div>"
      ],
      "text/plain": [
       "               CVD Depression Diabetes     visit0 visit1  PastDiabetes  \\\n",
       "eid                                                                      \n",
       "1000028 1997-12-12        NaT      NaT 2009-10-26    NaT             0   \n",
       "1000159        NaT 2009-10-08      NaT 2008-04-01    NaT             0   \n",
       "1000648 2002-12-17        NaT      NaT 2008-02-02    NaT             0   \n",
       "1000813 2004-10-27        NaT      NaT 2008-12-04    NaT             0   \n",
       "1000880 2008-01-17        NaT      NaT 2010-02-24    NaT             0   \n",
       "\n",
       "         PastCVD  target  \n",
       "eid                       \n",
       "1000028        1       0  \n",
       "1000159        0       1  \n",
       "1000648        1       0  \n",
       "1000813        1       0  \n",
       "1000880        1       0  "
      ]
     },
     "execution_count": 14,
     "metadata": {},
     "output_type": "execute_result"
    }
   ],
   "source": [
    "data.head(5)"
   ]
  },
  {
   "cell_type": "code",
   "execution_count": 15,
   "id": "f7cb81ce",
   "metadata": {},
   "outputs": [
    {
     "data": {
      "text/plain": [
       "((47725, 8), (47725, 8), (1549, 8))"
      ]
     },
     "execution_count": 15,
     "metadata": {},
     "output_type": "execute_result"
    }
   ],
   "source": [
    "data.shape, data.dropna(subset=['visit0']).shape, data.dropna(subset=['visit1']).shape"
   ]
  },
  {
   "cell_type": "code",
   "execution_count": 16,
   "id": "cee01fc5",
   "metadata": {},
   "outputs": [
    {
     "data": {
      "text/plain": [
       "0    26744\n",
       "1    20981\n",
       "Name: PastCVD, dtype: int64"
      ]
     },
     "execution_count": 16,
     "metadata": {},
     "output_type": "execute_result"
    }
   ],
   "source": [
    "data['PastCVD'].value_counts()"
   ]
  },
  {
   "cell_type": "code",
   "execution_count": 17,
   "id": "1854718f",
   "metadata": {},
   "outputs": [
    {
     "data": {
      "text/plain": [
       "0    38606\n",
       "1     9119\n",
       "Name: PastDiabetes, dtype: int64"
      ]
     },
     "execution_count": 17,
     "metadata": {},
     "output_type": "execute_result"
    }
   ],
   "source": [
    "data['PastDiabetes'].value_counts()"
   ]
  },
  {
   "cell_type": "code",
   "execution_count": 18,
   "id": "efc63624",
   "metadata": {},
   "outputs": [
    {
     "data": {
      "text/plain": [
       "0    25121\n",
       "1    22604\n",
       "Name: target, dtype: int64"
      ]
     },
     "execution_count": 18,
     "metadata": {},
     "output_type": "execute_result"
    }
   ],
   "source": [
    "data['target'].value_counts()"
   ]
  },
  {
   "cell_type": "code",
   "execution_count": 19,
   "id": "e3b4c4f1",
   "metadata": {},
   "outputs": [],
   "source": [
    "healthy['CVD'] = None\n",
    "healthy['Depression'] = None\n",
    "healthy['Diabetes'] = None\n",
    "healthy['visit0'] = healthy['date_centre_0']\n",
    "healthy['visit1'] = healthy['date_centre_1']\n",
    "del healthy['date_centre_0']\n",
    "del healthy['date_centre_1']\n",
    "for column in list(healthy.columns):\n",
    "    healthy[column] = pd.to_datetime(healthy[column])\n",
    "healthy['PastDiabetes'] = 0\n",
    "healthy['PastCVD'] = 0\n",
    "healthy['target'] = 0"
   ]
  },
  {
   "cell_type": "code",
   "execution_count": 20,
   "id": "a2a21c08",
   "metadata": {},
   "outputs": [
    {
     "data": {
      "text/html": [
       "<div>\n",
       "<style scoped>\n",
       "    .dataframe tbody tr th:only-of-type {\n",
       "        vertical-align: middle;\n",
       "    }\n",
       "\n",
       "    .dataframe tbody tr th {\n",
       "        vertical-align: top;\n",
       "    }\n",
       "\n",
       "    .dataframe thead th {\n",
       "        text-align: right;\n",
       "    }\n",
       "</style>\n",
       "<table border=\"1\" class=\"dataframe\">\n",
       "  <thead>\n",
       "    <tr style=\"text-align: right;\">\n",
       "      <th></th>\n",
       "      <th>CVD</th>\n",
       "      <th>Depression</th>\n",
       "      <th>Diabetes</th>\n",
       "      <th>visit0</th>\n",
       "      <th>visit1</th>\n",
       "      <th>PastDiabetes</th>\n",
       "      <th>PastCVD</th>\n",
       "      <th>target</th>\n",
       "    </tr>\n",
       "    <tr>\n",
       "      <th>eid</th>\n",
       "      <th></th>\n",
       "      <th></th>\n",
       "      <th></th>\n",
       "      <th></th>\n",
       "      <th></th>\n",
       "      <th></th>\n",
       "      <th></th>\n",
       "      <th></th>\n",
       "    </tr>\n",
       "  </thead>\n",
       "  <tbody>\n",
       "    <tr>\n",
       "      <th>1000028</th>\n",
       "      <td>1997-12-12</td>\n",
       "      <td>NaT</td>\n",
       "      <td>NaT</td>\n",
       "      <td>2009-10-26</td>\n",
       "      <td>NaT</td>\n",
       "      <td>0</td>\n",
       "      <td>1</td>\n",
       "      <td>0</td>\n",
       "    </tr>\n",
       "  </tbody>\n",
       "</table>\n",
       "</div>"
      ],
      "text/plain": [
       "               CVD Depression Diabetes     visit0 visit1  PastDiabetes  \\\n",
       "eid                                                                      \n",
       "1000028 1997-12-12        NaT      NaT 2009-10-26    NaT             0   \n",
       "\n",
       "         PastCVD  target  \n",
       "eid                       \n",
       "1000028        1       0  "
      ]
     },
     "execution_count": 20,
     "metadata": {},
     "output_type": "execute_result"
    }
   ],
   "source": [
    "data.head(1)"
   ]
  },
  {
   "cell_type": "code",
   "execution_count": 21,
   "id": "fadc062f",
   "metadata": {},
   "outputs": [
    {
     "data": {
      "text/html": [
       "<div>\n",
       "<style scoped>\n",
       "    .dataframe tbody tr th:only-of-type {\n",
       "        vertical-align: middle;\n",
       "    }\n",
       "\n",
       "    .dataframe tbody tr th {\n",
       "        vertical-align: top;\n",
       "    }\n",
       "\n",
       "    .dataframe thead th {\n",
       "        text-align: right;\n",
       "    }\n",
       "</style>\n",
       "<table border=\"1\" class=\"dataframe\">\n",
       "  <thead>\n",
       "    <tr style=\"text-align: right;\">\n",
       "      <th></th>\n",
       "      <th>CVD</th>\n",
       "      <th>Depression</th>\n",
       "      <th>Diabetes</th>\n",
       "      <th>visit0</th>\n",
       "      <th>visit1</th>\n",
       "      <th>PastDiabetes</th>\n",
       "      <th>PastCVD</th>\n",
       "      <th>target</th>\n",
       "    </tr>\n",
       "    <tr>\n",
       "      <th>eid</th>\n",
       "      <th></th>\n",
       "      <th></th>\n",
       "      <th></th>\n",
       "      <th></th>\n",
       "      <th></th>\n",
       "      <th></th>\n",
       "      <th></th>\n",
       "      <th></th>\n",
       "    </tr>\n",
       "  </thead>\n",
       "  <tbody>\n",
       "    <tr>\n",
       "      <th>1000091</th>\n",
       "      <td>NaT</td>\n",
       "      <td>NaT</td>\n",
       "      <td>NaT</td>\n",
       "      <td>2009-04-17</td>\n",
       "      <td>NaT</td>\n",
       "      <td>0</td>\n",
       "      <td>0</td>\n",
       "      <td>0</td>\n",
       "    </tr>\n",
       "  </tbody>\n",
       "</table>\n",
       "</div>"
      ],
      "text/plain": [
       "        CVD Depression Diabetes     visit0 visit1  PastDiabetes  PastCVD  \\\n",
       "eid                                                                        \n",
       "1000091 NaT        NaT      NaT 2009-04-17    NaT             0        0   \n",
       "\n",
       "         target  \n",
       "eid              \n",
       "1000091       0  "
      ]
     },
     "execution_count": 21,
     "metadata": {},
     "output_type": "execute_result"
    }
   ],
   "source": [
    "healthy.head(1)"
   ]
  },
  {
   "cell_type": "code",
   "execution_count": 22,
   "id": "4ccd656b",
   "metadata": {},
   "outputs": [],
   "source": [
    "data_final = pd.concat([data,healthy],axis=0).sort_index(axis=1).sort_index(axis=0)"
   ]
  },
  {
   "cell_type": "code",
   "execution_count": 23,
   "id": "4e37cf35",
   "metadata": {},
   "outputs": [],
   "source": [
    "data_final.to_csv(r'data_final_outputs.csv', index = False, header=True)"
   ]
  },
  {
   "cell_type": "code",
   "execution_count": 24,
   "id": "2f7c51d1",
   "metadata": {},
   "outputs": [],
   "source": [
    "data_final_1 = data_final.dropna(subset=['visit1']).sort_values(by=['eid'])\n",
    "data_final_0 = data_final[~data_final.index.isin(data_final_1.index)].sort_values(by=['eid'])"
   ]
  },
  {
   "cell_type": "code",
   "execution_count": 25,
   "id": "cd7b8af7",
   "metadata": {},
   "outputs": [
    {
     "data": {
      "text/plain": [
       "((113825, 8), (109727, 8), (4098, 8), True)"
      ]
     },
     "execution_count": 25,
     "metadata": {},
     "output_type": "execute_result"
    }
   ],
   "source": [
    "data_final.shape, data_final_0.shape, data_final_1.shape, data_final_1.shape[0]==data_final.shape[0]-data_final_0.shape[0]"
   ]
  },
  {
   "cell_type": "code",
   "execution_count": 26,
   "id": "4225d5fd",
   "metadata": {},
   "outputs": [],
   "source": [
    "df_expo_0 = df_expo[df_expo.index.isin(data_final_0.index)].sort_values(by=['eid'])\n",
    "df_expo_1 = df_expo2[df_expo2.index.isin(data_final_1.index)].sort_values(by=['eid'])\n",
    "\n",
    "data_final_0 = data_final_0[data_final_0.index.isin(df_expo_0.index)].sort_values(by=['eid'])\n",
    "data_final_1 = data_final_1[data_final_1.index.isin(df_expo_1.index)].sort_values(by=['eid'])"
   ]
  },
  {
   "cell_type": "code",
   "execution_count": 27,
   "id": "637aa94f",
   "metadata": {},
   "outputs": [],
   "source": [
    "data_final_0.to_csv(r'data_final_outputs0.csv', index = False, header=True)\n",
    "data_final_1.to_csv(r'data_final_outputs1.csv', index = False, header=True)"
   ]
  },
  {
   "cell_type": "code",
   "execution_count": 28,
   "id": "b68246d3",
   "metadata": {},
   "outputs": [
    {
     "data": {
      "text/plain": [
       "0    87833\n",
       "1    21870\n",
       "Name: target, dtype: int64"
      ]
     },
     "execution_count": 28,
     "metadata": {},
     "output_type": "execute_result"
    }
   ],
   "source": [
    "data_final_0['target'].value_counts()"
   ]
  },
  {
   "cell_type": "code",
   "execution_count": 29,
   "id": "cb8b8ad7",
   "metadata": {},
   "outputs": [
    {
     "data": {
      "text/plain": [
       "0    3370\n",
       "1     728\n",
       "Name: target, dtype: int64"
      ]
     },
     "execution_count": 29,
     "metadata": {},
     "output_type": "execute_result"
    }
   ],
   "source": [
    "data_final_1['target'].value_counts()"
   ]
  },
  {
   "cell_type": "code",
   "execution_count": 30,
   "id": "2353bddb",
   "metadata": {},
   "outputs": [
    {
     "data": {
      "text/plain": [
       "((109703, 248), (4098, 248))"
      ]
     },
     "execution_count": 30,
     "metadata": {},
     "output_type": "execute_result"
    }
   ],
   "source": [
    "df_expo_0.shape,df_expo_1.shape"
   ]
  },
  {
   "cell_type": "code",
   "execution_count": 31,
   "id": "8f8facd1",
   "metadata": {},
   "outputs": [
    {
     "data": {
      "text/plain": [
       "((109703, 8), (4098, 8))"
      ]
     },
     "execution_count": 31,
     "metadata": {},
     "output_type": "execute_result"
    }
   ],
   "source": [
    "data_final_0.shape,data_final_1.shape"
   ]
  },
  {
   "cell_type": "code",
   "execution_count": 32,
   "id": "6cba3362",
   "metadata": {},
   "outputs": [],
   "source": [
    "features = [\"Recurrent_moderate_depression\", \"Recurrent_severe_depression\", \"Single_depression_episode\"]\n",
    "\n",
    "for feature in features:\n",
    "    # Identify the rows to drop for df_expo_0 and data_final_0\n",
    "    mask_0 = (df_expo_0[feature] == 1) & (data_final_0['target'] == 0)\n",
    "    rows_to_drop_0 = df_expo_0[mask_0].index\n",
    "    df_expo_0.drop(rows_to_drop_0, inplace=True)\n",
    "    data_final_0.drop(rows_to_drop_0, inplace=True)\n",
    "\n",
    "    # Identify the rows to drop for df_expo_1 and data_final_1\n",
    "    mask_1 = (df_expo_1[feature] == 1) & (data_final_1['target'] == 0)\n",
    "    rows_to_drop_1 = df_expo_1[mask_1].index\n",
    "    df_expo_1.drop(rows_to_drop_1, inplace=True)\n",
    "    data_final_1.drop(rows_to_drop_1, inplace=True)\n",
    "    \n",
    "    del df_expo_0[feature]\n",
    "    del df_expo_1[feature]"
   ]
  },
  {
   "cell_type": "code",
   "execution_count": 33,
   "id": "49c67b85",
   "metadata": {},
   "outputs": [
    {
     "data": {
      "text/plain": [
       "((105188, 245), (3969, 245))"
      ]
     },
     "execution_count": 33,
     "metadata": {},
     "output_type": "execute_result"
    }
   ],
   "source": [
    "df_expo_0.shape,df_expo_1.shape"
   ]
  },
  {
   "cell_type": "code",
   "execution_count": 34,
   "id": "435bada1",
   "metadata": {},
   "outputs": [
    {
     "data": {
      "text/plain": [
       "((105188, 8), (3969, 8))"
      ]
     },
     "execution_count": 34,
     "metadata": {},
     "output_type": "execute_result"
    }
   ],
   "source": [
    "data_final_0.shape,data_final_1.shape"
   ]
  },
  {
   "cell_type": "code",
   "execution_count": 35,
   "id": "b89c188e",
   "metadata": {},
   "outputs": [
    {
     "data": {
      "text/plain": [
       "0    83318\n",
       "1    21870\n",
       "Name: target, dtype: int64"
      ]
     },
     "execution_count": 35,
     "metadata": {},
     "output_type": "execute_result"
    }
   ],
   "source": [
    "data_final_0['target'].value_counts()"
   ]
  },
  {
   "cell_type": "code",
   "execution_count": 36,
   "id": "f0e16f54",
   "metadata": {},
   "outputs": [
    {
     "data": {
      "text/plain": [
       "0    3241\n",
       "1     728\n",
       "Name: target, dtype: int64"
      ]
     },
     "execution_count": 36,
     "metadata": {},
     "output_type": "execute_result"
    }
   ],
   "source": [
    "data_final_1['target'].value_counts()"
   ]
  },
  {
   "cell_type": "code",
   "execution_count": 37,
   "id": "7a88e1db",
   "metadata": {
    "scrolled": true
   },
   "outputs": [
    {
     "data": {
      "text/plain": [
       "11024.0    3969\n",
       "Name: Assessment_centre, dtype: int64"
      ]
     },
     "execution_count": 37,
     "metadata": {},
     "output_type": "execute_result"
    }
   ],
   "source": [
    "df_expo_1['Assessment_centre'].value_counts()"
   ]
  },
  {
   "cell_type": "code",
   "execution_count": 38,
   "id": "5299561e",
   "metadata": {},
   "outputs": [
    {
     "data": {
      "text/plain": [
       "11011.0    9667\n",
       "11010.0    8984\n",
       "11013.0    7575\n",
       "11009.0    7244\n",
       "11007.0    6943\n",
       "11018.0    6573\n",
       "11016.0    6096\n",
       "11020.0    5633\n",
       "11021.0    5216\n",
       "11014.0    5194\n",
       "11008.0    5070\n",
       "11003.0    4753\n",
       "11005.0    4401\n",
       "11017.0    4351\n",
       "11006.0    3962\n",
       "11004.0    3520\n",
       "11002.0    3230\n",
       "11012.0    3186\n",
       "11001.0    2224\n",
       "10003.0     720\n",
       "11022.0     515\n",
       "11023.0     130\n",
       "Name: Assessment_centre, dtype: int64"
      ]
     },
     "execution_count": 38,
     "metadata": {},
     "output_type": "execute_result"
    }
   ],
   "source": [
    "df_expo_0['Assessment_centre'].value_counts()"
   ]
  },
  {
   "cell_type": "code",
   "execution_count": null,
   "id": "3e413304",
   "metadata": {},
   "outputs": [],
   "source": []
  },
  {
   "cell_type": "code",
   "execution_count": 39,
   "id": "28642c50",
   "metadata": {},
   "outputs": [],
   "source": [
    "data = df_expo_0['Assessment_centre'].value_counts()\n",
    "\n",
    "names = {\n",
    "    11012.0: \"Barts\",\n",
    "    11021.0: \"Birmingham\",\n",
    "    11011.0: \"Bristol\",\n",
    "    11008.0: \"Bury\",\n",
    "    11003.0: \"Cardiff\",\n",
    "    11024.0: \"Cheadle\",\n",
    "    11020.0: \"Croydon\",\n",
    "    11005.0: \"Edinburgh\",\n",
    "    11004.0: \"Glasgow\",\n",
    "    11018.0: \"Hounslow\",\n",
    "    11010.0: \"Leeds\",\n",
    "    11016.0: \"Liverpool\",\n",
    "    11001.0: \"Manchester\",\n",
    "    11017.0: \"Middlesborough\",\n",
    "    11009.0: \"Newcastle\",\n",
    "    11013.0: \"Nottingham\",\n",
    "    11002.0: \"Oxford\",\n",
    "    11007.0: \"Reading\",\n",
    "    11014.0: \"Sheffield\",\n",
    "    10003.0: \"Stockport\",\n",
    "    11006.0: \"Stoke\",\n",
    "    11022.0: \"Swansea\",\n",
    "    11023.0: \"Wrexham\"\n",
    "}\n",
    "\n",
    "\n",
    "df = pd.DataFrame(list(data.items()), columns=[\"Centre\", \"Value\"])\n",
    "df['Centre'] = df['Centre'].replace(names)"
   ]
  },
  {
   "cell_type": "code",
   "execution_count": 40,
   "id": "f7322e81",
   "metadata": {},
   "outputs": [
    {
     "name": "stdout",
     "output_type": "stream",
     "text": [
      "Closest value to 30% of total: 31556\n",
      "Selected centres: ['Oxford', 'Sheffield', 'Hounslow', 'Nottingham', 'Leeds']\n"
     ]
    }
   ],
   "source": [
    "def find_closest_to_30_percent(values, centres, total):\n",
    "    target = int(0.3 * total)\n",
    "    n = len(values)\n",
    "    \n",
    "    # Create a DP table\n",
    "    dp = [[False for _ in range(target + 1)] for _ in range(n + 1)]\n",
    "    \n",
    "    # There is always a solution with 0 items to get sum 0\n",
    "    for i in range(n + 1):\n",
    "        dp[i][0] = True\n",
    "        \n",
    "    for i in range(1, n + 1):\n",
    "        dp[i][values[i-1]] = True\n",
    "        for j in range(1, target + 1):\n",
    "            if dp[i-1][j] or (j >= values[i-1] and dp[i-1][j-values[i-1]]):\n",
    "                dp[i][j] = True\n",
    "                \n",
    "    # Find the closest value to target\n",
    "    for j in range(target, -1, -1):\n",
    "        if dp[n][j]:\n",
    "            closest_value = j\n",
    "            break\n",
    "            \n",
    "    # Backtrack to find the centres\n",
    "    selected_centres = []\n",
    "    w = closest_value\n",
    "    for i in range(n, 0, -1):\n",
    "        if not dp[i-1][w]:\n",
    "            selected_centres.append(centres[i-1])\n",
    "            w -= values[i-1]\n",
    "\n",
    "    return closest_value, selected_centres\n",
    "\n",
    "values = df[\"Value\"].tolist()\n",
    "centres = df[\"Centre\"].tolist()\n",
    "total_value = sum(values)\n",
    "\n",
    "closest_value, selected_centres = find_closest_to_30_percent(values, centres, total_value)\n",
    "\n",
    "print(f\"Closest value to 30% of total: {closest_value}\")\n",
    "print(\"Selected centres:\", selected_centres)\n"
   ]
  },
  {
   "cell_type": "markdown",
   "id": "6835714b",
   "metadata": {},
   "source": [
    "- 11002.0: \"Oxford\"\n",
    "- 11014.0: \"Sheffield\"\n",
    "- 11018.0: \"Hounslow\"\n",
    "- 11013.0: \"Nottingham\"\n",
    "- 11010.0: \"Leeds\""
   ]
  },
  {
   "cell_type": "code",
   "execution_count": 41,
   "id": "ec5faeba",
   "metadata": {},
   "outputs": [],
   "source": [
    "to_remove = [11002.0,11014.0,11018.0,11013.0,11010.0]"
   ]
  },
  {
   "cell_type": "code",
   "execution_count": 42,
   "id": "89822a5f",
   "metadata": {},
   "outputs": [],
   "source": [
    "df_expo_0_int = df_expo_0[~(df_expo_0['Assessment_centre'].isin(to_remove))].sort_values(by=['eid'])\n",
    "df_expo_0_ext = df_expo_0[(df_expo_0['Assessment_centre'].isin(to_remove))].sort_values(by=['eid'])"
   ]
  },
  {
   "cell_type": "code",
   "execution_count": 43,
   "id": "60c87e13",
   "metadata": {},
   "outputs": [],
   "source": [
    "data_final_0_int = data_final_0[data_final_0.index.isin(df_expo_0_int.index)].sort_values(by=['eid'])\n",
    "data_final_0_ext = data_final_0[data_final_0.index.isin(df_expo_0_ext.index)].sort_values(by=['eid'])"
   ]
  },
  {
   "cell_type": "code",
   "execution_count": 44,
   "id": "bb1bf7de",
   "metadata": {},
   "outputs": [],
   "source": [
    "del df_expo_0_int['Assessment_centre']\n",
    "del df_expo_0_ext['Assessment_centre']\n",
    "del df_expo_1['Assessment_centre']"
   ]
  },
  {
   "cell_type": "code",
   "execution_count": 45,
   "id": "b50afd3c",
   "metadata": {},
   "outputs": [],
   "source": [
    "# Drop constant training columns\n",
    "drop_col = []\n",
    "for col in df_expo_0_int.columns:\n",
    "    if len(df_expo_0_int[col].value_counts())==1:\n",
    "        drop_col.append(col)\n",
    "\n",
    "df0 = df_expo_0_int.drop(drop_col, axis=1)\n",
    "df1 = df_expo_0_ext.drop(drop_col, axis=1)\n",
    "df2 = df_expo_1.drop(drop_col, axis=1)"
   ]
  },
  {
   "cell_type": "code",
   "execution_count": 46,
   "id": "fbc61173",
   "metadata": {},
   "outputs": [],
   "source": [
    "sparseFeatures = set()\n",
    "missingFeatures = pd.concat([df0]).isna().sum().divide(df0.shape[0]).sort_values(ascending=False)\n",
    "\n",
    "for name in missingFeatures.sort_values(ascending=False)[missingFeatures>0.3].keys():\n",
    "    sparseFeatures.add(name)\n",
    "\n",
    "df0 = df0.drop(sparseFeatures, axis=1)\n",
    "df1 = df1.drop(sparseFeatures, axis=1)\n",
    "df2 = df2.drop(sparseFeatures, axis=1)\n",
    "\n",
    "missingPatients = pd.concat([df0, df1, df2]).isna().sum(axis=1).divide(df0.shape[1]).sort_values(ascending=False)\n",
    "sparsePatients = missingPatients[missingPatients > 0.3].index\n",
    "\n",
    "trainCohort_X = df0[~df0.index.isin(sparsePatients)]\n",
    "extCohort_X = df1[~df1.index.isin(sparsePatients)]\n",
    "traceCohort_X = df2[~df2.index.isin(sparsePatients)]"
   ]
  },
  {
   "cell_type": "code",
   "execution_count": 47,
   "id": "9a5cdadd",
   "metadata": {},
   "outputs": [
    {
     "data": {
      "text/plain": [
       "((73344, 173), (31444, 173), (3967, 173))"
      ]
     },
     "execution_count": 47,
     "metadata": {},
     "output_type": "execute_result"
    }
   ],
   "source": [
    "trainCohort_X.shape, extCohort_X.shape, traceCohort_X.shape"
   ]
  },
  {
   "cell_type": "code",
   "execution_count": 48,
   "id": "9f124481",
   "metadata": {},
   "outputs": [
    {
     "data": {
      "text/plain": [
       "((73632, 8), (31556, 8), (3969, 8))"
      ]
     },
     "execution_count": 48,
     "metadata": {},
     "output_type": "execute_result"
    }
   ],
   "source": [
    "data_final_0_int.shape, data_final_0_ext.shape, data_final_1.shape"
   ]
  },
  {
   "cell_type": "code",
   "execution_count": 49,
   "id": "1a82be48",
   "metadata": {},
   "outputs": [],
   "source": [
    "trainCohort_Y = data_final_0_int[data_final_0_int.index.isin(trainCohort_X.index)].sort_values(by=['eid'])\n",
    "extCohort_Y = data_final_0_ext[data_final_0_ext.index.isin(extCohort_X.index)].sort_values(by=['eid'])\n",
    "traceCohort_Y = data_final_1[data_final_1.index.isin(traceCohort_X.index)].sort_values(by=['eid'])"
   ]
  },
  {
   "cell_type": "code",
   "execution_count": 50,
   "id": "0fda3a40",
   "metadata": {},
   "outputs": [
    {
     "data": {
      "text/plain": [
       "((73344, 173), (31444, 173), (3967, 173))"
      ]
     },
     "execution_count": 50,
     "metadata": {},
     "output_type": "execute_result"
    }
   ],
   "source": [
    "trainCohort_X.shape, extCohort_X.shape, traceCohort_X.shape"
   ]
  },
  {
   "cell_type": "code",
   "execution_count": 51,
   "id": "7947c5ce",
   "metadata": {},
   "outputs": [
    {
     "data": {
      "text/plain": [
       "((73344, 8), (31444, 8), (3967, 8))"
      ]
     },
     "execution_count": 51,
     "metadata": {},
     "output_type": "execute_result"
    }
   ],
   "source": [
    "trainCohort_Y.shape, extCohort_Y.shape, traceCohort_Y.shape"
   ]
  },
  {
   "cell_type": "code",
   "execution_count": null,
   "id": "733c065a",
   "metadata": {},
   "outputs": [],
   "source": []
  },
  {
   "cell_type": "code",
   "execution_count": null,
   "id": "22234e84",
   "metadata": {},
   "outputs": [],
   "source": []
  },
  {
   "cell_type": "markdown",
   "id": "09d5b38a",
   "metadata": {},
   "source": [
    "## CHAPTER 1: "
   ]
  },
  {
   "cell_type": "code",
   "execution_count": 52,
   "id": "f4631481",
   "metadata": {},
   "outputs": [],
   "source": [
    "trainCohort_X1 = trainCohort_X\n",
    "extCohort_X1 = extCohort_X\n",
    "traceCohort_X1 = traceCohort_X\n",
    "\n",
    "trainCohort_Y1 = trainCohort_Y\n",
    "extCohort_Y1 = extCohort_Y\n",
    "traceCohort_Y1 = traceCohort_Y "
   ]
  },
  {
   "cell_type": "code",
   "execution_count": 53,
   "id": "097b94b8",
   "metadata": {},
   "outputs": [
    {
     "name": "stderr",
     "output_type": "stream",
     "text": [
      "/var/folders/yf/w9tkbs3512s2h935hh0_xhpr0000gn/T/ipykernel_4738/823693964.py:5: SettingWithCopyWarning: \n",
      "A value is trying to be set on a copy of a slice from a DataFrame.\n",
      "Try using .loc[row_indexer,col_indexer] = value instead\n",
      "\n",
      "See the caveats in the documentation: https://pandas.pydata.org/pandas-docs/stable/user_guide/indexing.html#returning-a-view-versus-a-copy\n",
      "  dfs_X[x]['PastDiabetes'] = dfs_Y[x]['PastDiabetes']\n",
      "/var/folders/yf/w9tkbs3512s2h935hh0_xhpr0000gn/T/ipykernel_4738/823693964.py:6: SettingWithCopyWarning: \n",
      "A value is trying to be set on a copy of a slice from a DataFrame.\n",
      "Try using .loc[row_indexer,col_indexer] = value instead\n",
      "\n",
      "See the caveats in the documentation: https://pandas.pydata.org/pandas-docs/stable/user_guide/indexing.html#returning-a-view-versus-a-copy\n",
      "  dfs_X[x]['PastCVD'] = dfs_Y[x]['PastCVD']\n"
     ]
    }
   ],
   "source": [
    "dfs_X = [trainCohort_X1, extCohort_X1, traceCohort_X1]\n",
    "dfs_Y = [trainCohort_Y1, extCohort_Y1, traceCohort_Y1] \n",
    "\n",
    "for x in range(0,len(dfs_X)):\n",
    "    dfs_X[x]['PastDiabetes'] = dfs_Y[x]['PastDiabetes']\n",
    "    dfs_X[x]['PastCVD'] = dfs_Y[x]['PastCVD']"
   ]
  },
  {
   "cell_type": "code",
   "execution_count": 54,
   "id": "c01d5242",
   "metadata": {},
   "outputs": [],
   "source": [
    "DropCols = ['CVD',\n",
    "            'Depression',\n",
    "            'Diabetes',\n",
    "            'PastCVD',\n",
    "            'PastDiabetes',\n",
    "#            'target',\n",
    "            'visit0',\n",
    "            'visit1']"
   ]
  },
  {
   "cell_type": "code",
   "execution_count": 55,
   "id": "4a724d29",
   "metadata": {},
   "outputs": [],
   "source": [
    "# Drop the columns from the dataframes\n",
    "trainCohort_Y1 = trainCohort_Y1.drop(columns=[col for col in DropCols if col in trainCohort_Y1.columns])\n",
    "extCohort_Y1 = extCohort_Y1.drop(columns=[col for col in DropCols if col in extCohort_Y1.columns])\n",
    "traceCohort_Y1 = traceCohort_Y1.drop(columns=[col for col in DropCols if col in traceCohort_Y1.columns])"
   ]
  },
  {
   "cell_type": "code",
   "execution_count": 56,
   "id": "e0f31305",
   "metadata": {},
   "outputs": [
    {
     "data": {
      "text/plain": [
       "((73344, 175), (73344, 1))"
      ]
     },
     "execution_count": 56,
     "metadata": {},
     "output_type": "execute_result"
    }
   ],
   "source": [
    "trainCohort_X1.shape, trainCohort_Y1.shape"
   ]
  },
  {
   "cell_type": "code",
   "execution_count": 57,
   "id": "f8140c01",
   "metadata": {},
   "outputs": [
    {
     "data": {
      "text/plain": [
       "((31444, 175), (31444, 1))"
      ]
     },
     "execution_count": 57,
     "metadata": {},
     "output_type": "execute_result"
    }
   ],
   "source": [
    "extCohort_X1.shape, extCohort_Y1.shape"
   ]
  },
  {
   "cell_type": "code",
   "execution_count": 58,
   "id": "43c51838",
   "metadata": {},
   "outputs": [
    {
     "data": {
      "text/plain": [
       "((3967, 175), (3967, 1))"
      ]
     },
     "execution_count": 58,
     "metadata": {},
     "output_type": "execute_result"
    }
   ],
   "source": [
    "traceCohort_X1.shape, traceCohort_Y1.shape"
   ]
  },
  {
   "cell_type": "code",
   "execution_count": 59,
   "id": "dd189cd6",
   "metadata": {},
   "outputs": [],
   "source": [
    "PAT = '/Users/marinacamacho/Desktop/Master_I/Data_Final'\n",
    "DIS = \"Depression_1\""
   ]
  },
  {
   "cell_type": "code",
   "execution_count": 60,
   "id": "37c0cc63",
   "metadata": {},
   "outputs": [],
   "source": [
    "with open(f\"{PAT}/trainCohort_{DIS}\", \"wb\") as fp:\n",
    "    pickle.dump(trainCohort_X1, fp)\n",
    "with open(f\"{PAT}/trainLabels_{DIS}\", \"wb\") as fp:\n",
    "    pickle.dump(trainCohort_Y1, fp)\n",
    "\n",
    "with open(f\"{PAT}/externalCohort_{DIS}\", \"wb\") as fp:\n",
    "    pickle.dump(extCohort_X1, fp)\n",
    "with open(f\"{PAT}/externalLabels_{DIS}\", \"wb\") as fp:\n",
    "    pickle.dump(extCohort_Y1, fp)\n",
    "\n",
    "with open(f\"{PAT}/traceCohort_{DIS}\", \"wb\") as fp:\n",
    "    pickle.dump(traceCohort_X1, fp)\n",
    "with open(f\"{PAT}/traceLabels_{DIS}\", \"wb\") as fp:\n",
    "    pickle.dump(traceCohort_Y1, fp)"
   ]
  },
  {
   "cell_type": "code",
   "execution_count": 61,
   "id": "b6708305",
   "metadata": {},
   "outputs": [],
   "source": [
    "lista = list(trainCohort_X1[trainCohort_X1['PastCVD']==1].index)\n",
    "PastCVD = trainCohort_Y1[trainCohort_Y1.index.isin(lista)]"
   ]
  },
  {
   "cell_type": "code",
   "execution_count": 62,
   "id": "c510025a",
   "metadata": {},
   "outputs": [
    {
     "data": {
      "text/plain": [
       "0    12453\n",
       "1     1029\n",
       "Name: target, dtype: int64"
      ]
     },
     "execution_count": 62,
     "metadata": {},
     "output_type": "execute_result"
    }
   ],
   "source": [
    "PastCVD['target'].value_counts()"
   ]
  },
  {
   "cell_type": "code",
   "execution_count": 63,
   "id": "925efbd8",
   "metadata": {},
   "outputs": [
    {
     "data": {
      "text/plain": [
       "0    58407\n",
       "1    14937\n",
       "Name: target, dtype: int64"
      ]
     },
     "execution_count": 63,
     "metadata": {},
     "output_type": "execute_result"
    }
   ],
   "source": [
    "trainCohort_Y1['target'].value_counts()"
   ]
  },
  {
   "cell_type": "markdown",
   "id": "5533f1ba",
   "metadata": {},
   "source": [
    "## CHAPTER 2: "
   ]
  },
  {
   "cell_type": "code",
   "execution_count": 64,
   "id": "ec5af30f",
   "metadata": {},
   "outputs": [],
   "source": [
    "trainCohort_X2 = trainCohort_X\n",
    "extCohort_X2 = extCohort_X\n",
    "traceCohort_X2 = traceCohort_X\n",
    "\n",
    "trainCohort_Y2 = trainCohort_Y\n",
    "extCohort_Y2 = extCohort_Y\n",
    "traceCohort_Y2 = traceCohort_Y"
   ]
  },
  {
   "cell_type": "code",
   "execution_count": 65,
   "id": "5c6e7d5d",
   "metadata": {},
   "outputs": [],
   "source": [
    "dfs_X = [trainCohort_X2, extCohort_X2, traceCohort_X2]\n",
    "dfs_Y = [trainCohort_Y2, extCohort_Y2, traceCohort_Y2] "
   ]
  },
  {
   "cell_type": "code",
   "execution_count": 66,
   "id": "e383c035",
   "metadata": {},
   "outputs": [],
   "source": [
    "for x in range(0,len(dfs_X)):\n",
    "    #dfs_X[x] = dfs_X[x][dfs_X[x].index.isin(dfs_Y[x][dfs_Y[x]['PastCVD'] == 1].index )]\n",
    "    #dfs_Y[x] = dfs_Y[x][dfs_Y[x].index.isin(dfs_Y[x][dfs_Y[x]['PastCVD'] == 1].index )]\n",
    "    dfs_X[x] = dfs_X[x][dfs_X[x].index.isin(dfs_Y[x][dfs_Y[x]['PastDiabetes'] == 1].index )]\n",
    "    dfs_Y[x] = dfs_Y[x][dfs_Y[x].index.isin(dfs_Y[x][dfs_Y[x]['PastDiabetes'] == 1].index )]"
   ]
  },
  {
   "cell_type": "code",
   "execution_count": 67,
   "id": "7a08cf85",
   "metadata": {},
   "outputs": [
    {
     "data": {
      "text/plain": [
       "((73344, 175), (31444, 175), (3967, 175))"
      ]
     },
     "execution_count": 67,
     "metadata": {},
     "output_type": "execute_result"
    }
   ],
   "source": [
    "trainCohort_X2.shape, extCohort_X2.shape, traceCohort_X2.shape\n",
    "#((73344, 175), (31444, 175), (3967, 175))"
   ]
  },
  {
   "cell_type": "code",
   "execution_count": 68,
   "id": "a9df2cc2",
   "metadata": {},
   "outputs": [],
   "source": [
    "trainCohort_X2 = dfs_X[0]\n",
    "extCohort_X2 = dfs_X[1]\n",
    "traceCohort_X2 = dfs_X[2]\n",
    "\n",
    "trainCohort_Y2 = dfs_Y[0]\n",
    "extCohort_Y2 = dfs_Y[1]\n",
    "traceCohort_Y2 = dfs_Y[2]"
   ]
  },
  {
   "cell_type": "code",
   "execution_count": 69,
   "id": "648c7665",
   "metadata": {},
   "outputs": [
    {
     "data": {
      "text/plain": [
       "((5874, 175), (2379, 175), (249, 175))"
      ]
     },
     "execution_count": 69,
     "metadata": {},
     "output_type": "execute_result"
    }
   ],
   "source": [
    "trainCohort_X2.shape, extCohort_X2.shape, traceCohort_X2.shape\n",
    "#((13482, 175), (5619, 175), (682, 175))\n",
    "#((5874, 175), (2379, 175), (249, 175))"
   ]
  },
  {
   "cell_type": "code",
   "execution_count": 70,
   "id": "d1b61288",
   "metadata": {},
   "outputs": [
    {
     "data": {
      "text/plain": [
       "((5874, 8), (2379, 8), (249, 8))"
      ]
     },
     "execution_count": 70,
     "metadata": {},
     "output_type": "execute_result"
    }
   ],
   "source": [
    "trainCohort_Y2.shape, extCohort_Y2.shape, traceCohort_Y2.shape\n",
    "#((13482, 8), (5619, 8), (682, 8))\n",
    "#((5874, 8), (2379, 8), (249, 8))"
   ]
  },
  {
   "cell_type": "code",
   "execution_count": 71,
   "id": "c0d64c2b",
   "metadata": {},
   "outputs": [],
   "source": [
    "DropCols = ['CVD',\n",
    "            'Depression',\n",
    "            'Diabetes',\n",
    "            'PastCVD',\n",
    "            'PastDiabetes',\n",
    "#            'target',\n",
    "            'visit0',\n",
    "            'visit1']"
   ]
  },
  {
   "cell_type": "code",
   "execution_count": 72,
   "id": "2c572d84",
   "metadata": {},
   "outputs": [],
   "source": [
    "# Drop the columns from the dataframes\n",
    "trainCohort_Y2 = trainCohort_Y2.drop(columns=[col for col in DropCols if col in trainCohort_Y2.columns])\n",
    "extCohort_Y2 = extCohort_Y2.drop(columns=[col for col in DropCols if col in extCohort_Y2.columns])\n",
    "traceCohort_Y2 = traceCohort_Y2.drop(columns=[col for col in DropCols if col in traceCohort_Y2.columns])"
   ]
  },
  {
   "cell_type": "code",
   "execution_count": 73,
   "id": "78ee85a3",
   "metadata": {},
   "outputs": [],
   "source": [
    "DropCols = ['PastDiabetes']\n",
    "#DropCols = ['PastCVD']"
   ]
  },
  {
   "cell_type": "code",
   "execution_count": 74,
   "id": "6e49613a",
   "metadata": {},
   "outputs": [],
   "source": [
    "# Drop the columns from the dataframes\n",
    "trainCohort_X2 = trainCohort_X2.drop(columns=[col for col in DropCols if col in trainCohort_X2.columns])\n",
    "extCohort_X2 = extCohort_X2.drop(columns=[col for col in DropCols if col in extCohort_X2.columns])\n",
    "traceCohort_X2 = traceCohort_X2.drop(columns=[col for col in DropCols if col in traceCohort_X2.columns])"
   ]
  },
  {
   "cell_type": "code",
   "execution_count": 75,
   "id": "a0dd844c",
   "metadata": {},
   "outputs": [],
   "source": [
    "PAT = '/Users/marinacamacho/Desktop/Master_I/Data_Final'\n",
    "DIS = \"Diabetes_Depression_2\"\n",
    "#DIS = \"CVD_Depression_2\""
   ]
  },
  {
   "cell_type": "code",
   "execution_count": 76,
   "id": "6b5f1440",
   "metadata": {},
   "outputs": [],
   "source": [
    "with open(f\"{PAT}/trainCohort_{DIS}\", \"wb\") as fp:\n",
    "    pickle.dump(trainCohort_X2, fp)\n",
    "with open(f\"{PAT}/trainLabels_{DIS}\", \"wb\") as fp:\n",
    "    pickle.dump(trainCohort_Y2, fp)\n",
    "\n",
    "with open(f\"{PAT}/externalCohort_{DIS}\", \"wb\") as fp:\n",
    "    pickle.dump(extCohort_X2, fp)\n",
    "with open(f\"{PAT}/externalLabels_{DIS}\", \"wb\") as fp:\n",
    "    pickle.dump(extCohort_Y2, fp)\n",
    "\n",
    "with open(f\"{PAT}/traceCohort_{DIS}\", \"wb\") as fp:\n",
    "    pickle.dump(traceCohort_X2, fp)\n",
    "with open(f\"{PAT}/traceLabels_{DIS}\", \"wb\") as fp:\n",
    "    pickle.dump(traceCohort_Y2, fp)"
   ]
  },
  {
   "cell_type": "markdown",
   "id": "a64df257",
   "metadata": {},
   "source": [
    "## CHAPTER 3: "
   ]
  },
  {
   "cell_type": "code",
   "execution_count": 77,
   "id": "4bf580b1",
   "metadata": {},
   "outputs": [],
   "source": [
    "trainCohort_X3 = trainCohort_X\n",
    "extCohort_X3 = extCohort_X\n",
    "traceCohort_X3 = traceCohort_X\n",
    "\n",
    "trainCohort_Y3 = trainCohort_Y\n",
    "extCohort_Y3 = extCohort_Y\n",
    "traceCohort_Y3 = traceCohort_Y "
   ]
  },
  {
   "cell_type": "code",
   "execution_count": 78,
   "id": "dcd6728f",
   "metadata": {},
   "outputs": [
    {
     "name": "stderr",
     "output_type": "stream",
     "text": [
      "/var/folders/yf/w9tkbs3512s2h935hh0_xhpr0000gn/T/ipykernel_4738/2893240587.py:5: SettingWithCopyWarning: \n",
      "A value is trying to be set on a copy of a slice from a DataFrame.\n",
      "Try using .loc[row_indexer,col_indexer] = value instead\n",
      "\n",
      "See the caveats in the documentation: https://pandas.pydata.org/pandas-docs/stable/user_guide/indexing.html#returning-a-view-versus-a-copy\n",
      "  dfs_X[x]['PastDiabetes'] = dfs_Y[x]['PastDiabetes']\n",
      "/var/folders/yf/w9tkbs3512s2h935hh0_xhpr0000gn/T/ipykernel_4738/2893240587.py:6: SettingWithCopyWarning: \n",
      "A value is trying to be set on a copy of a slice from a DataFrame.\n",
      "Try using .loc[row_indexer,col_indexer] = value instead\n",
      "\n",
      "See the caveats in the documentation: https://pandas.pydata.org/pandas-docs/stable/user_guide/indexing.html#returning-a-view-versus-a-copy\n",
      "  dfs_X[x]['PastCVD'] = dfs_Y[x]['PastCVD']\n"
     ]
    }
   ],
   "source": [
    "dfs_X = [trainCohort_X3, extCohort_X3, traceCohort_X3]\n",
    "dfs_Y = [trainCohort_Y3, extCohort_Y3, traceCohort_Y3] \n",
    "\n",
    "for x in range(0,len(dfs_X)):\n",
    "    dfs_X[x]['PastDiabetes'] = dfs_Y[x]['PastDiabetes']\n",
    "    dfs_X[x]['PastCVD'] = dfs_Y[x]['PastCVD']"
   ]
  },
  {
   "cell_type": "code",
   "execution_count": 79,
   "id": "4c36d4b5",
   "metadata": {},
   "outputs": [],
   "source": [
    "DropCols = ['CVD',\n",
    "#            'Depression',\n",
    "            'Diabetes',\n",
    "            'PastCVD',\n",
    "            'PastDiabetes',\n",
    "#            'target',\n",
    "#            'visit0',\n",
    "            'visit1']\n",
    "# Drop the columns from the dataframes\n",
    "trainCohort_Y3 = trainCohort_Y3.drop(columns=[col for col in DropCols if col in trainCohort_Y3.columns])\n",
    "extCohort_Y3 = extCohort_Y3.drop(columns=[col for col in DropCols if col in extCohort_Y3.columns])"
   ]
  },
  {
   "cell_type": "code",
   "execution_count": 80,
   "id": "587bc3ed",
   "metadata": {},
   "outputs": [],
   "source": [
    "DropCols = ['CVD',\n",
    "#            'Depression',\n",
    "            'Diabetes',\n",
    "            'PastCVD',\n",
    "            'PastDiabetes',\n",
    "#            'target',\n",
    "            'visit0',\n",
    "#            'visit1'\n",
    "           ]\n",
    "# Drop the columns from the dataframes\n",
    "traceCohort_Y3 = traceCohort_Y3.drop(columns=[col for col in DropCols if col in traceCohort_Y3.columns])"
   ]
  },
  {
   "cell_type": "code",
   "execution_count": 81,
   "id": "5f5ba8b1",
   "metadata": {},
   "outputs": [],
   "source": [
    "PAT = '/Users/marinacamacho/Desktop/Master_I/Data_Final'\n",
    "DIS = \"Depression_3\""
   ]
  },
  {
   "cell_type": "code",
   "execution_count": 82,
   "id": "b174d69e",
   "metadata": {},
   "outputs": [],
   "source": [
    "with open(f\"{PAT}/trainCohort_{DIS}\", \"wb\") as fp:\n",
    "    pickle.dump(trainCohort_X3, fp)\n",
    "with open(f\"{PAT}/trainLabels_{DIS}\", \"wb\") as fp:\n",
    "    pickle.dump(trainCohort_Y3, fp)\n",
    "\n",
    "with open(f\"{PAT}/externalCohort_{DIS}\", \"wb\") as fp:\n",
    "    pickle.dump(extCohort_X3, fp)\n",
    "with open(f\"{PAT}/externalLabels_{DIS}\", \"wb\") as fp:\n",
    "    pickle.dump(extCohort_Y3, fp)\n",
    "\n",
    "with open(f\"{PAT}/traceCohort_{DIS}\", \"wb\") as fp:\n",
    "    pickle.dump(traceCohort_X3, fp)\n",
    "with open(f\"{PAT}/traceLabels_{DIS}\", \"wb\") as fp:\n",
    "    pickle.dump(traceCohort_Y3, fp)"
   ]
  },
  {
   "cell_type": "markdown",
   "id": "6ee5f65d",
   "metadata": {},
   "source": [
    "## CHAPTER 4: "
   ]
  },
  {
   "cell_type": "code",
   "execution_count": 83,
   "id": "b270b4a8",
   "metadata": {},
   "outputs": [],
   "source": [
    "DropCols = [#\"Ethnic\", \"Skin_colour\",#\"Assessment_centre\",#\"Sex\",\n",
    "            #\"Recurrent_moderate_depression\",\"Recurrent_severe_depression\", \"Single_depression_episode\",\n",
    "            \"Depressed_2weeks\", \"Ever_depressed_1week\", \"Longest_depression\", \"Number_depression\",\n",
    "            #'APOA', 'APOB','Cholesterol', 'CRP', 'Glucose', 'HbA1c', 'HDL', 'IGF_1',\n",
    "            #'Testosterone', 'Triglyceride', \n",
    "            'Seen_doctor', 'Seen_sychiatrist', 'Body_fat-free_mass','Body_fat_percentage',\n",
    "            'Assessment_centre']"
   ]
  },
  {
   "cell_type": "code",
   "execution_count": 84,
   "id": "bb15b03c",
   "metadata": {},
   "outputs": [
    {
     "name": "stderr",
     "output_type": "stream",
     "text": [
      "/opt/anaconda3/lib/python3.9/site-packages/pandas/util/_decorators.py:311: ParserWarning: Falling back to the 'python' engine because the 'c' engine does not support regex separators (separators > 1 char and different from '\\s+' are interpreted as regex); you can avoid this warning by specifying engine='python'.\n",
      "  return func(*args, **kwargs)\n"
     ]
    }
   ],
   "source": [
    "data4 = pd.read_csv(\"/Users/marinacamacho/Desktop/Master_I/Participants_Selection/wide_diseases_dates2.csv\",delimiter=\"\\,\")\n",
    "data4 = data4.set_index('eid')\n",
    "data4 = data4.sort_index(axis=1)"
   ]
  },
  {
   "cell_type": "code",
   "execution_count": 85,
   "id": "d8865ab9",
   "metadata": {},
   "outputs": [],
   "source": [
    "healthy4 = pd.read_csv(\"/Users/marinacamacho/Desktop/Master_I/Participants_Selection/Healthy_Participants.csv\",delimiter=\"\\,\")\n",
    "healthy4 = healthy4.set_index('eid')\n",
    "healthy4 = healthy4.sort_index(axis=1)\n",
    "dates4 = pd.read_csv(\"/Users/marinacamacho/Desktop/Master_I/Participants_Selection/Date_Centre.csv\",delimiter=\"\\,\")\n",
    "dates4 = dates4.set_index('eid')\n",
    "dates4 = dates4.sort_index(axis=1)\n",
    "healthy4 = healthy4.merge(dates4, left_index=True, right_index=True, how='inner')\n",
    "healthy4 = healthy4.dropna()\n",
    "healthy4['CVD'] = None\n",
    "healthy4['Depression'] = None\n",
    "healthy4['Diabetes'] = None\n",
    "healthy4['visit0'] = healthy4['date_centre_0']\n",
    "healthy4['visit1'] = healthy4['date_centre_1']\n",
    "del healthy4['date_centre_0']\n",
    "del healthy4['date_centre_1']"
   ]
  },
  {
   "cell_type": "code",
   "execution_count": 86,
   "id": "ec4d862c",
   "metadata": {},
   "outputs": [],
   "source": [
    "data4_Y = pd.concat([data4,healthy4],axis=0).sort_index(axis=1)"
   ]
  },
  {
   "cell_type": "code",
   "execution_count": 87,
   "id": "f4600b28",
   "metadata": {},
   "outputs": [],
   "source": [
    "for column in list(data4_Y.columns):\n",
    "        data4_Y[column] = pd.to_datetime(data4_Y[column])"
   ]
  },
  {
   "cell_type": "code",
   "execution_count": 88,
   "id": "c1b99bf1",
   "metadata": {},
   "outputs": [
    {
     "data": {
      "text/html": [
       "<div>\n",
       "<style scoped>\n",
       "    .dataframe tbody tr th:only-of-type {\n",
       "        vertical-align: middle;\n",
       "    }\n",
       "\n",
       "    .dataframe tbody tr th {\n",
       "        vertical-align: top;\n",
       "    }\n",
       "\n",
       "    .dataframe thead th {\n",
       "        text-align: right;\n",
       "    }\n",
       "</style>\n",
       "<table border=\"1\" class=\"dataframe\">\n",
       "  <thead>\n",
       "    <tr style=\"text-align: right;\">\n",
       "      <th></th>\n",
       "      <th>CVD</th>\n",
       "      <th>Depression</th>\n",
       "      <th>Diabetes</th>\n",
       "      <th>visit0</th>\n",
       "      <th>visit1</th>\n",
       "    </tr>\n",
       "    <tr>\n",
       "      <th>eid</th>\n",
       "      <th></th>\n",
       "      <th></th>\n",
       "      <th></th>\n",
       "      <th></th>\n",
       "      <th></th>\n",
       "    </tr>\n",
       "  </thead>\n",
       "  <tbody>\n",
       "    <tr>\n",
       "      <th>1004849</th>\n",
       "      <td>NaT</td>\n",
       "      <td>2019-08-29</td>\n",
       "      <td>1999-10-14</td>\n",
       "      <td>2008-06-20</td>\n",
       "      <td>2013-02-04</td>\n",
       "    </tr>\n",
       "    <tr>\n",
       "      <th>1006558</th>\n",
       "      <td>NaT</td>\n",
       "      <td>2014-09-01</td>\n",
       "      <td>NaT</td>\n",
       "      <td>2007-12-17</td>\n",
       "      <td>2013-01-30</td>\n",
       "    </tr>\n",
       "    <tr>\n",
       "      <th>1008230</th>\n",
       "      <td>NaT</td>\n",
       "      <td>1998-05-26</td>\n",
       "      <td>NaT</td>\n",
       "      <td>2007-06-25</td>\n",
       "      <td>2012-08-31</td>\n",
       "    </tr>\n",
       "    <tr>\n",
       "      <th>1008381</th>\n",
       "      <td>NaT</td>\n",
       "      <td>NaT</td>\n",
       "      <td>2011-01-10</td>\n",
       "      <td>2008-06-09</td>\n",
       "      <td>2012-11-01</td>\n",
       "    </tr>\n",
       "    <tr>\n",
       "      <th>1011321</th>\n",
       "      <td>NaT</td>\n",
       "      <td>2013-04-03</td>\n",
       "      <td>NaT</td>\n",
       "      <td>2008-03-03</td>\n",
       "      <td>2013-05-25</td>\n",
       "    </tr>\n",
       "  </tbody>\n",
       "</table>\n",
       "</div>"
      ],
      "text/plain": [
       "        CVD Depression   Diabetes     visit0     visit1\n",
       "eid                                                    \n",
       "1004849 NaT 2019-08-29 1999-10-14 2008-06-20 2013-02-04\n",
       "1006558 NaT 2014-09-01        NaT 2007-12-17 2013-01-30\n",
       "1008230 NaT 1998-05-26        NaT 2007-06-25 2012-08-31\n",
       "1008381 NaT        NaT 2011-01-10 2008-06-09 2012-11-01\n",
       "1011321 NaT 2013-04-03        NaT 2008-03-03 2013-05-25"
      ]
     },
     "execution_count": 88,
     "metadata": {},
     "output_type": "execute_result"
    }
   ],
   "source": [
    "data4_Y.head()"
   ]
  },
  {
   "cell_type": "code",
   "execution_count": 89,
   "id": "457152ad",
   "metadata": {},
   "outputs": [],
   "source": [
    "# Define function to get the required column value\n",
    "def get_time0(row):\n",
    "    conditions = [\n",
    "        row['Depression'] < row['visit0'],\n",
    "        row['CVD'] < row['visit0'],\n",
    "        row['Diabetes'] < row['visit0']\n",
    "    ]\n",
    "\n",
    "    if all(conditions):\n",
    "        return 'Depression-Diabetes-CVD'\n",
    "    elif conditions[0] and conditions[1]:\n",
    "        return 'Depression-CVD'\n",
    "    elif conditions[0] and conditions[2]:\n",
    "        return 'Depression-Diabetes'\n",
    "    elif conditions[1] and conditions[2]:\n",
    "        return 'CVD-Diabetes'\n",
    "    elif conditions[0]:\n",
    "        return 'Depression'\n",
    "    elif conditions[1]:\n",
    "        return 'CVD'    \n",
    "    elif conditions[2]:\n",
    "        return 'Diabetes'\n",
    "    else:\n",
    "        return '-'"
   ]
  },
  {
   "cell_type": "code",
   "execution_count": 90,
   "id": "bd49a2c5",
   "metadata": {},
   "outputs": [],
   "source": [
    "# Define function to get the required column value\n",
    "def get_time1(row):\n",
    "    conditions = [\n",
    "        row['Depression'] >= row['visit0'],\n",
    "        row['CVD'] >= row['visit0'],\n",
    "        row['Diabetes'] >= row['visit0'],\n",
    "        row['Depression'] <= row['visit1'],\n",
    "        row['CVD'] <= row['visit1'],\n",
    "        row['Diabetes'] <= row['visit1'],\n",
    "    ]\n",
    "\n",
    "    if all(conditions):\n",
    "        return 'Depression-Diabetes-CVD'\n",
    "    elif conditions[0] and conditions[1] and conditions[3] and conditions[4]:\n",
    "        return 'Depression-CVD'\n",
    "    elif conditions[0] and conditions[2] and conditions[3] and conditions[5]:\n",
    "        return 'Depression-Diabetes'\n",
    "    elif conditions[1] and conditions[2] and conditions[4] and conditions[5]:\n",
    "        return 'CVD-Diabetes'\n",
    "    elif conditions[0] and conditions[3]:\n",
    "        return 'Depression'\n",
    "    elif conditions[1] and conditions[4]:\n",
    "        return 'CVD'    \n",
    "    elif conditions[2] and conditions[5]:\n",
    "        return 'Diabetes'\n",
    "    else:\n",
    "        return '-'"
   ]
  },
  {
   "cell_type": "code",
   "execution_count": 91,
   "id": "17fa7493",
   "metadata": {},
   "outputs": [],
   "source": [
    "# Define function to get the required column value\n",
    "def get_time2(row):\n",
    "    conditions = [\n",
    "        row['Depression'] > row['visit1'],\n",
    "        row['CVD'] > row['visit1'],\n",
    "        row['Diabetes'] > row['visit1']\n",
    "    ]\n",
    "\n",
    "    if all(conditions):\n",
    "        return 'Depression-Diabetes-CVD'\n",
    "    elif conditions[0] and conditions[1]:\n",
    "        return 'Depression-CVD'\n",
    "    elif conditions[0] and conditions[2]:\n",
    "        return 'Depression-Diabetes'\n",
    "    elif conditions[1] and conditions[2]:\n",
    "        return 'CVD-Diabetes'\n",
    "    elif conditions[0]:\n",
    "        return 'Depression'\n",
    "    elif conditions[1]:\n",
    "        return 'CVD'\n",
    "    elif conditions[2]:\n",
    "        return 'Diabetes'\n",
    "    else:\n",
    "        return '-'"
   ]
  },
  {
   "cell_type": "code",
   "execution_count": 92,
   "id": "e625a1cd",
   "metadata": {},
   "outputs": [],
   "source": [
    "data4_Y['Time0'] = data4_Y.apply(get_time0, axis=1)\n",
    "data4_Y['Time1'] = data4_Y.apply(get_time1, axis=1)\n",
    "data4_Y['Time2'] = data4_Y.apply(get_time2, axis=1)"
   ]
  },
  {
   "cell_type": "code",
   "execution_count": 93,
   "id": "71b2b6fe",
   "metadata": {},
   "outputs": [],
   "source": [
    "# Exposome data\n",
    "df_expo4 = pd.read_csv(f'{LOAD}/Time_0/ext_exposome_0.csv', usecols=lambda col: col not in DropCols)\n",
    "df_expo4 = df_expo4.set_index('f.eid')\n",
    "df_expo4.index.name = 'eid'"
   ]
  },
  {
   "cell_type": "code",
   "execution_count": 94,
   "id": "9f577014",
   "metadata": {},
   "outputs": [],
   "source": [
    "data4_X = df_expo4[df_expo4.index.isin(data4_Y.index)].sort_values(by=['eid'])\n",
    "data4_Y = data4_Y[data4_Y.index.isin(data4_X.index)].sort_values(by=['eid'])"
   ]
  },
  {
   "cell_type": "code",
   "execution_count": 95,
   "id": "cd6c7af8",
   "metadata": {},
   "outputs": [],
   "source": [
    "# Step 1: Remove constant columns\n",
    "data4_X = data4_X.loc[:, data4_X.nunique() > 1]\n",
    "\n",
    "# Step 2: Remove rows with more than 30% missing values\n",
    "threshold_row = 0.7 * len(data4_X.columns)\n",
    "data4_X = data4_X.dropna(thresh=threshold_row)\n",
    "\n",
    "# Step 3: Remove columns with more than 30% missing values\n",
    "threshold_col = 0.7 * len(data4_X)\n",
    "data4_X = data4_X.dropna(axis=1, thresh=threshold_col)"
   ]
  },
  {
   "cell_type": "code",
   "execution_count": 96,
   "id": "23a0065d",
   "metadata": {},
   "outputs": [
    {
     "data": {
      "text/plain": [
       "((6591, 166), (6718, 8))"
      ]
     },
     "execution_count": 96,
     "metadata": {},
     "output_type": "execute_result"
    }
   ],
   "source": [
    "data4_X.shape, data4_Y.shape"
   ]
  },
  {
   "cell_type": "code",
   "execution_count": 97,
   "id": "19f20cbb",
   "metadata": {},
   "outputs": [],
   "source": [
    "PAT = '/Users/marinacamacho/Desktop/Master_I/Data_Final'\n",
    "DIS = \"Depression_4\""
   ]
  },
  {
   "cell_type": "code",
   "execution_count": 98,
   "id": "a7dbcae8",
   "metadata": {},
   "outputs": [],
   "source": [
    "with open(f\"{PAT}/trainCohort_{DIS}\", \"wb\") as fp:\n",
    "    pickle.dump(data4_X, fp)\n",
    "with open(f\"{PAT}/trainLabels_{DIS}\", \"wb\") as fp:\n",
    "    pickle.dump(data4_Y, fp)"
   ]
  },
  {
   "cell_type": "code",
   "execution_count": 99,
   "id": "9e3a1cda",
   "metadata": {},
   "outputs": [],
   "source": [
    "with open(f\"{PAT}/trainLabels_{DIS}\", \"rb\") as fp:\n",
    "    data4_Y = pickle.load(fp)"
   ]
  },
  {
   "cell_type": "code",
   "execution_count": 107,
   "id": "0a4f8fd0",
   "metadata": {},
   "outputs": [],
   "source": [
    "earlycause = data4_X.iloc[:,:3]"
   ]
  },
  {
   "cell_type": "code",
   "execution_count": 109,
   "id": "7e168ea4",
   "metadata": {},
   "outputs": [],
   "source": [
    "alluvia = pd.concat([data4_Y,earlycause], axis=1)\n",
    "columns_to_check = ['Breastfed_baby', 'Adopted_child', 'Maternal_smoking_around_birth']\n",
    "alluvia = alluvia.dropna(subset=columns_to_check)"
   ]
  },
  {
   "cell_type": "code",
   "execution_count": 110,
   "id": "c98451ef",
   "metadata": {},
   "outputs": [],
   "source": [
    "alluvia.to_csv(r'/Users/marinacamacho/Desktop/Master_I/Modelling/Alluvia_data4.csv', index = True, header=True)"
   ]
  },
  {
   "cell_type": "code",
   "execution_count": 9,
   "id": "f968c80a",
   "metadata": {},
   "outputs": [
    {
     "data": {
      "text/plain": [
       "'/Users/marinacamacho/Desktop/Master_I/Modelling'"
      ]
     },
     "execution_count": 9,
     "metadata": {},
     "output_type": "execute_result"
    }
   ],
   "source": [
    "pwd"
   ]
  },
  {
   "cell_type": "markdown",
   "id": "7d8a00e7",
   "metadata": {},
   "source": [
    "## CHAPTER 5: "
   ]
  },
  {
   "cell_type": "code",
   "execution_count": 91,
   "id": "6cb2cbd7",
   "metadata": {},
   "outputs": [],
   "source": [
    "data5_X = data4_X\n",
    "data5_Y = data4_Y"
   ]
  },
  {
   "cell_type": "code",
   "execution_count": 92,
   "id": "ff6f53a2",
   "metadata": {},
   "outputs": [],
   "source": [
    "data5_Y['Breastfed baby'] = data5_X['Breastfed_baby']\n",
    "data5_Y['Adopted child'] = data5_X['Adopted_child']\n",
    "data5_Y['Maternal smoking around birth'] = data5_X['Maternal_smoking_around_birth']"
   ]
  },
  {
   "cell_type": "code",
   "execution_count": 93,
   "id": "051278e6",
   "metadata": {},
   "outputs": [],
   "source": [
    "del data5_X['Breastfed_baby']\n",
    "del data5_X['Adopted_child']\n",
    "del data5_X['Maternal_smoking_around_birth']"
   ]
  },
  {
   "cell_type": "code",
   "execution_count": 94,
   "id": "4c46458a",
   "metadata": {},
   "outputs": [],
   "source": [
    "PAT = '/Users/marinacamacho/Desktop/Master_I/Data_Final'\n",
    "DIS = \"Depression_5\"\n",
    "with open(f\"{PAT}/trainCohort_{DIS}\", \"wb\") as fp:\n",
    "    pickle.dump(data5_X, fp)\n",
    "with open(f\"{PAT}/trainLabels_{DIS}\", \"wb\") as fp:\n",
    "    pickle.dump(data5_Y, fp)"
   ]
  },
  {
   "cell_type": "code",
   "execution_count": 95,
   "id": "d865c171",
   "metadata": {},
   "outputs": [
    {
     "data": {
      "text/plain": [
       "['Sex',\n",
       " 'Waist_circumference',\n",
       " 'Hip_circumference',\n",
       " 'Sleep_duration',\n",
       " 'Nap_during_day',\n",
       " 'Sleeplessness',\n",
       " 'Daytime_dozing/sleeping',\n",
       " 'Current_smoking',\n",
       " 'Past_smoking',\n",
       " 'Cooked_vegetable_intake',\n",
       " 'Salad/raw_vegetable_intake',\n",
       " 'Fresh_fruit_intake',\n",
       " 'Dried_fruit_intake',\n",
       " 'Oily_fish_intake',\n",
       " 'Non_oily_fish_intake',\n",
       " 'Processed_meat_intake',\n",
       " 'Poultry_intake',\n",
       " 'Beef_intake',\n",
       " 'Lamb/mutton_intake',\n",
       " 'Pork_intake',\n",
       " 'Cheese_intake',\n",
       " 'Bread_intake',\n",
       " 'Cereal_intake',\n",
       " 'Salt_added',\n",
       " 'Tea_intake',\n",
       " 'Water_intake',\n",
       " 'Dietary_changes_5years',\n",
       " 'Variation_diet',\n",
       " 'Unenthusiasm_2weeks',\n",
       " 'Tenseness_2weeks',\n",
       " 'Tiredness_2weeks',\n",
       " 'Drinker_status',\n",
       " 'Ethnic',\n",
       " 'BMI',\n",
       " 'White',\n",
       " 'Brown',\n",
       " 'WholeMealgrain',\n",
       " 'OtherBread',\n",
       " 'Full_cream',\n",
       " 'Semi-skimmed',\n",
       " 'Skimmed',\n",
       " 'Soya',\n",
       " 'Other_type_of_milk',\n",
       " 'Never/rarely_have_milk',\n",
       " 'Butter/spreadable_butter',\n",
       " 'Flora_Pro-Active/Benecol',\n",
       " 'Other_type_of_spread/margarine',\n",
       " 'Never/rarely_use_spread',\n",
       " 'Bran_cereal',\n",
       " 'Biscuit_cereal',\n",
       " 'Oat_cereal',\n",
       " 'Muesli',\n",
       " 'Other_cereal',\n",
       " 'Decaffeinated_coffee',\n",
       " 'Instant_coffee',\n",
       " 'Ground_coffee',\n",
       " 'Other_coffee',\n",
       " 'House/bungalow',\n",
       " 'Flat/maisonette/apartment',\n",
       " 'Mobile/temporary_structure',\n",
       " 'Sheltered_accommodation',\n",
       " 'Care_home',\n",
       " 'Sheltered_accommodation/temporary_structure',\n",
       " 'Bipolar_I_Disorder',\n",
       " 'Bipolar_II_Disorder',\n",
       " 'Recurrent_severe_depression',\n",
       " 'Recurrent_moderate_depression',\n",
       " 'Single_depression_episode',\n",
       " 'University',\n",
       " 'A/AS',\n",
       " 'O/GCSE',\n",
       " 'CSE',\n",
       " 'NVQ/HND/HNC',\n",
       " 'Professional',\n",
       " 'Own_outright',\n",
       " 'Own_mortgage',\n",
       " 'Rent_local',\n",
       " 'Rent_private',\n",
       " 'Pay_rent_mortgage',\n",
       " 'Rent_free',\n",
       " 'Paid_employment',\n",
       " 'Retired',\n",
       " 'Looking_after_home',\n",
       " 'Unable_to_work',\n",
       " 'Unemployed',\n",
       " 'Unpaid_work',\n",
       " 'Student',\n",
       " 'Standing_height',\n",
       " 'Fasting_time',\n",
       " 'Number_cancers',\n",
       " 'Number_operation',\n",
       " 'Frequency_friend_family_visits',\n",
       " 'Time_outdoors_summer',\n",
       " 'Time_outdoors_winter',\n",
       " 'Length_phone_use',\n",
       " 'Weekly_phone_use',\n",
       " 'Difference_phone_use',\n",
       " 'Getting_up_in_morning',\n",
       " 'Morning_evening_person',\n",
       " 'Snoring',\n",
       " 'Coffee_intake',\n",
       " 'Skin_colour',\n",
       " 'Mood_swings',\n",
       " 'Miserableness',\n",
       " 'Irritability',\n",
       " 'Sensitivity',\n",
       " 'Fed-up_feelings',\n",
       " 'Nervous_feelings',\n",
       " 'Worrier/Anxious_feelings',\n",
       " 'Tense',\n",
       " 'Worry_too_long_after_embarrassment',\n",
       " 'Suffer_from_nerves',\n",
       " 'Loneliness_isolation',\n",
       " 'Guilty_feelings',\n",
       " 'Risk_taking',\n",
       " 'Able_to_confide',\n",
       " 'Overall_health_rating',\n",
       " 'Plays_computer_games',\n",
       " 'Hearing_difficulty/problems',\n",
       " 'Use_of_sun/uv_protection',\n",
       " 'Frequency_of_solarium/sunlamp',\n",
       " 'Cancer_diagnosed_by_doctor',\n",
       " 'Fractured/broken_bones',\n",
       " 'Other_serious_condition',\n",
       " 'Mean_time_to_identify_matches',\n",
       " 'Weight',\n",
       " 'Bleeding_gums',\n",
       " 'Dentures',\n",
       " 'Prostate_cancer_F',\n",
       " 'Severe_depression_F',\n",
       " 'Parkinson_disease_F',\n",
       " 'Alzheimer_disease/dementia_F',\n",
       " 'Diabetes_F',\n",
       " 'High_blood_pressure_F',\n",
       " 'Chronic_bronchitis/emphysema_F',\n",
       " 'Bowel_cancer_F',\n",
       " 'Lung_cancer_F',\n",
       " 'Stroke_F',\n",
       " 'Heart_disease_F',\n",
       " 'Severe_depression_M',\n",
       " 'Parkinson_disease_M',\n",
       " 'Alzheimer_disease/dementia_M',\n",
       " 'Diabetes_M',\n",
       " 'High_blood_pressure_M',\n",
       " 'Chronic_bronchitis/emphysema_M',\n",
       " 'Breast_cancer_M',\n",
       " 'Bowel_cancer_M',\n",
       " 'Lung_cancer_M',\n",
       " 'Stroke_M',\n",
       " 'Heart_disease_M',\n",
       " 'Prostate_cancer_S',\n",
       " 'Severe_depression_S',\n",
       " 'Parkinson_disease_S',\n",
       " 'Alzheimer_disease/dementia_S',\n",
       " 'Diabetes_S',\n",
       " 'High_blood_pressure_S',\n",
       " 'Chronic_bronchitis/emphysema_S',\n",
       " 'Breast_cancer_S',\n",
       " 'Bowel_cancer_S',\n",
       " 'Lung_cancer_S',\n",
       " 'Stroke_S',\n",
       " 'Heart_disease_S']"
      ]
     },
     "execution_count": 95,
     "metadata": {},
     "output_type": "execute_result"
    }
   ],
   "source": [
    "list(data4_X.columns)"
   ]
  },
  {
   "cell_type": "code",
   "execution_count": null,
   "id": "90ec2fcb",
   "metadata": {},
   "outputs": [],
   "source": []
  }
 ],
 "metadata": {
  "kernelspec": {
   "display_name": "Python 3 (ipykernel)",
   "language": "python",
   "name": "python3"
  },
  "language_info": {
   "codemirror_mode": {
    "name": "ipython",
    "version": 3
   },
   "file_extension": ".py",
   "mimetype": "text/x-python",
   "name": "python",
   "nbconvert_exporter": "python",
   "pygments_lexer": "ipython3",
   "version": "3.9.7"
  }
 },
 "nbformat": 4,
 "nbformat_minor": 5
}
